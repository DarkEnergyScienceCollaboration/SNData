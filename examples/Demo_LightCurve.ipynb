{
 "cells": [
  {
   "cell_type": "markdown",
   "metadata": {},
   "source": [
    "#  The LightCurve class"
   ]
  },
  {
   "cell_type": "markdown",
   "metadata": {},
   "source": [
    "##  Background\n",
    "#### What kind of physical data are we representing and what do these quantities mean?"
   ]
  },
  {
   "cell_type": "markdown",
   "metadata": {},
   "source": [
    "Astrophysical variable sources including transients like supernovae are sources that are (roughly) fixed in position but change appreciably at human time scales, such that their measurements at different points of time in a survey are expected to be different. The key science of such sources has to do with interpreting such data.\n",
    "\n",
    "In a photometric or imaging survey, the raw data associated with such measurements is in the form of a time series of images, along with metadata. This is often extracted into a catalog summarizing the inferred brightness of the source in the filter band and the uncertainties of the inferred. The uncertainties in this process are dominated by the sky noise which is Poisson distributed to a good approximation. Hence, the format of this recorded data is usually of the form"
   ]
  },
  {
   "cell_type": "markdown",
   "metadata": {},
   "source": [
    "`timestamp`, `flux`, `flux uncertainty`, `zero point`, `magnitude system`"
   ]
  },
  {
   "cell_type": "markdown",
   "metadata": {},
   "source": [
    "Note that the `flux` is really the band flux obtained in a filter band"
   ]
  },
  {
   "cell_type": "markdown",
   "metadata": {},
   "source": [
    "The `zero point`, and `magnitude system` are methods of specifying the units of the reported `flux`, and `flux uncertainty`. `flux` may be reported so that the following equation with `bandflux` and `std_bandflux` in the same physical units holds. The `std_bandflux` depends on the transmissions and the magnitude system used."
   ]
  },
  {
   "cell_type": "markdown",
   "metadata": {},
   "source": [
    "bandmag := -2.5 log10(bandflux / std_bandflux) = -2.5 log10(flux) + zero point"
   ]
  },
  {
   "cell_type": "markdown",
   "metadata": {},
   "source": [
    "so that a zero point of zero, implies that `flux` is `bandflux` in units of `std_bandflux`"
   ]
  },
  {
   "cell_type": "markdown",
   "metadata": {},
   "source": [
    "## Desired Functionality"
   ]
  },
  {
   "cell_type": "markdown",
   "metadata": {},
   "source": [
    "the `LightCurve` class is meant to be a standard internal representation of this kind of catalog data in our software. This means that \n",
    "- given a different format/model of data, we will first convert it into an instance of this class.\n",
    "- All our calculations will be defined on instances of this class\n",
    "- We should have write methods to convert the instances of this class to useful formats for serialization."
   ]
  },
  {
   "cell_type": "markdown",
   "metadata": {},
   "source": [
    "## Structure"
   ]
  },
  {
   "cell_type": "code",
   "execution_count": 1,
   "metadata": {
    "collapsed": false
   },
   "outputs": [
    {
     "name": "stdout",
     "output_type": "stream",
     "text": [
      "This requires a THROUGHPUTS directory to be setup as an env var\n",
      "\n",
      "This may be achieved, for example, by setting up the LSST stack\n",
      "\n",
      "or by cloning the throughputs directory from git-lfs, \n",
      "\n",
      "and setting up env vars. The function is to provide the LSST bandpass\n",
      "\n",
      "files\n",
      "\n",
      "/Users/rbiswas/doc/projects/DESC/SNData/sndata/__init__.pyc\n"
     ]
    }
   ],
   "source": [
    "import sncosmo\n",
    "#import analyzeSN as ans\n",
    "import sndata as snd\n",
    "import numpy as np\n",
    "import sndata\n",
    "print(sndata.__file__)"
   ]
  },
  {
   "cell_type": "code",
   "execution_count": 2,
   "metadata": {
    "collapsed": false
   },
   "outputs": [],
   "source": [
    "%matplotlib inline\n",
    "import matplotlib.pyplot as plt\n",
    "import seaborn as sns\n",
    "sns.set()"
   ]
  },
  {
   "cell_type": "markdown",
   "metadata": {},
   "source": [
    "#### Instantiation\n",
    "\n",
    "The class is instantiated using a constructor that has a mandatory input of a dataframe. and optional inputs. The dataframe must contain the light curve information, and the minimum set of columns required are:\n",
    "`mjd`, `band`, `flux`, `flux_err`, `zp`, `zpsys` or recognized aliases. Here, we load some data and demonstrate this"
   ]
  },
  {
   "cell_type": "code",
   "execution_count": 3,
   "metadata": {
    "collapsed": false
   },
   "outputs": [
    {
     "data": {
      "text/html": [
       "<div>\n",
       "<table border=\"1\" class=\"dataframe\">\n",
       "  <thead>\n",
       "    <tr style=\"text-align: right;\">\n",
       "      <th></th>\n",
       "      <th>time</th>\n",
       "      <th>band</th>\n",
       "      <th>flux</th>\n",
       "      <th>fluxerr</th>\n",
       "      <th>zp</th>\n",
       "      <th>zpsys</th>\n",
       "    </tr>\n",
       "  </thead>\n",
       "  <tbody>\n",
       "    <tr>\n",
       "      <th>0</th>\n",
       "      <td>55070.000000</td>\n",
       "      <td>sdssg</td>\n",
       "      <td>0.363512</td>\n",
       "      <td>0.672844</td>\n",
       "      <td>25.0</td>\n",
       "      <td>ab</td>\n",
       "    </tr>\n",
       "    <tr>\n",
       "      <th>1</th>\n",
       "      <td>55072.051282</td>\n",
       "      <td>sdssr</td>\n",
       "      <td>-0.200801</td>\n",
       "      <td>0.672844</td>\n",
       "      <td>25.0</td>\n",
       "      <td>ab</td>\n",
       "    </tr>\n",
       "    <tr>\n",
       "      <th>2</th>\n",
       "      <td>55074.102564</td>\n",
       "      <td>sdssi</td>\n",
       "      <td>0.307494</td>\n",
       "      <td>0.672844</td>\n",
       "      <td>25.0</td>\n",
       "      <td>ab</td>\n",
       "    </tr>\n",
       "    <tr>\n",
       "      <th>3</th>\n",
       "      <td>55076.153846</td>\n",
       "      <td>sdssz</td>\n",
       "      <td>1.087761</td>\n",
       "      <td>0.672844</td>\n",
       "      <td>25.0</td>\n",
       "      <td>ab</td>\n",
       "    </tr>\n",
       "    <tr>\n",
       "      <th>4</th>\n",
       "      <td>55078.205128</td>\n",
       "      <td>sdssg</td>\n",
       "      <td>-0.436679</td>\n",
       "      <td>0.672844</td>\n",
       "      <td>25.0</td>\n",
       "      <td>ab</td>\n",
       "    </tr>\n",
       "  </tbody>\n",
       "</table>\n",
       "</div>"
      ],
      "text/plain": [
       "           time   band      flux   fluxerr    zp zpsys\n",
       "0  55070.000000  sdssg  0.363512  0.672844  25.0    ab\n",
       "1  55072.051282  sdssr -0.200801  0.672844  25.0    ab\n",
       "2  55074.102564  sdssi  0.307494  0.672844  25.0    ab\n",
       "3  55076.153846  sdssz  1.087761  0.672844  25.0    ab\n",
       "4  55078.205128  sdssg -0.436679  0.672844  25.0    ab"
      ]
     },
     "execution_count": 3,
     "metadata": {},
     "output_type": "execute_result"
    }
   ],
   "source": [
    "ex_data = sncosmo.load_example_data().to_pandas()\n",
    "ex_data.head()"
   ]
  },
  {
   "cell_type": "markdown",
   "metadata": {},
   "source": [
    "This was a SNCosmo example dataset, loaded into `pandas.DataFrame`. Note that the column representing temporal information is `time`. Now, we will use this to instantiate our class."
   ]
  },
  {
   "cell_type": "code",
   "execution_count": 4,
   "metadata": {
    "collapsed": false
   },
   "outputs": [],
   "source": [
    "lc = snd.LightCurve(ex_data)"
   ]
  },
  {
   "cell_type": "markdown",
   "metadata": {},
   "source": [
    "We get the representation in our convention by accessing the attribute `lightCurve`, which is a dataFrame with columns of the standard name. It could have more columns, but the minimal columns have to be there. If we supplied a dataFrame without having the minimal number of columns, it will raise a `valueError`, as described later. From the `lightCurve` attribute, we note that `time` has changed to our standard name `mjd`"
   ]
  },
  {
   "cell_type": "code",
   "execution_count": 5,
   "metadata": {
    "collapsed": false
   },
   "outputs": [
    {
     "data": {
      "text/html": [
       "<div>\n",
       "<table border=\"1\" class=\"dataframe\">\n",
       "  <thead>\n",
       "    <tr style=\"text-align: right;\">\n",
       "      <th></th>\n",
       "      <th>mjd</th>\n",
       "      <th>band</th>\n",
       "      <th>flux</th>\n",
       "      <th>fluxerr</th>\n",
       "      <th>zp</th>\n",
       "      <th>zpsys</th>\n",
       "    </tr>\n",
       "  </thead>\n",
       "  <tbody>\n",
       "    <tr>\n",
       "      <th>0</th>\n",
       "      <td>55070.000000</td>\n",
       "      <td>sdssg</td>\n",
       "      <td>0.363512</td>\n",
       "      <td>0.672844</td>\n",
       "      <td>25.0</td>\n",
       "      <td>ab</td>\n",
       "    </tr>\n",
       "    <tr>\n",
       "      <th>1</th>\n",
       "      <td>55072.051282</td>\n",
       "      <td>sdssr</td>\n",
       "      <td>-0.200801</td>\n",
       "      <td>0.672844</td>\n",
       "      <td>25.0</td>\n",
       "      <td>ab</td>\n",
       "    </tr>\n",
       "    <tr>\n",
       "      <th>2</th>\n",
       "      <td>55074.102564</td>\n",
       "      <td>sdssi</td>\n",
       "      <td>0.307494</td>\n",
       "      <td>0.672844</td>\n",
       "      <td>25.0</td>\n",
       "      <td>ab</td>\n",
       "    </tr>\n",
       "    <tr>\n",
       "      <th>3</th>\n",
       "      <td>55076.153846</td>\n",
       "      <td>sdssz</td>\n",
       "      <td>1.087761</td>\n",
       "      <td>0.672844</td>\n",
       "      <td>25.0</td>\n",
       "      <td>ab</td>\n",
       "    </tr>\n",
       "    <tr>\n",
       "      <th>4</th>\n",
       "      <td>55078.205128</td>\n",
       "      <td>sdssg</td>\n",
       "      <td>-0.436679</td>\n",
       "      <td>0.672844</td>\n",
       "      <td>25.0</td>\n",
       "      <td>ab</td>\n",
       "    </tr>\n",
       "  </tbody>\n",
       "</table>\n",
       "</div>"
      ],
      "text/plain": [
       "            mjd   band      flux   fluxerr    zp zpsys\n",
       "0  55070.000000  sdssg  0.363512  0.672844  25.0    ab\n",
       "1  55072.051282  sdssr -0.200801  0.672844  25.0    ab\n",
       "2  55074.102564  sdssi  0.307494  0.672844  25.0    ab\n",
       "3  55076.153846  sdssz  1.087761  0.672844  25.0    ab\n",
       "4  55078.205128  sdssg -0.436679  0.672844  25.0    ab"
      ]
     },
     "execution_count": 5,
     "metadata": {},
     "output_type": "execute_result"
    }
   ],
   "source": [
    "lc.lightCurve.head()"
   ]
  },
  {
   "cell_type": "markdown",
   "metadata": {},
   "source": [
    "What would have happened if an essential column was missing? to check let us do the following:\n",
    "   - We create a dataframe like the above, but remove the essential column band\n",
    "   - We attempt to create an instance of the LightCurve class"
   ]
  },
  {
   "cell_type": "code",
   "execution_count": 14,
   "metadata": {
    "collapsed": false
   },
   "outputs": [
    {
     "data": {
      "text/html": [
       "<div>\n",
       "<table border=\"1\" class=\"dataframe\">\n",
       "  <thead>\n",
       "    <tr style=\"text-align: right;\">\n",
       "      <th></th>\n",
       "      <th>mjd</th>\n",
       "      <th>flux</th>\n",
       "      <th>fluxerr</th>\n",
       "      <th>zp</th>\n",
       "      <th>zpsys</th>\n",
       "    </tr>\n",
       "  </thead>\n",
       "  <tbody>\n",
       "    <tr>\n",
       "      <th>0</th>\n",
       "      <td>55070.000000</td>\n",
       "      <td>0.363512</td>\n",
       "      <td>0.672844</td>\n",
       "      <td>25.0</td>\n",
       "      <td>ab</td>\n",
       "    </tr>\n",
       "    <tr>\n",
       "      <th>1</th>\n",
       "      <td>55072.051282</td>\n",
       "      <td>-0.200801</td>\n",
       "      <td>0.672844</td>\n",
       "      <td>25.0</td>\n",
       "      <td>ab</td>\n",
       "    </tr>\n",
       "    <tr>\n",
       "      <th>2</th>\n",
       "      <td>55074.102564</td>\n",
       "      <td>0.307494</td>\n",
       "      <td>0.672844</td>\n",
       "      <td>25.0</td>\n",
       "      <td>ab</td>\n",
       "    </tr>\n",
       "    <tr>\n",
       "      <th>3</th>\n",
       "      <td>55076.153846</td>\n",
       "      <td>1.087761</td>\n",
       "      <td>0.672844</td>\n",
       "      <td>25.0</td>\n",
       "      <td>ab</td>\n",
       "    </tr>\n",
       "    <tr>\n",
       "      <th>4</th>\n",
       "      <td>55078.205128</td>\n",
       "      <td>-0.436679</td>\n",
       "      <td>0.672844</td>\n",
       "      <td>25.0</td>\n",
       "      <td>ab</td>\n",
       "    </tr>\n",
       "  </tbody>\n",
       "</table>\n",
       "</div>"
      ],
      "text/plain": [
       "            mjd      flux   fluxerr    zp zpsys\n",
       "0  55070.000000  0.363512  0.672844  25.0    ab\n",
       "1  55072.051282 -0.200801  0.672844  25.0    ab\n",
       "2  55074.102564  0.307494  0.672844  25.0    ab\n",
       "3  55076.153846  1.087761  0.672844  25.0    ab\n",
       "4  55078.205128 -0.436679  0.672844  25.0    ab"
      ]
     },
     "execution_count": 14,
     "metadata": {},
     "output_type": "execute_result"
    }
   ],
   "source": [
    "tmp_data = ex_data.copy()\n",
    "del tmp_data['band']\n",
    "tmp_data.head()"
   ]
  },
  {
   "cell_type": "code",
   "execution_count": 15,
   "metadata": {
    "collapsed": false
   },
   "outputs": [
    {
     "ename": "ValueError",
     "evalue": "('light curve data has missing columns', set(['band']))",
     "output_type": "error",
     "traceback": [
      "\u001b[0;31m---------------------------------------------------------------------------\u001b[0m",
      "\u001b[0;31mValueError\u001b[0m                                Traceback (most recent call last)",
      "\u001b[0;32m<ipython-input-15-4ede6a7f8a2e>\u001b[0m in \u001b[0;36m<module>\u001b[0;34m()\u001b[0m\n\u001b[0;32m----> 1\u001b[0;31m \u001b[0mlc_bad\u001b[0m \u001b[0;34m=\u001b[0m \u001b[0msnd\u001b[0m\u001b[0;34m.\u001b[0m\u001b[0mLightCurve\u001b[0m\u001b[0;34m(\u001b[0m\u001b[0mtmp_data\u001b[0m\u001b[0;34m)\u001b[0m\u001b[0;34m\u001b[0m\u001b[0m\n\u001b[0m",
      "\u001b[0;32m/Users/rbiswas/doc/projects/DESC/SNData/sndata/lightcurve.pyc\u001b[0m in \u001b[0;36m__init__\u001b[0;34m(self, lcdf, bandNameDict, ignore_case, propDict)\u001b[0m\n\u001b[1;32m    127\u001b[0m         \u001b[0;32mif\u001b[0m \u001b[0mlen\u001b[0m\u001b[0;34m(\u001b[0m\u001b[0mmissingColumns\u001b[0m\u001b[0;34m)\u001b[0m \u001b[0;34m>\u001b[0m \u001b[0;36m0\u001b[0m\u001b[0;34m:\u001b[0m\u001b[0;34m\u001b[0m\u001b[0m\n\u001b[1;32m    128\u001b[0m             raise ValueError('light curve data has missing columns',\n\u001b[0;32m--> 129\u001b[0;31m                              missingColumns)\n\u001b[0m\u001b[1;32m    130\u001b[0m \u001b[0;34m\u001b[0m\u001b[0m\n\u001b[1;32m    131\u001b[0m         \u001b[0mself\u001b[0m\u001b[0;34m.\u001b[0m\u001b[0mbandNameDict\u001b[0m \u001b[0;34m=\u001b[0m \u001b[0mbandNameDict\u001b[0m\u001b[0;34m\u001b[0m\u001b[0m\n",
      "\u001b[0;31mValueError\u001b[0m: ('light curve data has missing columns', set(['band']))"
     ]
    }
   ],
   "source": [
    "lc_bad = snd.LightCurve(tmp_data)"
   ]
  },
  {
   "cell_type": "markdown",
   "metadata": {},
   "source": [
    "This raises a ValueError pointing out that the column `band` was missing. However, it correctly recognizes that while\n",
    "`mjd` was missing, it had the aliased column `time` instead and did not report it missing."
   ]
  },
  {
   "cell_type": "markdown",
   "metadata": {},
   "source": [
    "## Coadded light Curves"
   ]
  },
  {
   "cell_type": "code",
   "execution_count": 16,
   "metadata": {
    "collapsed": false
   },
   "outputs": [
    {
     "data": {
      "text/html": [
       "<div>\n",
       "<table border=\"1\" class=\"dataframe\">\n",
       "  <thead>\n",
       "    <tr style=\"text-align: right;\">\n",
       "      <th></th>\n",
       "      <th>mjd</th>\n",
       "      <th>band</th>\n",
       "      <th>flux</th>\n",
       "      <th>fluxerr</th>\n",
       "      <th>zp</th>\n",
       "      <th>zpsys</th>\n",
       "    </tr>\n",
       "  </thead>\n",
       "  <tbody>\n",
       "    <tr>\n",
       "      <th>0</th>\n",
       "      <td>55070.000000</td>\n",
       "      <td>sdssg</td>\n",
       "      <td>0.363512</td>\n",
       "      <td>0.672844</td>\n",
       "      <td>25.0</td>\n",
       "      <td>ab</td>\n",
       "    </tr>\n",
       "    <tr>\n",
       "      <th>1</th>\n",
       "      <td>55072.051282</td>\n",
       "      <td>sdssr</td>\n",
       "      <td>-0.200801</td>\n",
       "      <td>0.672844</td>\n",
       "      <td>25.0</td>\n",
       "      <td>ab</td>\n",
       "    </tr>\n",
       "    <tr>\n",
       "      <th>2</th>\n",
       "      <td>55074.102564</td>\n",
       "      <td>sdssi</td>\n",
       "      <td>0.307494</td>\n",
       "      <td>0.672844</td>\n",
       "      <td>25.0</td>\n",
       "      <td>ab</td>\n",
       "    </tr>\n",
       "    <tr>\n",
       "      <th>3</th>\n",
       "      <td>55076.153846</td>\n",
       "      <td>sdssz</td>\n",
       "      <td>1.087761</td>\n",
       "      <td>0.672844</td>\n",
       "      <td>25.0</td>\n",
       "      <td>ab</td>\n",
       "    </tr>\n",
       "    <tr>\n",
       "      <th>4</th>\n",
       "      <td>55078.205128</td>\n",
       "      <td>sdssg</td>\n",
       "      <td>-0.436679</td>\n",
       "      <td>0.672844</td>\n",
       "      <td>25.0</td>\n",
       "      <td>ab</td>\n",
       "    </tr>\n",
       "  </tbody>\n",
       "</table>\n",
       "</div>"
      ],
      "text/plain": [
       "            mjd   band      flux   fluxerr    zp zpsys\n",
       "0  55070.000000  sdssg  0.363512  0.672844  25.0    ab\n",
       "1  55072.051282  sdssr -0.200801  0.672844  25.0    ab\n",
       "2  55074.102564  sdssi  0.307494  0.672844  25.0    ab\n",
       "3  55076.153846  sdssz  1.087761  0.672844  25.0    ab\n",
       "4  55078.205128  sdssg -0.436679  0.672844  25.0    ab"
      ]
     },
     "execution_count": 16,
     "metadata": {},
     "output_type": "execute_result"
    }
   ],
   "source": [
    "lc.lightCurve.head()"
   ]
  },
  {
   "cell_type": "markdown",
   "metadata": {},
   "source": [
    "Let us check the cadence on the single band light curve. These have a cadence of about ~ 8 days"
   ]
  },
  {
   "cell_type": "code",
   "execution_count": 17,
   "metadata": {
    "collapsed": false
   },
   "outputs": [
    {
     "data": {
      "text/html": [
       "<div>\n",
       "<table border=\"1\" class=\"dataframe\">\n",
       "  <thead>\n",
       "    <tr style=\"text-align: right;\">\n",
       "      <th></th>\n",
       "      <th>mjd</th>\n",
       "      <th>band</th>\n",
       "      <th>flux</th>\n",
       "      <th>fluxerr</th>\n",
       "      <th>zp</th>\n",
       "      <th>zpsys</th>\n",
       "    </tr>\n",
       "  </thead>\n",
       "  <tbody>\n",
       "    <tr>\n",
       "      <th>0</th>\n",
       "      <td>55070.000000</td>\n",
       "      <td>sdssg</td>\n",
       "      <td>0.363512</td>\n",
       "      <td>0.672844</td>\n",
       "      <td>25.0</td>\n",
       "      <td>ab</td>\n",
       "    </tr>\n",
       "    <tr>\n",
       "      <th>4</th>\n",
       "      <td>55078.205128</td>\n",
       "      <td>sdssg</td>\n",
       "      <td>-0.436679</td>\n",
       "      <td>0.672844</td>\n",
       "      <td>25.0</td>\n",
       "      <td>ab</td>\n",
       "    </tr>\n",
       "    <tr>\n",
       "      <th>8</th>\n",
       "      <td>55086.410256</td>\n",
       "      <td>sdssg</td>\n",
       "      <td>2.826142</td>\n",
       "      <td>0.672844</td>\n",
       "      <td>25.0</td>\n",
       "      <td>ab</td>\n",
       "    </tr>\n",
       "    <tr>\n",
       "      <th>12</th>\n",
       "      <td>55094.615385</td>\n",
       "      <td>sdssg</td>\n",
       "      <td>1.578237</td>\n",
       "      <td>0.672844</td>\n",
       "      <td>25.0</td>\n",
       "      <td>ab</td>\n",
       "    </tr>\n",
       "    <tr>\n",
       "      <th>16</th>\n",
       "      <td>55102.820513</td>\n",
       "      <td>sdssg</td>\n",
       "      <td>2.208754</td>\n",
       "      <td>0.672844</td>\n",
       "      <td>25.0</td>\n",
       "      <td>ab</td>\n",
       "    </tr>\n",
       "    <tr>\n",
       "      <th>20</th>\n",
       "      <td>55111.025641</td>\n",
       "      <td>sdssg</td>\n",
       "      <td>0.608391</td>\n",
       "      <td>0.672844</td>\n",
       "      <td>25.0</td>\n",
       "      <td>ab</td>\n",
       "    </tr>\n",
       "    <tr>\n",
       "      <th>24</th>\n",
       "      <td>55119.230769</td>\n",
       "      <td>sdssg</td>\n",
       "      <td>0.679196</td>\n",
       "      <td>0.672844</td>\n",
       "      <td>25.0</td>\n",
       "      <td>ab</td>\n",
       "    </tr>\n",
       "    <tr>\n",
       "      <th>28</th>\n",
       "      <td>55127.435897</td>\n",
       "      <td>sdssg</td>\n",
       "      <td>0.325443</td>\n",
       "      <td>0.672844</td>\n",
       "      <td>25.0</td>\n",
       "      <td>ab</td>\n",
       "    </tr>\n",
       "    <tr>\n",
       "      <th>32</th>\n",
       "      <td>55135.641026</td>\n",
       "      <td>sdssg</td>\n",
       "      <td>0.330702</td>\n",
       "      <td>0.672844</td>\n",
       "      <td>25.0</td>\n",
       "      <td>ab</td>\n",
       "    </tr>\n",
       "    <tr>\n",
       "      <th>36</th>\n",
       "      <td>55143.846154</td>\n",
       "      <td>sdssg</td>\n",
       "      <td>-0.722655</td>\n",
       "      <td>0.672844</td>\n",
       "      <td>25.0</td>\n",
       "      <td>ab</td>\n",
       "    </tr>\n",
       "  </tbody>\n",
       "</table>\n",
       "</div>"
      ],
      "text/plain": [
       "             mjd   band      flux   fluxerr    zp zpsys\n",
       "0   55070.000000  sdssg  0.363512  0.672844  25.0    ab\n",
       "4   55078.205128  sdssg -0.436679  0.672844  25.0    ab\n",
       "8   55086.410256  sdssg  2.826142  0.672844  25.0    ab\n",
       "12  55094.615385  sdssg  1.578237  0.672844  25.0    ab\n",
       "16  55102.820513  sdssg  2.208754  0.672844  25.0    ab\n",
       "20  55111.025641  sdssg  0.608391  0.672844  25.0    ab\n",
       "24  55119.230769  sdssg  0.679196  0.672844  25.0    ab\n",
       "28  55127.435897  sdssg  0.325443  0.672844  25.0    ab\n",
       "32  55135.641026  sdssg  0.330702  0.672844  25.0    ab\n",
       "36  55143.846154  sdssg -0.722655  0.672844  25.0    ab"
      ]
     },
     "execution_count": 17,
     "metadata": {},
     "output_type": "execute_result"
    }
   ],
   "source": [
    "lc.lightCurve.groupby('band').get_group('sdssg')"
   ]
  },
  {
   "cell_type": "code",
   "execution_count": 18,
   "metadata": {
    "collapsed": false
   },
   "outputs": [
    {
     "data": {
      "text/plain": [
       "count    33.000000\n",
       "mean      1.212121\n",
       "std       0.415149\n",
       "min       1.000000\n",
       "25%       1.000000\n",
       "50%       1.000000\n",
       "75%       1.000000\n",
       "max       2.000000\n",
       "Name: numExpinCoadd, dtype: float64"
      ]
     },
     "execution_count": 18,
     "metadata": {},
     "output_type": "execute_result"
    }
   ],
   "source": [
    "lc.coaddedLC(coaddTimes=10.0).numExpinCoadd.describe()"
   ]
  },
  {
   "cell_type": "code",
   "execution_count": 19,
   "metadata": {
    "collapsed": false
   },
   "outputs": [
    {
     "data": {
      "text/html": [
       "<div>\n",
       "<table border=\"1\" class=\"dataframe\">\n",
       "  <thead>\n",
       "    <tr style=\"text-align: right;\">\n",
       "      <th></th>\n",
       "      <th>band</th>\n",
       "      <th>night</th>\n",
       "      <th>zpsys</th>\n",
       "      <th>numExpinCoadd</th>\n",
       "      <th>flux</th>\n",
       "      <th>mjd</th>\n",
       "      <th>zp</th>\n",
       "      <th>fluxerr</th>\n",
       "    </tr>\n",
       "  </thead>\n",
       "  <tbody>\n",
       "    <tr>\n",
       "      <th>0</th>\n",
       "      <td>sdssg</td>\n",
       "      <td>5507</td>\n",
       "      <td>ab</td>\n",
       "      <td>2</td>\n",
       "      <td>-0.036584</td>\n",
       "      <td>55074.102564</td>\n",
       "      <td>25.0</td>\n",
       "      <td>0.475772</td>\n",
       "    </tr>\n",
       "    <tr>\n",
       "      <th>1</th>\n",
       "      <td>sdssg</td>\n",
       "      <td>5508</td>\n",
       "      <td>ab</td>\n",
       "      <td>1</td>\n",
       "      <td>2.826142</td>\n",
       "      <td>55086.410256</td>\n",
       "      <td>25.0</td>\n",
       "      <td>0.672844</td>\n",
       "    </tr>\n",
       "    <tr>\n",
       "      <th>2</th>\n",
       "      <td>sdssg</td>\n",
       "      <td>5509</td>\n",
       "      <td>ab</td>\n",
       "      <td>1</td>\n",
       "      <td>1.578237</td>\n",
       "      <td>55094.615385</td>\n",
       "      <td>25.0</td>\n",
       "      <td>0.672844</td>\n",
       "    </tr>\n",
       "    <tr>\n",
       "      <th>3</th>\n",
       "      <td>sdssg</td>\n",
       "      <td>5510</td>\n",
       "      <td>ab</td>\n",
       "      <td>1</td>\n",
       "      <td>2.208754</td>\n",
       "      <td>55102.820513</td>\n",
       "      <td>25.0</td>\n",
       "      <td>0.672844</td>\n",
       "    </tr>\n",
       "    <tr>\n",
       "      <th>4</th>\n",
       "      <td>sdssg</td>\n",
       "      <td>5511</td>\n",
       "      <td>ab</td>\n",
       "      <td>2</td>\n",
       "      <td>0.643794</td>\n",
       "      <td>55115.128205</td>\n",
       "      <td>25.0</td>\n",
       "      <td>0.475772</td>\n",
       "    </tr>\n",
       "  </tbody>\n",
       "</table>\n",
       "</div>"
      ],
      "text/plain": [
       "    band  night zpsys  numExpinCoadd      flux           mjd    zp   fluxerr\n",
       "0  sdssg   5507    ab              2 -0.036584  55074.102564  25.0  0.475772\n",
       "1  sdssg   5508    ab              1  2.826142  55086.410256  25.0  0.672844\n",
       "2  sdssg   5509    ab              1  1.578237  55094.615385  25.0  0.672844\n",
       "3  sdssg   5510    ab              1  2.208754  55102.820513  25.0  0.672844\n",
       "4  sdssg   5511    ab              2  0.643794  55115.128205  25.0  0.475772"
      ]
     },
     "execution_count": 19,
     "metadata": {},
     "output_type": "execute_result"
    }
   ],
   "source": [
    "lc.coaddedLC(coaddTimes=10.0).head()"
   ]
  },
  {
   "cell_type": "code",
   "execution_count": 20,
   "metadata": {
    "collapsed": false
   },
   "outputs": [],
   "source": [
    "exlc = lc.lightCurve.query('band == \"sdssg\"').iloc[:2]"
   ]
  },
  {
   "cell_type": "markdown",
   "metadata": {},
   "source": [
    "With the few observations that are being coadded, we can check the results of a invariance variance weighting by hand"
   ]
  },
  {
   "cell_type": "code",
   "execution_count": 21,
   "metadata": {
    "collapsed": true
   },
   "outputs": [],
   "source": [
    "w = 1.0 / exlc.fluxerr**2"
   ]
  },
  {
   "cell_type": "code",
   "execution_count": 22,
   "metadata": {
    "collapsed": false
   },
   "outputs": [
    {
     "data": {
      "text/plain": [
       "-0.036583710239999997"
      ]
     },
     "execution_count": 22,
     "metadata": {},
     "output_type": "execute_result"
    }
   ],
   "source": [
    "# For Flux values\n",
    "np.average(exlc.flux.values, weights=w)"
   ]
  },
  {
   "cell_type": "code",
   "execution_count": 23,
   "metadata": {
    "collapsed": false
   },
   "outputs": [
    {
     "data": {
      "text/plain": [
       "-0.036583710239999997"
      ]
     },
     "execution_count": 23,
     "metadata": {},
     "output_type": "execute_result"
    }
   ],
   "source": [
    "lc.coaddedLC(coaddTimes=10.0).flux.iloc[0]"
   ]
  },
  {
   "cell_type": "code",
   "execution_count": 24,
   "metadata": {
    "collapsed": false
   },
   "outputs": [
    {
     "data": {
      "text/plain": [
       "55074.102564100001"
      ]
     },
     "execution_count": 24,
     "metadata": {},
     "output_type": "execute_result"
    }
   ],
   "source": [
    "np.average(exlc.mjd.values, weights=w)"
   ]
  },
  {
   "cell_type": "code",
   "execution_count": 25,
   "metadata": {
    "collapsed": false
   },
   "outputs": [
    {
     "data": {
      "text/plain": [
       "25.0"
      ]
     },
     "execution_count": 25,
     "metadata": {},
     "output_type": "execute_result"
    }
   ],
   "source": [
    "np.average(exlc.zp.values, weights=w)"
   ]
  },
  {
   "cell_type": "code",
   "execution_count": 26,
   "metadata": {
    "collapsed": false
   },
   "outputs": [
    {
     "data": {
      "text/plain": [
       "0.47577244727588863"
      ]
     },
     "execution_count": 26,
     "metadata": {},
     "output_type": "execute_result"
    }
   ],
   "source": [
    "np.sqrt(1.0 / w.sum())"
   ]
  },
  {
   "cell_type": "code",
   "execution_count": 27,
   "metadata": {
    "collapsed": false
   },
   "outputs": [
    {
     "data": {
      "text/html": [
       "<div>\n",
       "<table border=\"1\" class=\"dataframe\">\n",
       "  <thead>\n",
       "    <tr style=\"text-align: right;\">\n",
       "      <th></th>\n",
       "      <th>band</th>\n",
       "      <th>mjd</th>\n",
       "      <th>fluxerr</th>\n",
       "      <th>zpsys</th>\n",
       "      <th>flux</th>\n",
       "      <th>numCoadded</th>\n",
       "      <th>zp</th>\n",
       "      <th>CoaddedSNR</th>\n",
       "    </tr>\n",
       "    <tr>\n",
       "      <th>discreteTime</th>\n",
       "      <th></th>\n",
       "      <th></th>\n",
       "      <th></th>\n",
       "      <th></th>\n",
       "      <th></th>\n",
       "      <th></th>\n",
       "      <th></th>\n",
       "      <th></th>\n",
       "    </tr>\n",
       "  </thead>\n",
       "  <tbody>\n",
       "    <tr>\n",
       "      <th>0</th>\n",
       "      <td>sdssg</td>\n",
       "      <td>55074.102564</td>\n",
       "      <td>0.475772</td>\n",
       "      <td>ab</td>\n",
       "      <td>-0.036584</td>\n",
       "      <td>2</td>\n",
       "      <td>25.0</td>\n",
       "      <td>-0.076893</td>\n",
       "    </tr>\n",
       "    <tr>\n",
       "      <th>0</th>\n",
       "      <td>sdssi</td>\n",
       "      <td>55074.102564</td>\n",
       "      <td>0.672844</td>\n",
       "      <td>ab</td>\n",
       "      <td>0.307494</td>\n",
       "      <td>1</td>\n",
       "      <td>25.0</td>\n",
       "      <td>0.457007</td>\n",
       "    </tr>\n",
       "    <tr>\n",
       "      <th>0</th>\n",
       "      <td>sdssr</td>\n",
       "      <td>55072.051282</td>\n",
       "      <td>0.672844</td>\n",
       "      <td>ab</td>\n",
       "      <td>-0.200801</td>\n",
       "      <td>1</td>\n",
       "      <td>25.0</td>\n",
       "      <td>-0.298437</td>\n",
       "    </tr>\n",
       "    <tr>\n",
       "      <th>0</th>\n",
       "      <td>sdssz</td>\n",
       "      <td>55076.153846</td>\n",
       "      <td>0.672844</td>\n",
       "      <td>ab</td>\n",
       "      <td>1.087761</td>\n",
       "      <td>1</td>\n",
       "      <td>25.0</td>\n",
       "      <td>1.616662</td>\n",
       "    </tr>\n",
       "    <tr>\n",
       "      <th>1</th>\n",
       "      <td>sdssg</td>\n",
       "      <td>55086.410256</td>\n",
       "      <td>0.672844</td>\n",
       "      <td>ab</td>\n",
       "      <td>2.826142</td>\n",
       "      <td>1</td>\n",
       "      <td>25.0</td>\n",
       "      <td>4.200294</td>\n",
       "    </tr>\n",
       "    <tr>\n",
       "      <th>1</th>\n",
       "      <td>sdssi</td>\n",
       "      <td>55082.307692</td>\n",
       "      <td>0.672844</td>\n",
       "      <td>ab</td>\n",
       "      <td>3.756269</td>\n",
       "      <td>1</td>\n",
       "      <td>25.0</td>\n",
       "      <td>5.582675</td>\n",
       "    </tr>\n",
       "    <tr>\n",
       "      <th>1</th>\n",
       "      <td>sdssr</td>\n",
       "      <td>55084.358974</td>\n",
       "      <td>0.475772</td>\n",
       "      <td>ab</td>\n",
       "      <td>4.331640</td>\n",
       "      <td>2</td>\n",
       "      <td>25.0</td>\n",
       "      <td>9.104437</td>\n",
       "    </tr>\n",
       "    <tr>\n",
       "      <th>1</th>\n",
       "      <td>sdssz</td>\n",
       "      <td>55084.358974</td>\n",
       "      <td>0.672844</td>\n",
       "      <td>ab</td>\n",
       "      <td>5.348589</td>\n",
       "      <td>1</td>\n",
       "      <td>25.0</td>\n",
       "      <td>7.949228</td>\n",
       "    </tr>\n",
       "    <tr>\n",
       "      <th>2</th>\n",
       "      <td>sdssg</td>\n",
       "      <td>55094.615385</td>\n",
       "      <td>0.672844</td>\n",
       "      <td>ab</td>\n",
       "      <td>1.578237</td>\n",
       "      <td>1</td>\n",
       "      <td>25.0</td>\n",
       "      <td>2.345621</td>\n",
       "    </tr>\n",
       "    <tr>\n",
       "      <th>2</th>\n",
       "      <td>sdssi</td>\n",
       "      <td>55094.615385</td>\n",
       "      <td>0.475772</td>\n",
       "      <td>ab</td>\n",
       "      <td>9.772395</td>\n",
       "      <td>2</td>\n",
       "      <td>25.0</td>\n",
       "      <td>20.540061</td>\n",
       "    </tr>\n",
       "    <tr>\n",
       "      <th>2</th>\n",
       "      <td>sdssr</td>\n",
       "      <td>55096.666667</td>\n",
       "      <td>0.672844</td>\n",
       "      <td>ab</td>\n",
       "      <td>9.420167</td>\n",
       "      <td>1</td>\n",
       "      <td>25.0</td>\n",
       "      <td>14.000525</td>\n",
       "    </tr>\n",
       "    <tr>\n",
       "      <th>2</th>\n",
       "      <td>sdssz</td>\n",
       "      <td>55092.564103</td>\n",
       "      <td>0.672844</td>\n",
       "      <td>ab</td>\n",
       "      <td>10.703299</td>\n",
       "      <td>1</td>\n",
       "      <td>25.0</td>\n",
       "      <td>15.907553</td>\n",
       "    </tr>\n",
       "    <tr>\n",
       "      <th>3</th>\n",
       "      <td>sdssg</td>\n",
       "      <td>55102.820513</td>\n",
       "      <td>0.672844</td>\n",
       "      <td>ab</td>\n",
       "      <td>2.208754</td>\n",
       "      <td>1</td>\n",
       "      <td>25.0</td>\n",
       "      <td>3.282714</td>\n",
       "    </tr>\n",
       "    <tr>\n",
       "      <th>3</th>\n",
       "      <td>sdssi</td>\n",
       "      <td>55106.923077</td>\n",
       "      <td>0.672844</td>\n",
       "      <td>ab</td>\n",
       "      <td>11.372477</td>\n",
       "      <td>1</td>\n",
       "      <td>25.0</td>\n",
       "      <td>16.902104</td>\n",
       "    </tr>\n",
       "    <tr>\n",
       "      <th>3</th>\n",
       "      <td>sdssr</td>\n",
       "      <td>55104.871795</td>\n",
       "      <td>0.672844</td>\n",
       "      <td>ab</td>\n",
       "      <td>9.634420</td>\n",
       "      <td>1</td>\n",
       "      <td>25.0</td>\n",
       "      <td>14.318954</td>\n",
       "    </tr>\n",
       "    <tr>\n",
       "      <th>3</th>\n",
       "      <td>sdssz</td>\n",
       "      <td>55104.871795</td>\n",
       "      <td>0.475772</td>\n",
       "      <td>ab</td>\n",
       "      <td>13.109219</td>\n",
       "      <td>2</td>\n",
       "      <td>25.0</td>\n",
       "      <td>27.553547</td>\n",
       "    </tr>\n",
       "    <tr>\n",
       "      <th>4</th>\n",
       "      <td>sdssg</td>\n",
       "      <td>55115.128205</td>\n",
       "      <td>0.475772</td>\n",
       "      <td>ab</td>\n",
       "      <td>0.643794</td>\n",
       "      <td>2</td>\n",
       "      <td>25.0</td>\n",
       "      <td>1.353155</td>\n",
       "    </tr>\n",
       "    <tr>\n",
       "      <th>4</th>\n",
       "      <td>sdssi</td>\n",
       "      <td>55115.128205</td>\n",
       "      <td>0.672844</td>\n",
       "      <td>ab</td>\n",
       "      <td>7.994282</td>\n",
       "      <td>1</td>\n",
       "      <td>25.0</td>\n",
       "      <td>11.881333</td>\n",
       "    </tr>\n",
       "    <tr>\n",
       "      <th>4</th>\n",
       "      <td>sdssr</td>\n",
       "      <td>55113.076923</td>\n",
       "      <td>0.672844</td>\n",
       "      <td>ab</td>\n",
       "      <td>5.916429</td>\n",
       "      <td>1</td>\n",
       "      <td>25.0</td>\n",
       "      <td>8.793167</td>\n",
       "    </tr>\n",
       "    <tr>\n",
       "      <th>4</th>\n",
       "      <td>sdssz</td>\n",
       "      <td>55117.179487</td>\n",
       "      <td>0.672844</td>\n",
       "      <td>ab</td>\n",
       "      <td>7.908628</td>\n",
       "      <td>1</td>\n",
       "      <td>25.0</td>\n",
       "      <td>11.754031</td>\n",
       "    </tr>\n",
       "    <tr>\n",
       "      <th>5</th>\n",
       "      <td>sdssg</td>\n",
       "      <td>55127.435897</td>\n",
       "      <td>0.672844</td>\n",
       "      <td>ab</td>\n",
       "      <td>0.325443</td>\n",
       "      <td>1</td>\n",
       "      <td>25.0</td>\n",
       "      <td>0.483683</td>\n",
       "    </tr>\n",
       "    <tr>\n",
       "      <th>5</th>\n",
       "      <td>sdssi</td>\n",
       "      <td>55123.333333</td>\n",
       "      <td>0.672844</td>\n",
       "      <td>ab</td>\n",
       "      <td>7.035843</td>\n",
       "      <td>1</td>\n",
       "      <td>25.0</td>\n",
       "      <td>10.456873</td>\n",
       "    </tr>\n",
       "    <tr>\n",
       "      <th>5</th>\n",
       "      <td>sdssr</td>\n",
       "      <td>55125.384615</td>\n",
       "      <td>0.475772</td>\n",
       "      <td>ab</td>\n",
       "      <td>3.347111</td>\n",
       "      <td>2</td>\n",
       "      <td>25.0</td>\n",
       "      <td>7.035109</td>\n",
       "    </tr>\n",
       "    <tr>\n",
       "      <th>5</th>\n",
       "      <td>sdssz</td>\n",
       "      <td>55125.384615</td>\n",
       "      <td>0.672844</td>\n",
       "      <td>ab</td>\n",
       "      <td>6.840864</td>\n",
       "      <td>1</td>\n",
       "      <td>25.0</td>\n",
       "      <td>10.167090</td>\n",
       "    </tr>\n",
       "    <tr>\n",
       "      <th>6</th>\n",
       "      <td>sdssg</td>\n",
       "      <td>55135.641026</td>\n",
       "      <td>0.672844</td>\n",
       "      <td>ab</td>\n",
       "      <td>0.330702</td>\n",
       "      <td>1</td>\n",
       "      <td>25.0</td>\n",
       "      <td>0.491499</td>\n",
       "    </tr>\n",
       "    <tr>\n",
       "      <th>6</th>\n",
       "      <td>sdssi</td>\n",
       "      <td>55135.641026</td>\n",
       "      <td>0.475772</td>\n",
       "      <td>ab</td>\n",
       "      <td>3.519194</td>\n",
       "      <td>2</td>\n",
       "      <td>25.0</td>\n",
       "      <td>7.396800</td>\n",
       "    </tr>\n",
       "    <tr>\n",
       "      <th>6</th>\n",
       "      <td>sdssr</td>\n",
       "      <td>55137.692308</td>\n",
       "      <td>0.672844</td>\n",
       "      <td>ab</td>\n",
       "      <td>0.565287</td>\n",
       "      <td>1</td>\n",
       "      <td>25.0</td>\n",
       "      <td>0.840145</td>\n",
       "    </tr>\n",
       "    <tr>\n",
       "      <th>6</th>\n",
       "      <td>sdssz</td>\n",
       "      <td>55133.589744</td>\n",
       "      <td>0.672844</td>\n",
       "      <td>ab</td>\n",
       "      <td>5.739895</td>\n",
       "      <td>1</td>\n",
       "      <td>25.0</td>\n",
       "      <td>8.530797</td>\n",
       "    </tr>\n",
       "    <tr>\n",
       "      <th>7</th>\n",
       "      <td>sdssg</td>\n",
       "      <td>55143.846154</td>\n",
       "      <td>0.672844</td>\n",
       "      <td>ab</td>\n",
       "      <td>-0.722655</td>\n",
       "      <td>1</td>\n",
       "      <td>25.0</td>\n",
       "      <td>-1.074030</td>\n",
       "    </tr>\n",
       "    <tr>\n",
       "      <th>7</th>\n",
       "      <td>sdssi</td>\n",
       "      <td>55147.948718</td>\n",
       "      <td>0.672844</td>\n",
       "      <td>ab</td>\n",
       "      <td>2.124670</td>\n",
       "      <td>1</td>\n",
       "      <td>25.0</td>\n",
       "      <td>3.157745</td>\n",
       "    </tr>\n",
       "    <tr>\n",
       "      <th>7</th>\n",
       "      <td>sdssr</td>\n",
       "      <td>55145.897436</td>\n",
       "      <td>0.672844</td>\n",
       "      <td>ab</td>\n",
       "      <td>1.120918</td>\n",
       "      <td>1</td>\n",
       "      <td>25.0</td>\n",
       "      <td>1.665940</td>\n",
       "    </tr>\n",
       "    <tr>\n",
       "      <th>7</th>\n",
       "      <td>sdssz</td>\n",
       "      <td>55141.794872</td>\n",
       "      <td>0.672844</td>\n",
       "      <td>ab</td>\n",
       "      <td>5.626927</td>\n",
       "      <td>1</td>\n",
       "      <td>25.0</td>\n",
       "      <td>8.362902</td>\n",
       "    </tr>\n",
       "    <tr>\n",
       "      <th>8</th>\n",
       "      <td>sdssz</td>\n",
       "      <td>55150.000000</td>\n",
       "      <td>0.672844</td>\n",
       "      <td>ab</td>\n",
       "      <td>5.348218</td>\n",
       "      <td>1</td>\n",
       "      <td>25.0</td>\n",
       "      <td>7.948676</td>\n",
       "    </tr>\n",
       "  </tbody>\n",
       "</table>\n",
       "</div>"
      ],
      "text/plain": [
       "               band           mjd   fluxerr zpsys       flux  numCoadded  \\\n",
       "discreteTime                                                               \n",
       "0             sdssg  55074.102564  0.475772    ab  -0.036584           2   \n",
       "0             sdssi  55074.102564  0.672844    ab   0.307494           1   \n",
       "0             sdssr  55072.051282  0.672844    ab  -0.200801           1   \n",
       "0             sdssz  55076.153846  0.672844    ab   1.087761           1   \n",
       "1             sdssg  55086.410256  0.672844    ab   2.826142           1   \n",
       "1             sdssi  55082.307692  0.672844    ab   3.756269           1   \n",
       "1             sdssr  55084.358974  0.475772    ab   4.331640           2   \n",
       "1             sdssz  55084.358974  0.672844    ab   5.348589           1   \n",
       "2             sdssg  55094.615385  0.672844    ab   1.578237           1   \n",
       "2             sdssi  55094.615385  0.475772    ab   9.772395           2   \n",
       "2             sdssr  55096.666667  0.672844    ab   9.420167           1   \n",
       "2             sdssz  55092.564103  0.672844    ab  10.703299           1   \n",
       "3             sdssg  55102.820513  0.672844    ab   2.208754           1   \n",
       "3             sdssi  55106.923077  0.672844    ab  11.372477           1   \n",
       "3             sdssr  55104.871795  0.672844    ab   9.634420           1   \n",
       "3             sdssz  55104.871795  0.475772    ab  13.109219           2   \n",
       "4             sdssg  55115.128205  0.475772    ab   0.643794           2   \n",
       "4             sdssi  55115.128205  0.672844    ab   7.994282           1   \n",
       "4             sdssr  55113.076923  0.672844    ab   5.916429           1   \n",
       "4             sdssz  55117.179487  0.672844    ab   7.908628           1   \n",
       "5             sdssg  55127.435897  0.672844    ab   0.325443           1   \n",
       "5             sdssi  55123.333333  0.672844    ab   7.035843           1   \n",
       "5             sdssr  55125.384615  0.475772    ab   3.347111           2   \n",
       "5             sdssz  55125.384615  0.672844    ab   6.840864           1   \n",
       "6             sdssg  55135.641026  0.672844    ab   0.330702           1   \n",
       "6             sdssi  55135.641026  0.475772    ab   3.519194           2   \n",
       "6             sdssr  55137.692308  0.672844    ab   0.565287           1   \n",
       "6             sdssz  55133.589744  0.672844    ab   5.739895           1   \n",
       "7             sdssg  55143.846154  0.672844    ab  -0.722655           1   \n",
       "7             sdssi  55147.948718  0.672844    ab   2.124670           1   \n",
       "7             sdssr  55145.897436  0.672844    ab   1.120918           1   \n",
       "7             sdssz  55141.794872  0.672844    ab   5.626927           1   \n",
       "8             sdssz  55150.000000  0.672844    ab   5.348218           1   \n",
       "\n",
       "                zp  CoaddedSNR  \n",
       "discreteTime                    \n",
       "0             25.0   -0.076893  \n",
       "0             25.0    0.457007  \n",
       "0             25.0   -0.298437  \n",
       "0             25.0    1.616662  \n",
       "1             25.0    4.200294  \n",
       "1             25.0    5.582675  \n",
       "1             25.0    9.104437  \n",
       "1             25.0    7.949228  \n",
       "2             25.0    2.345621  \n",
       "2             25.0   20.540061  \n",
       "2             25.0   14.000525  \n",
       "2             25.0   15.907553  \n",
       "3             25.0    3.282714  \n",
       "3             25.0   16.902104  \n",
       "3             25.0   14.318954  \n",
       "3             25.0   27.553547  \n",
       "4             25.0    1.353155  \n",
       "4             25.0   11.881333  \n",
       "4             25.0    8.793167  \n",
       "4             25.0   11.754031  \n",
       "5             25.0    0.483683  \n",
       "5             25.0   10.456873  \n",
       "5             25.0    7.035109  \n",
       "5             25.0   10.167090  \n",
       "6             25.0    0.491499  \n",
       "6             25.0    7.396800  \n",
       "6             25.0    0.840145  \n",
       "6             25.0    8.530797  \n",
       "7             25.0   -1.074030  \n",
       "7             25.0    3.157745  \n",
       "7             25.0    1.665940  \n",
       "7             25.0    8.362902  \n",
       "8             25.0    7.948676  "
      ]
     },
     "execution_count": 27,
     "metadata": {},
     "output_type": "execute_result"
    }
   ],
   "source": [
    "lc._coaddedLC(coaddTimes=10.)"
   ]
  },
  {
   "cell_type": "markdown",
   "metadata": {},
   "source": [
    "## Summarizing Light Curve information"
   ]
  },
  {
   "cell_type": "code",
   "execution_count": 6,
   "metadata": {
    "collapsed": false
   },
   "outputs": [],
   "source": [
    "df = lc.lightCurve\n",
    "df['snid'] = 0"
   ]
  },
  {
   "cell_type": "code",
   "execution_count": 7,
   "metadata": {
    "collapsed": true
   },
   "outputs": [],
   "source": [
    "import pandas as pd"
   ]
  },
  {
   "cell_type": "code",
   "execution_count": 8,
   "metadata": {
    "collapsed": false
   },
   "outputs": [],
   "source": [
    "paramsdf = pd.DataFrame(dict(snid=(0,), t0=(55140,)))"
   ]
  },
  {
   "cell_type": "code",
   "execution_count": 9,
   "metadata": {
    "collapsed": false
   },
   "outputs": [],
   "source": [
    "x = lc.summarize(df, grouping=('snid', 'band'), paramsdf=paramsdf)"
   ]
  },
  {
   "cell_type": "code",
   "execution_count": 10,
   "metadata": {
    "collapsed": false
   },
   "outputs": [
    {
     "data": {
      "text/html": [
       "<div>\n",
       "<table border=\"1\" class=\"dataframe\">\n",
       "  <thead>\n",
       "    <tr style=\"text-align: right;\">\n",
       "      <th></th>\n",
       "      <th>snid</th>\n",
       "      <th>t0</th>\n",
       "      <th>mjd_max_sdssg</th>\n",
       "      <th>mjd_max_sdssi</th>\n",
       "      <th>mjd_max_sdssr</th>\n",
       "      <th>mjd_max_sdssz</th>\n",
       "      <th>mjd_min_sdssg</th>\n",
       "      <th>mjd_min_sdssi</th>\n",
       "      <th>mjd_min_sdssr</th>\n",
       "      <th>mjd_min_sdssz</th>\n",
       "      <th>NOBS_sdssg</th>\n",
       "      <th>NOBS_sdssi</th>\n",
       "      <th>NOBS_sdssr</th>\n",
       "      <th>NOBS_sdssz</th>\n",
       "      <th>SNR_max_sdssg</th>\n",
       "      <th>SNR_max_sdssi</th>\n",
       "      <th>SNR_max_sdssr</th>\n",
       "      <th>SNR_max_sdssz</th>\n",
       "    </tr>\n",
       "  </thead>\n",
       "  <tbody>\n",
       "    <tr>\n",
       "      <th>0</th>\n",
       "      <td>0</td>\n",
       "      <td>55140</td>\n",
       "      <td>55143.846154</td>\n",
       "      <td>55147.948718</td>\n",
       "      <td>55145.897436</td>\n",
       "      <td>55150.0</td>\n",
       "      <td>55070.0</td>\n",
       "      <td>55074.102564</td>\n",
       "      <td>55072.051282</td>\n",
       "      <td>55076.153846</td>\n",
       "      <td>10</td>\n",
       "      <td>10</td>\n",
       "      <td>10</td>\n",
       "      <td>10</td>\n",
       "      <td>4.200294</td>\n",
       "      <td>18.000641</td>\n",
       "      <td>14.318954</td>\n",
       "      <td>20.278901</td>\n",
       "    </tr>\n",
       "  </tbody>\n",
       "</table>\n",
       "</div>"
      ],
      "text/plain": [
       "   snid     t0  mjd_max_sdssg  mjd_max_sdssi  mjd_max_sdssr  mjd_max_sdssz  \\\n",
       "0     0  55140   55143.846154   55147.948718   55145.897436        55150.0   \n",
       "\n",
       "   mjd_min_sdssg  mjd_min_sdssi  mjd_min_sdssr  mjd_min_sdssz  NOBS_sdssg  \\\n",
       "0        55070.0   55074.102564   55072.051282   55076.153846          10   \n",
       "\n",
       "   NOBS_sdssi  NOBS_sdssr  NOBS_sdssz  SNR_max_sdssg  SNR_max_sdssi  \\\n",
       "0          10          10          10       4.200294      18.000641   \n",
       "\n",
       "   SNR_max_sdssr  SNR_max_sdssz  \n",
       "0      14.318954      20.278901  "
      ]
     },
     "execution_count": 10,
     "metadata": {},
     "output_type": "execute_result"
    }
   ],
   "source": [
    "x"
   ]
  },
  {
   "cell_type": "code",
   "execution_count": 33,
   "metadata": {
    "collapsed": false
   },
   "outputs": [],
   "source": [
    "x = lc.summarize(df, grouping=('snid',), paramsdf=paramsdf)"
   ]
  },
  {
   "cell_type": "code",
   "execution_count": 34,
   "metadata": {
    "collapsed": false
   },
   "outputs": [
    {
     "data": {
      "text/html": [
       "<div>\n",
       "<table border=\"1\" class=\"dataframe\">\n",
       "  <thead>\n",
       "    <tr style=\"text-align: right;\">\n",
       "      <th></th>\n",
       "      <th>snid</th>\n",
       "      <th>t0</th>\n",
       "      <th>mjd_max</th>\n",
       "      <th>mjd_min</th>\n",
       "      <th>NOBS</th>\n",
       "      <th>SNR_max</th>\n",
       "    </tr>\n",
       "  </thead>\n",
       "  <tbody>\n",
       "    <tr>\n",
       "      <th>0</th>\n",
       "      <td>0</td>\n",
       "      <td>55140</td>\n",
       "      <td>55150.0</td>\n",
       "      <td>55070.0</td>\n",
       "      <td>40</td>\n",
       "      <td>20.278901</td>\n",
       "    </tr>\n",
       "  </tbody>\n",
       "</table>\n",
       "</div>"
      ],
      "text/plain": [
       "   snid     t0  mjd_max  mjd_min  NOBS    SNR_max\n",
       "0     0  55140  55150.0  55070.0    40  20.278901"
      ]
     },
     "execution_count": 34,
     "metadata": {},
     "output_type": "execute_result"
    }
   ],
   "source": [
    "x"
   ]
  },
  {
   "cell_type": "markdown",
   "metadata": {},
   "source": [
    "### Light Curves in SNCosmo Format"
   ]
  },
  {
   "cell_type": "markdown",
   "metadata": {},
   "source": [
    "SNCosmo has a data format using `astropy.table.Table`. Since, we use SNCosmo to plot, or fit light curves, it is essential that we can regenerate the SNCosmo format data easily. We do this by the following method"
   ]
  },
  {
   "cell_type": "code",
   "execution_count": null,
   "metadata": {
    "collapsed": false
   },
   "outputs": [],
   "source": [
    "SNCosmoLC = lc.snCosmoLC()"
   ]
  },
  {
   "cell_type": "code",
   "execution_count": null,
   "metadata": {
    "collapsed": false
   },
   "outputs": [],
   "source": [
    "SNCosmoLC"
   ]
  },
  {
   "cell_type": "markdown",
   "metadata": {},
   "source": [
    "We can now plot the data using the usual SNCosmo plotting method, showing the data in g, r, and z bands."
   ]
  },
  {
   "cell_type": "code",
   "execution_count": null,
   "metadata": {
    "collapsed": false
   },
   "outputs": [],
   "source": [
    "sncosmo.plot_lc(SNCosmoLC,color='k');"
   ]
  },
  {
   "cell_type": "markdown",
   "metadata": {},
   "source": [
    "## SNANA simulations"
   ]
  },
  {
   "cell_type": "code",
   "execution_count": null,
   "metadata": {
    "collapsed": false
   },
   "outputs": [],
   "source": [
    "from sndata import SNANASims"
   ]
  },
  {
   "cell_type": "code",
   "execution_count": null,
   "metadata": {
    "collapsed": true
   },
   "outputs": [],
   "source": [
    "from astropy.table import Table"
   ]
  },
  {
   "cell_type": "code",
   "execution_count": null,
   "metadata": {
    "collapsed": true
   },
   "outputs": [],
   "source": [
    "megacamBandNames = 'ugriz'\n",
    "#megacamRegisteredNames = tuple('megacam' + band for band in megacamBandNames)\n",
    "megacamRegisteredNames = tuple('megacam' + band for band in megacamBandNames)"
   ]
  },
  {
   "cell_type": "code",
   "execution_count": null,
   "metadata": {
    "collapsed": false
   },
   "outputs": [],
   "source": [
    "snana_eg = SNANASims.fromSNANAfileroot(snanafileroot='snana_fits',\n",
    "                                       location='../sndata/example_data/',\n",
    "                                       coerce_inds2int=False,\n",
    "                                       SNANABandNames=megacamBandNames,\n",
    "                                       registeredBandNames=megacamRegisteredNames)"
   ]
  },
  {
   "cell_type": "code",
   "execution_count": null,
   "metadata": {
    "collapsed": false
   },
   "outputs": [],
   "source": [
    "Table.read(snana_eg.photFile)[45:50]"
   ]
  },
  {
   "cell_type": "markdown",
   "metadata": {},
   "source": [
    "Let us look at what the array in the fits file looks like: \n",
    "- It has fields that are not of the standard name (FLUXCAL)\n",
    "- It has things like \"XXX\" in he fields"
   ]
  },
  {
   "cell_type": "code",
   "execution_count": null,
   "metadata": {
    "collapsed": false
   },
   "outputs": [],
   "source": [
    "snana_eg.bandNames"
   ]
  },
  {
   "cell_type": "code",
   "execution_count": null,
   "metadata": {
    "collapsed": false
   },
   "outputs": [],
   "source": [
    "snana_eg.newbandNames"
   ]
  },
  {
   "cell_type": "code",
   "execution_count": null,
   "metadata": {
    "collapsed": false
   },
   "outputs": [],
   "source": [
    "lcInstance = snana_eg.get_SNANA_photometry(snid='03D1aw')"
   ]
  },
  {
   "cell_type": "code",
   "execution_count": null,
   "metadata": {
    "collapsed": false
   },
   "outputs": [],
   "source": [
    "lcInstance.lightCurve[['mjd', 'band', 'flux', 'fluxerr', 'zp', 'zpsys']]"
   ]
  },
  {
   "cell_type": "code",
   "execution_count": null,
   "metadata": {
    "collapsed": false
   },
   "outputs": [],
   "source": [
    "lcInstance.bandNameDict"
   ]
  },
  {
   "cell_type": "code",
   "execution_count": null,
   "metadata": {
    "collapsed": false
   },
   "outputs": [],
   "source": [
    "snana_eg.headData['REDSHIFT_FINAL']"
   ]
  },
  {
   "cell_type": "code",
   "execution_count": null,
   "metadata": {
    "collapsed": false
   },
   "outputs": [],
   "source": [
    "snanalc = snd.LightCurve(lcInstance.lightCurve[['mjd', 'band', 'flux', 'fluxerr', 'zp', 'zpsys']])\n",
    "SNCosmo_snanalc = snanalc.snCosmoLC()"
   ]
  },
  {
   "cell_type": "code",
   "execution_count": null,
   "metadata": {
    "collapsed": false,
    "scrolled": false
   },
   "outputs": [],
   "source": [
    "SNCosmo_snanalc"
   ]
  },
  {
   "cell_type": "code",
   "execution_count": null,
   "metadata": {
    "collapsed": false
   },
   "outputs": [],
   "source": [
    "sncosmo.plot_lc(SNCosmo_snanalc);#, color='k');"
   ]
  },
  {
   "cell_type": "markdown",
   "metadata": {},
   "source": [
    "## Fitting\n",
    "\n",
    "import sncosmo"
   ]
  },
  {
   "cell_type": "markdown",
   "metadata": {},
   "source": [
    "To infer the light curve model parameters, we need a model. We will use the SALT model from SNCosmo"
   ]
  },
  {
   "cell_type": "code",
   "execution_count": null,
   "metadata": {
    "collapsed": false
   },
   "outputs": [],
   "source": [
    "dust = sncosmo.CCM89Dust()\n",
    "print(dust)"
   ]
  },
  {
   "cell_type": "code",
   "execution_count": null,
   "metadata": {
    "collapsed": false
   },
   "outputs": [],
   "source": [
    "model = sncosmo.Model(source='salt2', effects=[dust,dust],effect_names=['host', 'mw'], effect_frames=['rest', 'obs'])\n",
    "#print(model)\n",
    "#model.param_names\n",
    "#model.parameters"
   ]
  },
  {
   "cell_type": "markdown",
   "metadata": {},
   "source": [
    "We will not try to infer the redshift first"
   ]
  },
  {
   "cell_type": "code",
   "execution_count": null,
   "metadata": {
    "collapsed": false
   },
   "outputs": [],
   "source": [
    "model.set(z=0.5817)"
   ]
  },
  {
   "cell_type": "markdown",
   "metadata": {},
   "source": [
    "We have two main methods of trying to infer the model parameters: the first one is a maximum likelihood estimate and second one is a Markov Chain Monte Carlo"
   ]
  },
  {
   "cell_type": "code",
   "execution_count": null,
   "metadata": {
    "collapsed": false
   },
   "outputs": [],
   "source": [
    "resml,fitmodml = sncosmo.fit_lc(lcInstance.snCosmoLC(), model, vparam_names=['t0', 'x0', 'x1', 'c'], modelcov=False)\n",
    "resmcmc,fitmodmcmc = sncosmo.mcmc_lc(lcInstance.snCosmoLC(), model, vparam_names=['t0', 'x0', 'x1', 'c'], modelcov=False)"
   ]
  },
  {
   "cell_type": "markdown",
   "metadata": {
    "collapsed": false
   },
   "source": [
    "Get results from fits using sncosmo"
   ]
  },
  {
   "cell_type": "code",
   "execution_count": null,
   "metadata": {
    "collapsed": false
   },
   "outputs": [],
   "source": [
    "print(resmcmc)\n",
    "print(fitmodml)\n",
    "print(resml.parameters)"
   ]
  },
  {
   "cell_type": "markdown",
   "metadata": {},
   "source": [
    "Plotting LC for maximum likelihood model"
   ]
  },
  {
   "cell_type": "code",
   "execution_count": null,
   "metadata": {
    "collapsed": false
   },
   "outputs": [],
   "source": [
    "sncosmo.plot_lc(lcInstance.snCosmoLC(), model=fitmodml, errors=resml.errors);"
   ]
  },
  {
   "cell_type": "markdown",
   "metadata": {},
   "source": [
    "Plotting LC for MCMC"
   ]
  },
  {
   "cell_type": "code",
   "execution_count": null,
   "metadata": {
    "collapsed": false
   },
   "outputs": [],
   "source": [
    "sncosmo.plot_lc(lcInstance.snCosmoLC(), model=fitmodmcmc, errors=resmcmc.errors);"
   ]
  },
  {
   "cell_type": "code",
   "execution_count": null,
   "metadata": {
    "collapsed": false
   },
   "outputs": [],
   "source": [
    "fig, ax  = plt.subplots(1, 4,figsize=(18, 8))\n",
    "for i in range(0,4):\n",
    "    ax[i].hist(resmcmc.samples[:,i],bins=15, normed=1);\n",
    "    ax[i].set_xlabel(resmcmc.vparam_names[i])\n",
    "#resmcmc.samples()['t0'].hist(bins=10)#, lw=2., histtype='step', normed=1, ax=ax[2])\n",
    "#resmcmc.samples()['x0'].hist(bins=10, lw=2., histtype='step', normed=1, ax=ax[3])\n",
    "#resmcmc.samples()['x1'].hist(bins=np.arange(-4., 4., 0.2), lw=2., histtype='step', normed=1, ax=ax[1])\n",
    "#resmcmc.samples()['c'].hist(bins=np.arange(-0.6, 0.6, 0.03), lw=2., histtype='step', normed=1, ax=ax[0])"
   ]
  },
  {
   "cell_type": "markdown",
   "metadata": {
    "collapsed": false
   },
   "source": [
    "Plotting the LC of the previous example"
   ]
  },
  {
   "cell_type": "code",
   "execution_count": null,
   "metadata": {
    "collapsed": false
   },
   "outputs": [],
   "source": [
    "resfit_old,fitmod_old = sncosmo.fit_lc(lc.snCosmoLC(), model, vparam_names=['z','t0', 'x0', 'x1', 'c'],bounds={'z':(0.0, 0.7)}, modelcov=False)\n",
    "sncosmo.plot_lc(lc.snCosmoLC(), model=fitmod_old, errors=resfit_old.errors);"
   ]
  },
  {
   "cell_type": "code",
   "execution_count": null,
   "metadata": {
    "collapsed": false
   },
   "outputs": [],
   "source": [
    "resmcmc_old,fitmodmcmc_old = sncosmo.mcmc_lc(lc.snCosmoLC(), model, vparam_names=['z','t0', 'x0', 'x1', 'c'],bounds={'z':(0.0, 0.7)}, modelcov=False)\n",
    "sncosmo.plot_lc(lc.snCosmoLC(), model=fitmodmcmc_old, errors=resmcmc_old.errors);"
   ]
  },
  {
   "cell_type": "code",
   "execution_count": null,
   "metadata": {
    "collapsed": false
   },
   "outputs": [],
   "source": []
  },
  {
   "cell_type": "code",
   "execution_count": null,
   "metadata": {
    "collapsed": false
   },
   "outputs": [],
   "source": []
  },
  {
   "cell_type": "code",
   "execution_count": null,
   "metadata": {
    "collapsed": true
   },
   "outputs": [],
   "source": []
  },
  {
   "cell_type": "code",
   "execution_count": null,
   "metadata": {
    "collapsed": true
   },
   "outputs": [],
   "source": []
  },
  {
   "cell_type": "code",
   "execution_count": null,
   "metadata": {
    "collapsed": true
   },
   "outputs": [],
   "source": []
  }
 ],
 "metadata": {
  "anaconda-cloud": {},
  "kernelspec": {
   "display_name": "Python [default]",
   "language": "python",
   "name": "python2"
  },
  "language_info": {
   "codemirror_mode": {
    "name": "ipython",
    "version": 2
   },
   "file_extension": ".py",
   "mimetype": "text/x-python",
   "name": "python",
   "nbconvert_exporter": "python",
   "pygments_lexer": "ipython2",
   "version": "2.7.12"
  }
 },
 "nbformat": 4,
 "nbformat_minor": 1
}
