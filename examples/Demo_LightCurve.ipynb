{
 "cells": [
  {
   "cell_type": "markdown",
   "metadata": {},
   "source": [
    "#  The LightCurve class"
   ]
  },
  {
   "cell_type": "markdown",
   "metadata": {},
   "source": [
    "##  Background\n",
    "#### What kind of physical data are we representing and what do these quantities mean?"
   ]
  },
  {
   "cell_type": "markdown",
   "metadata": {},
   "source": [
    "Astrophysical variable sources including transients like supernovae are sources that are (roughly) fixed in position but change appreciably at human time scales, such that their measurements at different points of time in a survey are expected to be different. The key science of such sources has to do with interpreting such data.\n",
    "\n",
    "In a photometric or imaging survey, the raw data associated with such measurements is in the form of a time series of images, along with metadata. This is often extracted into a catalog summarizing the inferred brightness of the source in the filter band and the uncertainties of the inferred. The uncertainties in this process are dominated by the sky noise which is Poisson distributed to a good approximation. Hence, the format of this recorded data is usually of the form"
   ]
  },
  {
   "cell_type": "markdown",
   "metadata": {},
   "source": [
    "`timestamp`, `flux`, `flux uncertainty`, `zero point`, `magnitude system`"
   ]
  },
  {
   "cell_type": "markdown",
   "metadata": {},
   "source": [
    "Note that the `flux` is really the band flux obtained in a filter band"
   ]
  },
  {
   "cell_type": "markdown",
   "metadata": {},
   "source": [
    "The `zero point`, and `magnitude system` are methods of specifying the units of the reported `flux`, and `flux uncertainty`. `flux` may be reported so that the following equation with `bandflux` and `std_bandflux` in the same physical units holds. The `std_bandflux` depends on the transmissions and the magnitude system used."
   ]
  },
  {
   "cell_type": "markdown",
   "metadata": {},
   "source": [
    "bandmag := -2.5 log10(bandflux / std_bandflux) = -2.5 log10(flux) + zero point"
   ]
  },
  {
   "cell_type": "markdown",
   "metadata": {},
   "source": [
    "so that a zero point of zero, implies that `flux` is `bandflux` in units of `std_bandflux`"
   ]
  },
  {
   "cell_type": "markdown",
   "metadata": {},
   "source": [
    "## Desired Functionality"
   ]
  },
  {
   "cell_type": "markdown",
   "metadata": {},
   "source": [
    "the `LightCurve` class is meant to be a standard internal representation of this kind of catalog data in our software. This means that \n",
    "- given a different format/model of data, we will first convert it into an instance of this class.\n",
    "- All our calculations will be defined on instances of this class\n",
    "- We should have write methods to convert the instances of this class to useful formats for serialization."
   ]
  },
  {
   "cell_type": "markdown",
   "metadata": {},
   "source": [
    "## Structure"
   ]
  },
  {
   "cell_type": "code",
   "execution_count": 56,
   "metadata": {
    "collapsed": false
   },
   "outputs": [],
   "source": [
    "import sncosmo\n",
    "import analyzeSN as ans\n",
    "import numpy as np"
   ]
  },
  {
   "cell_type": "code",
   "execution_count": 2,
   "metadata": {
    "collapsed": true
   },
   "outputs": [],
   "source": [
    "from analyzeSN import LightCurve"
   ]
  },
  {
   "cell_type": "code",
   "execution_count": 50,
   "metadata": {
    "collapsed": false
   },
   "outputs": [
    {
     "name": "stderr",
     "output_type": "stream",
     "text": [
      "/usr/local/miniconda/lib/python2.7/site-packages/IPython/html.py:14: ShimWarning: The `IPython.html` package has been deprecated. You should import from `notebook` instead. `IPython.html.widgets` has moved to `ipywidgets`.\n",
      "  \"`IPython.html.widgets` has moved to `ipywidgets`.\", ShimWarning)\n"
     ]
    }
   ],
   "source": [
    "%matplotlib inline\n",
    "import matplotlib.pyplot as plt\n",
    "import seaborn as sns\n",
    "sns.set()"
   ]
  },
  {
   "cell_type": "markdown",
   "metadata": {},
   "source": [
    "#### Instantiation\n",
    "\n",
    "The class is instantiated using a constructor that has a mandatory input of a dataframe. and optional inputs. The dataframe must contain the light curve information, and the minimum set of columns required are:\n",
    "`mjd`, `band`, `flux`, `flux_err`, `zp`, `zpsys` or recognized aliases. Here, we load some data and demonstrate this"
   ]
  },
  {
   "cell_type": "code",
   "execution_count": 3,
   "metadata": {
    "collapsed": false
   },
   "outputs": [
    {
     "data": {
      "text/html": [
       "<div>\n",
       "<table border=\"1\" class=\"dataframe\">\n",
       "  <thead>\n",
       "    <tr style=\"text-align: right;\">\n",
       "      <th></th>\n",
       "      <th>time</th>\n",
       "      <th>band</th>\n",
       "      <th>flux</th>\n",
       "      <th>fluxerr</th>\n",
       "      <th>zp</th>\n",
       "      <th>zpsys</th>\n",
       "    </tr>\n",
       "  </thead>\n",
       "  <tbody>\n",
       "    <tr>\n",
       "      <th>0</th>\n",
       "      <td>55070.000000</td>\n",
       "      <td>sdssg</td>\n",
       "      <td>0.363512</td>\n",
       "      <td>0.672844</td>\n",
       "      <td>25.0</td>\n",
       "      <td>ab</td>\n",
       "    </tr>\n",
       "    <tr>\n",
       "      <th>1</th>\n",
       "      <td>55072.051282</td>\n",
       "      <td>sdssr</td>\n",
       "      <td>-0.200801</td>\n",
       "      <td>0.672844</td>\n",
       "      <td>25.0</td>\n",
       "      <td>ab</td>\n",
       "    </tr>\n",
       "    <tr>\n",
       "      <th>2</th>\n",
       "      <td>55074.102564</td>\n",
       "      <td>sdssi</td>\n",
       "      <td>0.307494</td>\n",
       "      <td>0.672844</td>\n",
       "      <td>25.0</td>\n",
       "      <td>ab</td>\n",
       "    </tr>\n",
       "    <tr>\n",
       "      <th>3</th>\n",
       "      <td>55076.153846</td>\n",
       "      <td>sdssz</td>\n",
       "      <td>1.087761</td>\n",
       "      <td>0.672844</td>\n",
       "      <td>25.0</td>\n",
       "      <td>ab</td>\n",
       "    </tr>\n",
       "    <tr>\n",
       "      <th>4</th>\n",
       "      <td>55078.205128</td>\n",
       "      <td>sdssg</td>\n",
       "      <td>-0.436679</td>\n",
       "      <td>0.672844</td>\n",
       "      <td>25.0</td>\n",
       "      <td>ab</td>\n",
       "    </tr>\n",
       "  </tbody>\n",
       "</table>\n",
       "</div>"
      ],
      "text/plain": [
       "           time   band      flux   fluxerr    zp zpsys\n",
       "0  55070.000000  sdssg  0.363512  0.672844  25.0    ab\n",
       "1  55072.051282  sdssr -0.200801  0.672844  25.0    ab\n",
       "2  55074.102564  sdssi  0.307494  0.672844  25.0    ab\n",
       "3  55076.153846  sdssz  1.087761  0.672844  25.0    ab\n",
       "4  55078.205128  sdssg -0.436679  0.672844  25.0    ab"
      ]
     },
     "execution_count": 3,
     "metadata": {},
     "output_type": "execute_result"
    }
   ],
   "source": [
    "ex_data = sncosmo.load_example_data().to_pandas()\n",
    "ex_data.head()"
   ]
  },
  {
   "cell_type": "markdown",
   "metadata": {},
   "source": [
    "This was a SNCosmo example dataset, loaded into `pandas.DataFrame`. Note that the column representing temporal information is `time`. Now, we will use this to instantiate our class."
   ]
  },
  {
   "cell_type": "code",
   "execution_count": 4,
   "metadata": {
    "collapsed": false
   },
   "outputs": [],
   "source": [
    "lc = LightCurve(ex_data)"
   ]
  },
  {
   "cell_type": "markdown",
   "metadata": {},
   "source": [
    "We get the representation in our convention by accessing the attribute `lightCurve`, which is a dataFrame with columns of the standard name. It could have more columns, but the minimal columns have to be there. If we supplied a dataFrame without having the minimal number of columns, it will raise a `valueError`, as described later. From the `lightCurve` attribute, we note that `time` has changed to our standard name `mjd`"
   ]
  },
  {
   "cell_type": "code",
   "execution_count": 5,
   "metadata": {
    "collapsed": false
   },
   "outputs": [
    {
     "data": {
      "text/html": [
       "<div>\n",
       "<table border=\"1\" class=\"dataframe\">\n",
       "  <thead>\n",
       "    <tr style=\"text-align: right;\">\n",
       "      <th></th>\n",
       "      <th>mjd</th>\n",
       "      <th>band</th>\n",
       "      <th>flux</th>\n",
       "      <th>fluxerr</th>\n",
       "      <th>zp</th>\n",
       "      <th>zpsys</th>\n",
       "    </tr>\n",
       "  </thead>\n",
       "  <tbody>\n",
       "    <tr>\n",
       "      <th>0</th>\n",
       "      <td>55070.000000</td>\n",
       "      <td>sdssg</td>\n",
       "      <td>0.363512</td>\n",
       "      <td>0.672844</td>\n",
       "      <td>25.0</td>\n",
       "      <td>ab</td>\n",
       "    </tr>\n",
       "    <tr>\n",
       "      <th>1</th>\n",
       "      <td>55072.051282</td>\n",
       "      <td>sdssr</td>\n",
       "      <td>-0.200801</td>\n",
       "      <td>0.672844</td>\n",
       "      <td>25.0</td>\n",
       "      <td>ab</td>\n",
       "    </tr>\n",
       "    <tr>\n",
       "      <th>2</th>\n",
       "      <td>55074.102564</td>\n",
       "      <td>sdssi</td>\n",
       "      <td>0.307494</td>\n",
       "      <td>0.672844</td>\n",
       "      <td>25.0</td>\n",
       "      <td>ab</td>\n",
       "    </tr>\n",
       "    <tr>\n",
       "      <th>3</th>\n",
       "      <td>55076.153846</td>\n",
       "      <td>sdssz</td>\n",
       "      <td>1.087761</td>\n",
       "      <td>0.672844</td>\n",
       "      <td>25.0</td>\n",
       "      <td>ab</td>\n",
       "    </tr>\n",
       "    <tr>\n",
       "      <th>4</th>\n",
       "      <td>55078.205128</td>\n",
       "      <td>sdssg</td>\n",
       "      <td>-0.436679</td>\n",
       "      <td>0.672844</td>\n",
       "      <td>25.0</td>\n",
       "      <td>ab</td>\n",
       "    </tr>\n",
       "  </tbody>\n",
       "</table>\n",
       "</div>"
      ],
      "text/plain": [
       "            mjd   band      flux   fluxerr    zp zpsys\n",
       "0  55070.000000  sdssg  0.363512  0.672844  25.0    ab\n",
       "1  55072.051282  sdssr -0.200801  0.672844  25.0    ab\n",
       "2  55074.102564  sdssi  0.307494  0.672844  25.0    ab\n",
       "3  55076.153846  sdssz  1.087761  0.672844  25.0    ab\n",
       "4  55078.205128  sdssg -0.436679  0.672844  25.0    ab"
      ]
     },
     "execution_count": 5,
     "metadata": {},
     "output_type": "execute_result"
    }
   ],
   "source": [
    "lc.lightCurve.head()"
   ]
  },
  {
   "cell_type": "markdown",
   "metadata": {},
   "source": [
    "What would have happened if an essential column was missing? to check let us do the following:\n",
    "   - We create a dataframe like the above, but remove the essential column band\n",
    "   - We attempt to create an instance of the LightCurve class"
   ]
  },
  {
   "cell_type": "code",
   "execution_count": 6,
   "metadata": {
    "collapsed": false
   },
   "outputs": [
    {
     "data": {
      "text/html": [
       "<div>\n",
       "<table border=\"1\" class=\"dataframe\">\n",
       "  <thead>\n",
       "    <tr style=\"text-align: right;\">\n",
       "      <th></th>\n",
       "      <th>time</th>\n",
       "      <th>flux</th>\n",
       "      <th>fluxerr</th>\n",
       "      <th>zp</th>\n",
       "      <th>zpsys</th>\n",
       "    </tr>\n",
       "  </thead>\n",
       "  <tbody>\n",
       "    <tr>\n",
       "      <th>0</th>\n",
       "      <td>55070.000000</td>\n",
       "      <td>0.363512</td>\n",
       "      <td>0.672844</td>\n",
       "      <td>25.0</td>\n",
       "      <td>ab</td>\n",
       "    </tr>\n",
       "    <tr>\n",
       "      <th>1</th>\n",
       "      <td>55072.051282</td>\n",
       "      <td>-0.200801</td>\n",
       "      <td>0.672844</td>\n",
       "      <td>25.0</td>\n",
       "      <td>ab</td>\n",
       "    </tr>\n",
       "    <tr>\n",
       "      <th>2</th>\n",
       "      <td>55074.102564</td>\n",
       "      <td>0.307494</td>\n",
       "      <td>0.672844</td>\n",
       "      <td>25.0</td>\n",
       "      <td>ab</td>\n",
       "    </tr>\n",
       "    <tr>\n",
       "      <th>3</th>\n",
       "      <td>55076.153846</td>\n",
       "      <td>1.087761</td>\n",
       "      <td>0.672844</td>\n",
       "      <td>25.0</td>\n",
       "      <td>ab</td>\n",
       "    </tr>\n",
       "    <tr>\n",
       "      <th>4</th>\n",
       "      <td>55078.205128</td>\n",
       "      <td>-0.436679</td>\n",
       "      <td>0.672844</td>\n",
       "      <td>25.0</td>\n",
       "      <td>ab</td>\n",
       "    </tr>\n",
       "  </tbody>\n",
       "</table>\n",
       "</div>"
      ],
      "text/plain": [
       "           time      flux   fluxerr    zp zpsys\n",
       "0  55070.000000  0.363512  0.672844  25.0    ab\n",
       "1  55072.051282 -0.200801  0.672844  25.0    ab\n",
       "2  55074.102564  0.307494  0.672844  25.0    ab\n",
       "3  55076.153846  1.087761  0.672844  25.0    ab\n",
       "4  55078.205128 -0.436679  0.672844  25.0    ab"
      ]
     },
     "execution_count": 6,
     "metadata": {},
     "output_type": "execute_result"
    }
   ],
   "source": [
    "lc_tmp = ex_data.copy()\n",
    "del lc_tmp['band']\n",
    "lc_tmp.head()"
   ]
  },
  {
   "cell_type": "code",
   "execution_count": 7,
   "metadata": {
    "collapsed": false
   },
   "outputs": [
    {
     "ename": "ValueError",
     "evalue": "('light curve data has missing columns', set(['band']))",
     "output_type": "error",
     "traceback": [
      "\u001b[0;31m---------------------------------------------------------------------------\u001b[0m",
      "\u001b[0;31mValueError\u001b[0m                                Traceback (most recent call last)",
      "\u001b[0;32m<ipython-input-7-0768a2d4af41>\u001b[0m in \u001b[0;36m<module>\u001b[0;34m()\u001b[0m\n\u001b[0;32m----> 1\u001b[0;31m \u001b[0mlc_bad\u001b[0m \u001b[0;34m=\u001b[0m \u001b[0mLightCurve\u001b[0m\u001b[0;34m(\u001b[0m\u001b[0mlc_tmp\u001b[0m\u001b[0;34m)\u001b[0m\u001b[0;34m\u001b[0m\u001b[0m\n\u001b[0m",
      "\u001b[0;32m/Users/rbiswas/.local/lib/python2.7/site-packages/analyzeSN/lightcurve.pyc\u001b[0m in \u001b[0;36m__init__\u001b[0;34m(self, lcdf, bandNameDict, ignore_case)\u001b[0m\n\u001b[1;32m    114\u001b[0m         \u001b[0mself\u001b[0m\u001b[0;34m.\u001b[0m\u001b[0m_lightCurve\u001b[0m  \u001b[0;34m=\u001b[0m \u001b[0mlcdf\u001b[0m\u001b[0;34m\u001b[0m\u001b[0m\n\u001b[1;32m    115\u001b[0m         \u001b[0mself\u001b[0m\u001b[0;34m.\u001b[0m\u001b[0mignore_case\u001b[0m \u001b[0;34m=\u001b[0m \u001b[0mignore_case\u001b[0m\u001b[0;34m\u001b[0m\u001b[0m\n\u001b[0;32m--> 116\u001b[0;31m         \u001b[0m_\u001b[0m \u001b[0;34m=\u001b[0m \u001b[0mself\u001b[0m\u001b[0;34m.\u001b[0m\u001b[0mlightCurve\u001b[0m\u001b[0;34m\u001b[0m\u001b[0m\n\u001b[0m\u001b[1;32m    117\u001b[0m \u001b[0;34m\u001b[0m\u001b[0m\n\u001b[1;32m    118\u001b[0m \u001b[0;34m\u001b[0m\u001b[0m\n",
      "\u001b[0;32m/Users/rbiswas/.local/lib/python2.7/site-packages/analyzeSN/lightcurve.pyc\u001b[0m in \u001b[0;36mlightCurve\u001b[0;34m(self)\u001b[0m\n\u001b[1;32m    156\u001b[0m         \u001b[0;32mif\u001b[0m \u001b[0mlen\u001b[0m\u001b[0;34m(\u001b[0m\u001b[0mmissingColumns\u001b[0m\u001b[0;34m)\u001b[0m \u001b[0;34m>\u001b[0m \u001b[0;36m0\u001b[0m\u001b[0;34m:\u001b[0m\u001b[0;34m\u001b[0m\u001b[0m\n\u001b[1;32m    157\u001b[0m             raise ValueError('light curve data has missing columns',\n\u001b[0;32m--> 158\u001b[0;31m                              missingColumns)\n\u001b[0m\u001b[1;32m    159\u001b[0m         \u001b[0;32melse\u001b[0m\u001b[0;34m:\u001b[0m\u001b[0;34m\u001b[0m\u001b[0m\n\u001b[1;32m    160\u001b[0m             \u001b[0m_lc\u001b[0m\u001b[0;34m.\u001b[0m\u001b[0mband\u001b[0m \u001b[0;34m=\u001b[0m \u001b[0m_lc\u001b[0m\u001b[0;34m.\u001b[0m\u001b[0mband\u001b[0m\u001b[0;34m.\u001b[0m\u001b[0mapply\u001b[0m\u001b[0;34m(\u001b[0m\u001b[0;32mlambda\u001b[0m \u001b[0mx\u001b[0m\u001b[0;34m:\u001b[0m \u001b[0mx\u001b[0m\u001b[0;34m.\u001b[0m\u001b[0mstrip\u001b[0m\u001b[0;34m(\u001b[0m\u001b[0;34m)\u001b[0m\u001b[0;34m)\u001b[0m\u001b[0;34m\u001b[0m\u001b[0m\n",
      "\u001b[0;31mValueError\u001b[0m: ('light curve data has missing columns', set(['band']))"
     ]
    }
   ],
   "source": [
    "lc_bad = LightCurve(lc_tmp)"
   ]
  },
  {
   "cell_type": "markdown",
   "metadata": {},
   "source": [
    "This raises a ValueError pointing out that the column `band` was missing. However, it correctly recognizes that while\n",
    "`mjd` was missing, it had the aliased column `time` instead and did not report it missing."
   ]
  },
  {
   "cell_type": "markdown",
   "metadata": {},
   "source": [
    "### Light Curves in SNCosmo Format"
   ]
  },
  {
   "cell_type": "markdown",
   "metadata": {},
   "source": [
    "SNCosmo has a data format using `astropy.table.Table`. Since, we use SNCosmo to plot, or fit light curves, it is essential that we can regenerate the SNCosmo format data easily. We do this by the following method"
   ]
  },
  {
   "cell_type": "code",
   "execution_count": 8,
   "metadata": {
    "collapsed": false
   },
   "outputs": [],
   "source": [
    "SNCosmoLC = lc.snCosmoLC()"
   ]
  },
  {
   "cell_type": "code",
   "execution_count": 9,
   "metadata": {
    "collapsed": false
   },
   "outputs": [
    {
     "data": {
      "text/html": [
       "&lt;Table length=40&gt;\n",
       "<table id=\"table4461259088\" class=\"table-striped table-bordered table-condensed\">\n",
       "<thead><tr><th>time</th><th>band</th><th>flux</th><th>fluxerr</th><th>zp</th><th>zpsys</th></tr></thead>\n",
       "<thead><tr><th>float64</th><th>str5</th><th>float64</th><th>float64</th><th>float64</th><th>str2</th></tr></thead>\n",
       "<tr><td>55070.0</td><td>sdssg</td><td>0.36351153597</td><td>0.672843847541</td><td>25.0</td><td>ab</td></tr>\n",
       "<tr><td>55072.0512821</td><td>sdssr</td><td>-0.200801295864</td><td>0.672843847541</td><td>25.0</td><td>ab</td></tr>\n",
       "<tr><td>55074.1025641</td><td>sdssi</td><td>0.307494232981</td><td>0.672843847541</td><td>25.0</td><td>ab</td></tr>\n",
       "<tr><td>55076.1538462</td><td>sdssz</td><td>1.08776103656</td><td>0.672843847541</td><td>25.0</td><td>ab</td></tr>\n",
       "<tr><td>55078.2051282</td><td>sdssg</td><td>-0.43667895645</td><td>0.672843847541</td><td>25.0</td><td>ab</td></tr>\n",
       "<tr><td>55080.2564103</td><td>sdssr</td><td>1.09780966779</td><td>0.672843847541</td><td>25.0</td><td>ab</td></tr>\n",
       "<tr><td>55082.3076923</td><td>sdssi</td><td>3.7562685627</td><td>0.672843847541</td><td>25.0</td><td>ab</td></tr>\n",
       "<tr><td>55084.3589744</td><td>sdssz</td><td>5.34858894966</td><td>0.672843847541</td><td>25.0</td><td>ab</td></tr>\n",
       "<tr><td>55086.4102564</td><td>sdssg</td><td>2.82614187269</td><td>0.672843847541</td><td>25.0</td><td>ab</td></tr>\n",
       "<tr><td>55088.4615385</td><td>sdssr</td><td>7.56547045054</td><td>0.672843847541</td><td>25.0</td><td>ab</td></tr>\n",
       "<tr><td>...</td><td>...</td><td>...</td><td>...</td><td>...</td><td>...</td></tr>\n",
       "<tr><td>55131.5384615</td><td>sdssi</td><td>3.99520404021</td><td>0.672843847541</td><td>25.0</td><td>ab</td></tr>\n",
       "<tr><td>55133.5897436</td><td>sdssz</td><td>5.73989458094</td><td>0.672843847541</td><td>25.0</td><td>ab</td></tr>\n",
       "<tr><td>55135.6410256</td><td>sdssg</td><td>0.330702283107</td><td>0.672843847541</td><td>25.0</td><td>ab</td></tr>\n",
       "<tr><td>55137.6923077</td><td>sdssr</td><td>0.565286726579</td><td>0.672843847541</td><td>25.0</td><td>ab</td></tr>\n",
       "<tr><td>55139.7435897</td><td>sdssi</td><td>3.04318346795</td><td>0.672843847541</td><td>25.0</td><td>ab</td></tr>\n",
       "<tr><td>55141.7948718</td><td>sdssz</td><td>5.62692686384</td><td>0.672843847541</td><td>25.0</td><td>ab</td></tr>\n",
       "<tr><td>55143.8461538</td><td>sdssg</td><td>-0.722654789013</td><td>0.672843847541</td><td>25.0</td><td>ab</td></tr>\n",
       "<tr><td>55145.8974359</td><td>sdssr</td><td>1.12091764262</td><td>0.672843847541</td><td>25.0</td><td>ab</td></tr>\n",
       "<tr><td>55147.9487179</td><td>sdssi</td><td>2.1246695264</td><td>0.672843847541</td><td>25.0</td><td>ab</td></tr>\n",
       "<tr><td>55150.0</td><td>sdssz</td><td>5.3482175645</td><td>0.672843847541</td><td>25.0</td><td>ab</td></tr>\n",
       "</table>"
      ],
      "text/plain": [
       "<Table length=40>\n",
       "     time      band       flux         fluxerr        zp   zpsys\n",
       "   float64     str5     float64        float64     float64  str2\n",
       "------------- ----- --------------- -------------- ------- -----\n",
       "      55070.0 sdssg   0.36351153597 0.672843847541    25.0    ab\n",
       "55072.0512821 sdssr -0.200801295864 0.672843847541    25.0    ab\n",
       "55074.1025641 sdssi  0.307494232981 0.672843847541    25.0    ab\n",
       "55076.1538462 sdssz   1.08776103656 0.672843847541    25.0    ab\n",
       "55078.2051282 sdssg  -0.43667895645 0.672843847541    25.0    ab\n",
       "55080.2564103 sdssr   1.09780966779 0.672843847541    25.0    ab\n",
       "55082.3076923 sdssi    3.7562685627 0.672843847541    25.0    ab\n",
       "55084.3589744 sdssz   5.34858894966 0.672843847541    25.0    ab\n",
       "55086.4102564 sdssg   2.82614187269 0.672843847541    25.0    ab\n",
       "55088.4615385 sdssr   7.56547045054 0.672843847541    25.0    ab\n",
       "          ...   ...             ...            ...     ...   ...\n",
       "55131.5384615 sdssi   3.99520404021 0.672843847541    25.0    ab\n",
       "55133.5897436 sdssz   5.73989458094 0.672843847541    25.0    ab\n",
       "55135.6410256 sdssg  0.330702283107 0.672843847541    25.0    ab\n",
       "55137.6923077 sdssr  0.565286726579 0.672843847541    25.0    ab\n",
       "55139.7435897 sdssi   3.04318346795 0.672843847541    25.0    ab\n",
       "55141.7948718 sdssz   5.62692686384 0.672843847541    25.0    ab\n",
       "55143.8461538 sdssg -0.722654789013 0.672843847541    25.0    ab\n",
       "55145.8974359 sdssr   1.12091764262 0.672843847541    25.0    ab\n",
       "55147.9487179 sdssi    2.1246695264 0.672843847541    25.0    ab\n",
       "      55150.0 sdssz    5.3482175645 0.672843847541    25.0    ab"
      ]
     },
     "execution_count": 9,
     "metadata": {},
     "output_type": "execute_result"
    }
   ],
   "source": [
    "SNCosmoLC"
   ]
  },
  {
   "cell_type": "markdown",
   "metadata": {},
   "source": [
    "We can now plot the data using the usual SNCosmo plotting method, showing the data in g, r, and z bands."
   ]
  },
  {
   "cell_type": "code",
   "execution_count": 10,
   "metadata": {
    "collapsed": false
   },
   "outputs": [
    {
     "data": {
      "image/png": "[encoded data removed]",
      "text/plain": [
       "<matplotlib.figure.Figure at 0x109f2ea90>"
      ]
     },
     "execution_count": 10,
     "metadata": {},
     "output_type": "execute_result"
    }
   ],
   "source": [
    "sncosmo.plot_lc(SNCosmoLC)"
   ]
  },
  {
   "cell_type": "markdown",
   "metadata": {},
   "source": [
    "## SNANA simulations"
   ]
  },
  {
   "cell_type": "code",
   "execution_count": 11,
   "metadata": {
    "collapsed": false
   },
   "outputs": [],
   "source": [
    "from analyzeSN import SNANASims"
   ]
  },
  {
   "cell_type": "code",
   "execution_count": 12,
   "metadata": {
    "collapsed": true
   },
   "outputs": [],
   "source": [
    "from astropy.table import Table"
   ]
  },
  {
   "cell_type": "code",
   "execution_count": 13,
   "metadata": {
    "collapsed": true
   },
   "outputs": [],
   "source": [
    "megacamBandNames = 'ugriz'\n",
    "megacamRegisteredNames = tuple('mega_' + band for band in megacamBandNames)"
   ]
  },
  {
   "cell_type": "code",
   "execution_count": 14,
   "metadata": {
    "collapsed": false
   },
   "outputs": [],
   "source": [
    "snana_eg = SNANASims.fromSNANAfileroot(snanafileroot='snana_fits',\n",
    "                                       location='../analyzeSN/example_data/',\n",
    "                                       coerce_inds2int=False,\n",
    "                                       SNANABandNames=megacamBandNames,\n",
    "                                       registeredBandNames=megacamRegisteredNames)"
   ]
  },
  {
   "cell_type": "code",
   "execution_count": 15,
   "metadata": {
    "collapsed": false
   },
   "outputs": [
    {
     "data": {
      "text/html": [
       "&lt;Table length=5&gt;\n",
       "<table id=\"table4475643152\" class=\"table-striped table-bordered table-condensed\">\n",
       "<thead><tr><th>MJD</th><th>FLT</th><th>FIELD</th><th>TELESCOPE</th><th>PHOTFLAG</th><th>PHOTPROB</th><th>FLUXCAL</th><th>FLUXCALERR</th><th>MAG</th><th>MAGERR</th><th>PSF_SIG1</th><th>PSF_SIG2</th><th>PSF_RATIO</th><th>SKY_SIG</th><th>SKY_SIG_T</th><th>RDNOISE</th><th>ZEROPT</th><th>ZEROPT_ERR</th><th>GAIN</th></tr></thead>\n",
       "<thead><tr><th>float64</th><th>str2</th><th>str12</th><th>str20</th><th>int32</th><th>float32</th><th>float32</th><th>float32</th><th>float32</th><th>float32</th><th>float32</th><th>float32</th><th>float32</th><th>float32</th><th>float32</th><th>float32</th><th>float32</th><th>float32</th><th>float32</th></tr></thead>\n",
       "<tr><td>53023.23</td><td>r</td><td>NULL</td><td>ALL</td><td>0</td><td>0.0</td><td>0.82</td><td>1.756</td><td>27.717</td><td>0.0</td><td>0.0</td><td>0.0</td><td>0.0</td><td>0.0</td><td>0.0</td><td>0.0</td><td>0.0</td><td>0.0</td><td>0.0</td></tr>\n",
       "<tr><td>53026.27</td><td>i</td><td>NULL</td><td>ALL</td><td>0</td><td>0.0</td><td>2.54</td><td>2.877</td><td>26.487</td><td>0.0</td><td>0.0</td><td>0.0</td><td>0.0</td><td>0.0</td><td>0.0</td><td>0.0</td><td>0.0</td><td>0.0</td><td>0.0</td></tr>\n",
       "<tr><td>53026.34</td><td>r</td><td>NULL</td><td>ALL</td><td>0</td><td>0.0</td><td>-3.1</td><td>1.816</td><td>666.0</td><td>0.0</td><td>0.0</td><td>0.0</td><td>0.0</td><td>0.0</td><td>0.0</td><td>0.0</td><td>0.0</td><td>0.0</td><td>0.0</td></tr>\n",
       "<tr><td>-777.0</td><td>-</td><td>XXXX</td><td>XXXX</td><td>0</td><td>0.0</td><td>-777.0</td><td>-777.0</td><td>0.0</td><td>0.0</td><td>0.0</td><td>0.0</td><td>0.0</td><td>0.0</td><td>0.0</td><td>0.0</td><td>0.0</td><td>0.0</td><td>0.0</td></tr>\n",
       "<tr><td>52881.5</td><td>i</td><td>NULL</td><td>ALL</td><td>0</td><td>0.0</td><td>-3.9</td><td>2.704</td><td>666.0</td><td>0.0</td><td>0.0</td><td>0.0</td><td>0.0</td><td>0.0</td><td>0.0</td><td>0.0</td><td>0.0</td><td>0.0</td><td>0.0</td></tr>\n",
       "</table>"
      ],
      "text/plain": [
       "<Table length=5>\n",
       "  MJD    FLT     FIELD          TELESCOPE       ...  ZEROPT ZEROPT_ERR   GAIN \n",
       "float64  str2    str12            str20         ... float32  float32   float32\n",
       "-------- ---- ------------ -------------------- ... ------- ---------- -------\n",
       "53023.23   r  NULL         ALL                  ...     0.0        0.0     0.0\n",
       "53026.27   i  NULL         ALL                  ...     0.0        0.0     0.0\n",
       "53026.34   r  NULL         ALL                  ...     0.0        0.0     0.0\n",
       "  -777.0   -  XXXX         XXXX                 ...     0.0        0.0     0.0\n",
       " 52881.5   i  NULL         ALL                  ...     0.0        0.0     0.0"
      ]
     },
     "execution_count": 15,
     "metadata": {},
     "output_type": "execute_result"
    }
   ],
   "source": [
    "Table.read(snana_eg.photFile)[45:50]"
   ]
  },
  {
   "cell_type": "markdown",
   "metadata": {},
   "source": [
    "Let us look at what the array in the fits file looks like: \n",
    "- It has fields that are not of the standard name (FLUXCAL)\n",
    "- It has things like \"XXX\" in he fields"
   ]
  },
  {
   "cell_type": "code",
   "execution_count": 16,
   "metadata": {
    "collapsed": false
   },
   "outputs": [
    {
     "data": {
      "text/plain": [
       "'ugriz'"
      ]
     },
     "execution_count": 16,
     "metadata": {},
     "output_type": "execute_result"
    }
   ],
   "source": [
    "snana_eg.bandNames"
   ]
  },
  {
   "cell_type": "code",
   "execution_count": 17,
   "metadata": {
    "collapsed": false
   },
   "outputs": [
    {
     "data": {
      "text/plain": [
       "('mega_u', 'mega_g', 'mega_r', 'mega_i', 'mega_z')"
      ]
     },
     "execution_count": 17,
     "metadata": {},
     "output_type": "execute_result"
    }
   ],
   "source": [
    "snana_eg.newbandNames"
   ]
  },
  {
   "cell_type": "code",
   "execution_count": 18,
   "metadata": {
    "collapsed": false
   },
   "outputs": [],
   "source": [
    "lcInstance = snana_eg.get_SNANA_photometry(snid='03D1aw')"
   ]
  },
  {
   "cell_type": "code",
   "execution_count": 19,
   "metadata": {
    "collapsed": false
   },
   "outputs": [
    {
     "data": {
      "text/html": [
       "<div>\n",
       "<table border=\"1\" class=\"dataframe\">\n",
       "  <thead>\n",
       "    <tr style=\"text-align: right;\">\n",
       "      <th></th>\n",
       "      <th>mjd</th>\n",
       "      <th>band</th>\n",
       "      <th>flux</th>\n",
       "      <th>fluxerr</th>\n",
       "      <th>zp</th>\n",
       "      <th>zpsys</th>\n",
       "    </tr>\n",
       "  </thead>\n",
       "  <tbody>\n",
       "    <tr>\n",
       "      <th>0</th>\n",
       "      <td>52881.500</td>\n",
       "      <td>mega_i</td>\n",
       "      <td>13.440000</td>\n",
       "      <td>2.846000</td>\n",
       "      <td>27.5</td>\n",
       "      <td>ab</td>\n",
       "    </tr>\n",
       "    <tr>\n",
       "      <th>1</th>\n",
       "      <td>52881.539</td>\n",
       "      <td>mega_r</td>\n",
       "      <td>7.740000</td>\n",
       "      <td>1.701000</td>\n",
       "      <td>27.5</td>\n",
       "      <td>ab</td>\n",
       "    </tr>\n",
       "    <tr>\n",
       "      <th>2</th>\n",
       "      <td>52881.559</td>\n",
       "      <td>mega_z</td>\n",
       "      <td>19.719999</td>\n",
       "      <td>6.539000</td>\n",
       "      <td>27.5</td>\n",
       "      <td>ab</td>\n",
       "    </tr>\n",
       "    <tr>\n",
       "      <th>3</th>\n",
       "      <td>52886.602</td>\n",
       "      <td>mega_i</td>\n",
       "      <td>44.520000</td>\n",
       "      <td>2.909000</td>\n",
       "      <td>27.5</td>\n",
       "      <td>ab</td>\n",
       "    </tr>\n",
       "    <tr>\n",
       "      <th>4</th>\n",
       "      <td>52900.531</td>\n",
       "      <td>mega_i</td>\n",
       "      <td>86.570000</td>\n",
       "      <td>2.914000</td>\n",
       "      <td>27.5</td>\n",
       "      <td>ab</td>\n",
       "    </tr>\n",
       "    <tr>\n",
       "      <th>5</th>\n",
       "      <td>52900.559</td>\n",
       "      <td>mega_r</td>\n",
       "      <td>62.169998</td>\n",
       "      <td>2.324000</td>\n",
       "      <td>27.5</td>\n",
       "      <td>ab</td>\n",
       "    </tr>\n",
       "    <tr>\n",
       "      <th>6</th>\n",
       "      <td>52900.590</td>\n",
       "      <td>mega_z</td>\n",
       "      <td>84.410004</td>\n",
       "      <td>8.752000</td>\n",
       "      <td>27.5</td>\n",
       "      <td>ab</td>\n",
       "    </tr>\n",
       "    <tr>\n",
       "      <th>7</th>\n",
       "      <td>52904.531</td>\n",
       "      <td>mega_i</td>\n",
       "      <td>80.720001</td>\n",
       "      <td>2.710000</td>\n",
       "      <td>27.5</td>\n",
       "      <td>ab</td>\n",
       "    </tr>\n",
       "    <tr>\n",
       "      <th>8</th>\n",
       "      <td>52904.570</td>\n",
       "      <td>mega_r</td>\n",
       "      <td>55.090000</td>\n",
       "      <td>2.009000</td>\n",
       "      <td>27.5</td>\n",
       "      <td>ab</td>\n",
       "    </tr>\n",
       "    <tr>\n",
       "      <th>9</th>\n",
       "      <td>52908.559</td>\n",
       "      <td>mega_r</td>\n",
       "      <td>54.500000</td>\n",
       "      <td>1.930000</td>\n",
       "      <td>27.5</td>\n",
       "      <td>ab</td>\n",
       "    </tr>\n",
       "    <tr>\n",
       "      <th>10</th>\n",
       "      <td>52908.602</td>\n",
       "      <td>mega_i</td>\n",
       "      <td>76.160004</td>\n",
       "      <td>2.932000</td>\n",
       "      <td>27.5</td>\n",
       "      <td>ab</td>\n",
       "    </tr>\n",
       "    <tr>\n",
       "      <th>11</th>\n",
       "      <td>52909.609</td>\n",
       "      <td>mega_z</td>\n",
       "      <td>81.099998</td>\n",
       "      <td>7.752000</td>\n",
       "      <td>27.5</td>\n",
       "      <td>ab</td>\n",
       "    </tr>\n",
       "    <tr>\n",
       "      <th>12</th>\n",
       "      <td>52912.488</td>\n",
       "      <td>mega_i</td>\n",
       "      <td>70.440002</td>\n",
       "      <td>2.866000</td>\n",
       "      <td>27.5</td>\n",
       "      <td>ab</td>\n",
       "    </tr>\n",
       "    <tr>\n",
       "      <th>13</th>\n",
       "      <td>52914.570</td>\n",
       "      <td>mega_r</td>\n",
       "      <td>42.810001</td>\n",
       "      <td>2.690000</td>\n",
       "      <td>27.5</td>\n",
       "      <td>ab</td>\n",
       "    </tr>\n",
       "    <tr>\n",
       "      <th>14</th>\n",
       "      <td>52915.621</td>\n",
       "      <td>mega_i</td>\n",
       "      <td>62.090000</td>\n",
       "      <td>3.366000</td>\n",
       "      <td>27.5</td>\n",
       "      <td>ab</td>\n",
       "    </tr>\n",
       "    <tr>\n",
       "      <th>15</th>\n",
       "      <td>52916.461</td>\n",
       "      <td>mega_r</td>\n",
       "      <td>38.060001</td>\n",
       "      <td>1.845000</td>\n",
       "      <td>27.5</td>\n",
       "      <td>ab</td>\n",
       "    </tr>\n",
       "    <tr>\n",
       "      <th>16</th>\n",
       "      <td>52934.512</td>\n",
       "      <td>mega_r</td>\n",
       "      <td>8.750000</td>\n",
       "      <td>3.558000</td>\n",
       "      <td>27.5</td>\n",
       "      <td>ab</td>\n",
       "    </tr>\n",
       "    <tr>\n",
       "      <th>17</th>\n",
       "      <td>52937.512</td>\n",
       "      <td>mega_i</td>\n",
       "      <td>23.530001</td>\n",
       "      <td>5.018000</td>\n",
       "      <td>27.5</td>\n",
       "      <td>ab</td>\n",
       "    </tr>\n",
       "    <tr>\n",
       "      <th>18</th>\n",
       "      <td>52937.578</td>\n",
       "      <td>mega_r</td>\n",
       "      <td>-0.060000</td>\n",
       "      <td>5.241000</td>\n",
       "      <td>27.5</td>\n",
       "      <td>ab</td>\n",
       "    </tr>\n",
       "    <tr>\n",
       "      <th>19</th>\n",
       "      <td>52938.520</td>\n",
       "      <td>mega_z</td>\n",
       "      <td>78.430000</td>\n",
       "      <td>24.221001</td>\n",
       "      <td>27.5</td>\n",
       "      <td>ab</td>\n",
       "    </tr>\n",
       "    <tr>\n",
       "      <th>20</th>\n",
       "      <td>52942.488</td>\n",
       "      <td>mega_i</td>\n",
       "      <td>19.780001</td>\n",
       "      <td>8.521000</td>\n",
       "      <td>27.5</td>\n",
       "      <td>ab</td>\n",
       "    </tr>\n",
       "    <tr>\n",
       "      <th>21</th>\n",
       "      <td>52944.441</td>\n",
       "      <td>mega_r</td>\n",
       "      <td>7.440000</td>\n",
       "      <td>3.887000</td>\n",
       "      <td>27.5</td>\n",
       "      <td>ab</td>\n",
       "    </tr>\n",
       "    <tr>\n",
       "      <th>22</th>\n",
       "      <td>52944.469</td>\n",
       "      <td>mega_z</td>\n",
       "      <td>10.470000</td>\n",
       "      <td>13.880000</td>\n",
       "      <td>27.5</td>\n",
       "      <td>ab</td>\n",
       "    </tr>\n",
       "    <tr>\n",
       "      <th>23</th>\n",
       "      <td>52961.379</td>\n",
       "      <td>mega_i</td>\n",
       "      <td>9.140000</td>\n",
       "      <td>3.233000</td>\n",
       "      <td>27.5</td>\n",
       "      <td>ab</td>\n",
       "    </tr>\n",
       "    <tr>\n",
       "      <th>24</th>\n",
       "      <td>52961.480</td>\n",
       "      <td>mega_r</td>\n",
       "      <td>4.840000</td>\n",
       "      <td>2.418000</td>\n",
       "      <td>27.5</td>\n",
       "      <td>ab</td>\n",
       "    </tr>\n",
       "    <tr>\n",
       "      <th>25</th>\n",
       "      <td>52962.309</td>\n",
       "      <td>mega_z</td>\n",
       "      <td>20.190001</td>\n",
       "      <td>5.934000</td>\n",
       "      <td>27.5</td>\n",
       "      <td>ab</td>\n",
       "    </tr>\n",
       "    <tr>\n",
       "      <th>26</th>\n",
       "      <td>52964.320</td>\n",
       "      <td>mega_i</td>\n",
       "      <td>9.600000</td>\n",
       "      <td>2.981000</td>\n",
       "      <td>27.5</td>\n",
       "      <td>ab</td>\n",
       "    </tr>\n",
       "    <tr>\n",
       "      <th>27</th>\n",
       "      <td>52964.398</td>\n",
       "      <td>mega_r</td>\n",
       "      <td>1.800000</td>\n",
       "      <td>2.409000</td>\n",
       "      <td>27.5</td>\n",
       "      <td>ab</td>\n",
       "    </tr>\n",
       "    <tr>\n",
       "      <th>28</th>\n",
       "      <td>52964.441</td>\n",
       "      <td>mega_z</td>\n",
       "      <td>6.420000</td>\n",
       "      <td>15.410000</td>\n",
       "      <td>27.5</td>\n",
       "      <td>ab</td>\n",
       "    </tr>\n",
       "    <tr>\n",
       "      <th>29</th>\n",
       "      <td>52968.371</td>\n",
       "      <td>mega_r</td>\n",
       "      <td>3.590000</td>\n",
       "      <td>2.250000</td>\n",
       "      <td>27.5</td>\n",
       "      <td>ab</td>\n",
       "    </tr>\n",
       "    <tr>\n",
       "      <th>30</th>\n",
       "      <td>52972.270</td>\n",
       "      <td>mega_i</td>\n",
       "      <td>-1.910000</td>\n",
       "      <td>3.710000</td>\n",
       "      <td>27.5</td>\n",
       "      <td>ab</td>\n",
       "    </tr>\n",
       "    <tr>\n",
       "      <th>31</th>\n",
       "      <td>52990.262</td>\n",
       "      <td>mega_i</td>\n",
       "      <td>7.550000</td>\n",
       "      <td>2.904000</td>\n",
       "      <td>27.5</td>\n",
       "      <td>ab</td>\n",
       "    </tr>\n",
       "    <tr>\n",
       "      <th>32</th>\n",
       "      <td>52990.340</td>\n",
       "      <td>mega_r</td>\n",
       "      <td>0.500000</td>\n",
       "      <td>1.987000</td>\n",
       "      <td>27.5</td>\n",
       "      <td>ab</td>\n",
       "    </tr>\n",
       "    <tr>\n",
       "      <th>33</th>\n",
       "      <td>52992.250</td>\n",
       "      <td>mega_i</td>\n",
       "      <td>4.020000</td>\n",
       "      <td>3.062000</td>\n",
       "      <td>27.5</td>\n",
       "      <td>ab</td>\n",
       "    </tr>\n",
       "    <tr>\n",
       "      <th>34</th>\n",
       "      <td>52992.289</td>\n",
       "      <td>mega_r</td>\n",
       "      <td>-2.430000</td>\n",
       "      <td>2.229000</td>\n",
       "      <td>27.5</td>\n",
       "      <td>ab</td>\n",
       "    </tr>\n",
       "    <tr>\n",
       "      <th>35</th>\n",
       "      <td>52995.352</td>\n",
       "      <td>mega_i</td>\n",
       "      <td>3.080000</td>\n",
       "      <td>3.076000</td>\n",
       "      <td>27.5</td>\n",
       "      <td>ab</td>\n",
       "    </tr>\n",
       "    <tr>\n",
       "      <th>36</th>\n",
       "      <td>52995.391</td>\n",
       "      <td>mega_r</td>\n",
       "      <td>0.450000</td>\n",
       "      <td>1.911000</td>\n",
       "      <td>27.5</td>\n",
       "      <td>ab</td>\n",
       "    </tr>\n",
       "    <tr>\n",
       "      <th>37</th>\n",
       "      <td>52999.238</td>\n",
       "      <td>mega_i</td>\n",
       "      <td>0.830000</td>\n",
       "      <td>2.948000</td>\n",
       "      <td>27.5</td>\n",
       "      <td>ab</td>\n",
       "    </tr>\n",
       "    <tr>\n",
       "      <th>38</th>\n",
       "      <td>52999.281</td>\n",
       "      <td>mega_r</td>\n",
       "      <td>0.720000</td>\n",
       "      <td>1.837000</td>\n",
       "      <td>27.5</td>\n",
       "      <td>ab</td>\n",
       "    </tr>\n",
       "    <tr>\n",
       "      <th>39</th>\n",
       "      <td>52999.359</td>\n",
       "      <td>mega_z</td>\n",
       "      <td>20.700001</td>\n",
       "      <td>11.553000</td>\n",
       "      <td>27.5</td>\n",
       "      <td>ab</td>\n",
       "    </tr>\n",
       "    <tr>\n",
       "      <th>40</th>\n",
       "      <td>53000.238</td>\n",
       "      <td>mega_z</td>\n",
       "      <td>8.660000</td>\n",
       "      <td>6.506000</td>\n",
       "      <td>27.5</td>\n",
       "      <td>ab</td>\n",
       "    </tr>\n",
       "    <tr>\n",
       "      <th>41</th>\n",
       "      <td>53018.262</td>\n",
       "      <td>mega_i</td>\n",
       "      <td>3.550000</td>\n",
       "      <td>2.804000</td>\n",
       "      <td>27.5</td>\n",
       "      <td>ab</td>\n",
       "    </tr>\n",
       "    <tr>\n",
       "      <th>42</th>\n",
       "      <td>53018.309</td>\n",
       "      <td>mega_r</td>\n",
       "      <td>-3.700000</td>\n",
       "      <td>2.257000</td>\n",
       "      <td>27.5</td>\n",
       "      <td>ab</td>\n",
       "    </tr>\n",
       "    <tr>\n",
       "      <th>43</th>\n",
       "      <td>53022.289</td>\n",
       "      <td>mega_i</td>\n",
       "      <td>2.410000</td>\n",
       "      <td>3.066000</td>\n",
       "      <td>27.5</td>\n",
       "      <td>ab</td>\n",
       "    </tr>\n",
       "    <tr>\n",
       "      <th>44</th>\n",
       "      <td>53022.320</td>\n",
       "      <td>mega_r</td>\n",
       "      <td>-0.010000</td>\n",
       "      <td>4.057000</td>\n",
       "      <td>27.5</td>\n",
       "      <td>ab</td>\n",
       "    </tr>\n",
       "    <tr>\n",
       "      <th>45</th>\n",
       "      <td>53023.230</td>\n",
       "      <td>mega_r</td>\n",
       "      <td>0.820000</td>\n",
       "      <td>1.756000</td>\n",
       "      <td>27.5</td>\n",
       "      <td>ab</td>\n",
       "    </tr>\n",
       "    <tr>\n",
       "      <th>46</th>\n",
       "      <td>53026.270</td>\n",
       "      <td>mega_i</td>\n",
       "      <td>2.540000</td>\n",
       "      <td>2.877000</td>\n",
       "      <td>27.5</td>\n",
       "      <td>ab</td>\n",
       "    </tr>\n",
       "    <tr>\n",
       "      <th>47</th>\n",
       "      <td>53026.340</td>\n",
       "      <td>mega_r</td>\n",
       "      <td>-3.100000</td>\n",
       "      <td>1.816000</td>\n",
       "      <td>27.5</td>\n",
       "      <td>ab</td>\n",
       "    </tr>\n",
       "  </tbody>\n",
       "</table>\n",
       "</div>"
      ],
      "text/plain": [
       "          mjd    band       flux    fluxerr    zp zpsys\n",
       "0   52881.500  mega_i  13.440000   2.846000  27.5    ab\n",
       "1   52881.539  mega_r   7.740000   1.701000  27.5    ab\n",
       "2   52881.559  mega_z  19.719999   6.539000  27.5    ab\n",
       "3   52886.602  mega_i  44.520000   2.909000  27.5    ab\n",
       "4   52900.531  mega_i  86.570000   2.914000  27.5    ab\n",
       "5   52900.559  mega_r  62.169998   2.324000  27.5    ab\n",
       "6   52900.590  mega_z  84.410004   8.752000  27.5    ab\n",
       "7   52904.531  mega_i  80.720001   2.710000  27.5    ab\n",
       "8   52904.570  mega_r  55.090000   2.009000  27.5    ab\n",
       "9   52908.559  mega_r  54.500000   1.930000  27.5    ab\n",
       "10  52908.602  mega_i  76.160004   2.932000  27.5    ab\n",
       "11  52909.609  mega_z  81.099998   7.752000  27.5    ab\n",
       "12  52912.488  mega_i  70.440002   2.866000  27.5    ab\n",
       "13  52914.570  mega_r  42.810001   2.690000  27.5    ab\n",
       "14  52915.621  mega_i  62.090000   3.366000  27.5    ab\n",
       "15  52916.461  mega_r  38.060001   1.845000  27.5    ab\n",
       "16  52934.512  mega_r   8.750000   3.558000  27.5    ab\n",
       "17  52937.512  mega_i  23.530001   5.018000  27.5    ab\n",
       "18  52937.578  mega_r  -0.060000   5.241000  27.5    ab\n",
       "19  52938.520  mega_z  78.430000  24.221001  27.5    ab\n",
       "20  52942.488  mega_i  19.780001   8.521000  27.5    ab\n",
       "21  52944.441  mega_r   7.440000   3.887000  27.5    ab\n",
       "22  52944.469  mega_z  10.470000  13.880000  27.5    ab\n",
       "23  52961.379  mega_i   9.140000   3.233000  27.5    ab\n",
       "24  52961.480  mega_r   4.840000   2.418000  27.5    ab\n",
       "25  52962.309  mega_z  20.190001   5.934000  27.5    ab\n",
       "26  52964.320  mega_i   9.600000   2.981000  27.5    ab\n",
       "27  52964.398  mega_r   1.800000   2.409000  27.5    ab\n",
       "28  52964.441  mega_z   6.420000  15.410000  27.5    ab\n",
       "29  52968.371  mega_r   3.590000   2.250000  27.5    ab\n",
       "30  52972.270  mega_i  -1.910000   3.710000  27.5    ab\n",
       "31  52990.262  mega_i   7.550000   2.904000  27.5    ab\n",
       "32  52990.340  mega_r   0.500000   1.987000  27.5    ab\n",
       "33  52992.250  mega_i   4.020000   3.062000  27.5    ab\n",
       "34  52992.289  mega_r  -2.430000   2.229000  27.5    ab\n",
       "35  52995.352  mega_i   3.080000   3.076000  27.5    ab\n",
       "36  52995.391  mega_r   0.450000   1.911000  27.5    ab\n",
       "37  52999.238  mega_i   0.830000   2.948000  27.5    ab\n",
       "38  52999.281  mega_r   0.720000   1.837000  27.5    ab\n",
       "39  52999.359  mega_z  20.700001  11.553000  27.5    ab\n",
       "40  53000.238  mega_z   8.660000   6.506000  27.5    ab\n",
       "41  53018.262  mega_i   3.550000   2.804000  27.5    ab\n",
       "42  53018.309  mega_r  -3.700000   2.257000  27.5    ab\n",
       "43  53022.289  mega_i   2.410000   3.066000  27.5    ab\n",
       "44  53022.320  mega_r  -0.010000   4.057000  27.5    ab\n",
       "45  53023.230  mega_r   0.820000   1.756000  27.5    ab\n",
       "46  53026.270  mega_i   2.540000   2.877000  27.5    ab\n",
       "47  53026.340  mega_r  -3.100000   1.816000  27.5    ab"
      ]
     },
     "execution_count": 19,
     "metadata": {},
     "output_type": "execute_result"
    }
   ],
   "source": [
    "lcInstance.lightCurve[['mjd', 'band', 'flux', 'fluxerr', 'zp', 'zpsys']]"
   ]
  },
  {
   "cell_type": "code",
   "execution_count": 20,
   "metadata": {
    "collapsed": false
   },
   "outputs": [
    {
     "data": {
      "text/plain": [
       "{'g': 'mega_g', 'i': 'mega_i', 'r': 'mega_r', 'u': 'mega_u', 'z': 'mega_z'}"
      ]
     },
     "execution_count": 20,
     "metadata": {},
     "output_type": "execute_result"
    }
   ],
   "source": [
    "lcInstance.bandNameDict"
   ]
  },
  {
   "cell_type": "code",
   "execution_count": 21,
   "metadata": {
    "collapsed": false
   },
   "outputs": [
    {
     "data": {
      "text/plain": [
       "SNID\n",
       "03d1aw    0.5817\n",
       "03d1ax    0.4960\n",
       "Name: REDSHIFT_FINAL, dtype: float32"
      ]
     },
     "execution_count": 21,
     "metadata": {},
     "output_type": "execute_result"
    }
   ],
   "source": [
    "snana_eg.headData['REDSHIFT_FINAL']"
   ]
  },
  {
   "cell_type": "markdown",
   "metadata": {},
   "source": [
    "## Fitting"
   ]
  },
  {
   "cell_type": "code",
   "execution_count": 22,
   "metadata": {
    "collapsed": true
   },
   "outputs": [],
   "source": [
    "import sncosmo"
   ]
  },
  {
   "cell_type": "markdown",
   "metadata": {},
   "source": [
    "To infer the light curve model parameters, we need a model. We will use the SALT model from SNCosmo"
   ]
  },
  {
   "cell_type": "code",
   "execution_count": 35,
   "metadata": {
    "collapsed": true
   },
   "outputs": [],
   "source": [
    "dust = sncosmo.CCM89Dust()\n",
    "model = sncosmo.Model(source='salt2', effects=[dust],\n",
    "                     effect_names=['host', 'mw'], effect_frames=['rest', 'obs'])"
   ]
  },
  {
   "cell_type": "markdown",
   "metadata": {},
   "source": [
    "We will not try to infer the redshift first"
   ]
  },
  {
   "cell_type": "code",
   "execution_count": 36,
   "metadata": {
    "collapsed": true
   },
   "outputs": [],
   "source": [
    "model.set(z=0.5817)"
   ]
  },
  {
   "cell_type": "markdown",
   "metadata": {},
   "source": [
    "We have two main methods of trying to infer the model parameters: the first one is a maximum likelihood estimate"
   ]
  },
  {
   "cell_type": "code",
   "execution_count": 37,
   "metadata": {
    "collapsed": false
   },
   "outputs": [],
   "source": [
    "resfit = sncosmo.fit_lc(lcInstance.snCosmoLC(), model, vparam_names=['t0', 'x0', 'x1', 'c'], modelcov=False)"
   ]
  },
  {
   "cell_type": "code",
   "execution_count": 38,
   "metadata": {
    "collapsed": false
   },
   "outputs": [],
   "source": [
    "res = sncosmo.mcmc_lc(lcInstance.snCosmoLC(), model, vparam_names=['t0', 'x0', 'x1', 'c'], modelcov=False)"
   ]
  },
  {
   "cell_type": "code",
   "execution_count": 39,
   "metadata": {
    "collapsed": true
   },
   "outputs": [],
   "source": [
    "from analyzeSN import ResChar"
   ]
  },
  {
   "cell_type": "code",
   "execution_count": 40,
   "metadata": {
    "collapsed": false
   },
   "outputs": [],
   "source": [
    "reschar = ResChar.fromSNCosmoRes(res)"
   ]
  },
  {
   "cell_type": "code",
   "execution_count": 33,
   "metadata": {
    "collapsed": false
   },
   "outputs": [
    {
     "data": {
      "text/plain": [
       "52902.329679348411"
      ]
     },
     "execution_count": 33,
     "metadata": {},
     "output_type": "execute_result"
    }
   ],
   "source": [
    "reschar.salt_samples()['t0'].mean()"
   ]
  },
  {
   "cell_type": "code",
   "execution_count": 42,
   "metadata": {
    "collapsed": false
   },
   "outputs": [
    {
     "data": {
      "text/plain": [
       "0.27463205033466986"
      ]
     },
     "execution_count": 42,
     "metadata": {},
     "output_type": "execute_result"
    }
   ],
   "source": [
    "reschar.salt_samples()['c'].mean()"
   ]
  },
  {
   "cell_type": "code",
   "execution_count": 44,
   "metadata": {
    "collapsed": false
   },
   "outputs": [
    {
     "data": {
      "text/plain": [
       "7.7076051685948634e-06"
      ]
     },
     "execution_count": 44,
     "metadata": {},
     "output_type": "execute_result"
    }
   ],
   "source": [
    "resfit[0].parameters[2]"
   ]
  },
  {
   "cell_type": "code",
   "execution_count": 43,
   "metadata": {
    "collapsed": false
   },
   "outputs": [
    {
     "data": {
      "text/plain": [
       "7.7076051685948634e-06"
      ]
     },
     "execution_count": 43,
     "metadata": {},
     "output_type": "execute_result"
    }
   ],
   "source": [
    "resfit[0].parameters[2]"
   ]
  },
  {
   "cell_type": "code",
   "execution_count": 49,
   "metadata": {
    "collapsed": false
   },
   "outputs": [
    {
     "data": {
      "text/plain": [
       "0.038004173905723491"
      ]
     },
     "execution_count": 49,
     "metadata": {},
     "output_type": "execute_result"
    }
   ],
   "source": [
    "reschar.salt_samples()['c'].std()"
   ]
  },
  {
   "cell_type": "code",
   "execution_count": 70,
   "metadata": {
    "collapsed": false
   },
   "outputs": [
    {
     "data": {
      "text/plain": [
       "<matplotlib.axes._subplots.AxesSubplot at 0x11013b090>"
      ]
     },
     "execution_count": 70,
     "metadata": {},
     "output_type": "execute_result"
    },
    {
     "data": {
      "image/png": "[encoded data removed]",
      "text/plain": [
       "<matplotlib.figure.Figure at 0x10e128690>"
      ]
     },
     "metadata": {},
     "output_type": "display_data"
    }
   ],
   "source": [
    "fig, ax  = plt.subplots(1, 4)\n",
    "reschar.salt_samples()['c'].hist(bins=np.arange(-0.6, 0.6, 0.03), lw=2., histtype='step', normed=1, ax=ax[0])\n",
    "reschar.salt_samples()['x1'].hist(bins=np.arange(-4., 4., 0.2), lw=2., histtype='step', normed=1, ax=ax[1])\n",
    "reschar.salt_samples()['t0'].hist(bins=10, lw=2., histtype='step', normed=1, ax=ax[2])\n",
    "reschar.salt_samples()['mu'].hist(bins=10, lw=2., histtype='step', normed=1, ax=ax[3])"
   ]
  },
  {
   "cell_type": "code",
   "execution_count": 80,
   "metadata": {
    "collapsed": false
   },
   "outputs": [
    {
     "data": {
      "text/plain": [
       "<matplotlib.axes._subplots.AxesSubplot at 0x1106a25d0>"
      ]
     },
     "execution_count": 80,
     "metadata": {},
     "output_type": "execute_result"
    },
    {
     "data": {
      "image/png": "[encoded data removed]",
      "text/plain": [
       "<matplotlib.figure.Figure at 0x10f1d4e90>"
      ]
     },
     "metadata": {},
     "output_type": "display_data"
    }
   ],
   "source": [
    "sns.distplot(reschar.salt_samples()['t0'], rug=False, color='r', hist_kws=dict(histtype='step', lw=2., alpha=1., color='k'))"
   ]
  },
  {
   "cell_type": "code",
   "execution_count": 47,
   "metadata": {
    "collapsed": false
   },
   "outputs": [
    {
     "data": {
      "text/plain": [
       "0.029235316112965083"
      ]
     },
     "execution_count": 47,
     "metadata": {},
     "output_type": "execute_result"
    }
   ],
   "source": [
    "resfit[0].errors['c']"
   ]
  },
  {
   "cell_type": "markdown",
   "metadata": {},
   "source": [
    "# Scratch"
   ]
  },
  {
   "cell_type": "code",
   "execution_count": null,
   "metadata": {
    "collapsed": false
   },
   "outputs": [],
   "source": [
    "10**(-0.4 * 0.27)"
   ]
  },
  {
   "cell_type": "code",
   "execution_count": null,
   "metadata": {
    "collapsed": false
   },
   "outputs": [],
   "source": [
    "-2.5 * np.log10(f) "
   ]
  },
  {
   "cell_type": "code",
   "execution_count": null,
   "metadata": {
    "collapsed": false
   },
   "outputs": [],
   "source": [
    "10.0**(0.27 / 2.5 )"
   ]
  },
  {
   "cell_type": "code",
   "execution_count": null,
   "metadata": {
    "collapsed": true
   },
   "outputs": [],
   "source": []
  }
 ],
 "metadata": {
  "anaconda-cloud": {},
  "kernelspec": {
   "display_name": "Python [default]",
   "language": "python",
   "name": "python2"
  },
  "language_info": {
   "codemirror_mode": {
    "name": "ipython",
    "version": 2
   },
   "file_extension": ".py",
   "mimetype": "text/x-python",
   "name": "python",
   "nbconvert_exporter": "python",
   "pygments_lexer": "ipython2",
   "version": "2.7.12"
  }
 },
 "nbformat": 4,
 "nbformat_minor": 1
}
