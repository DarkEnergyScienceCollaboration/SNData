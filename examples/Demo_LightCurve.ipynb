{
 "cells": [
  {
   "cell_type": "markdown",
   "metadata": {},
   "source": [
    "#  The LightCurve class"
   ]
  },
  {
   "cell_type": "markdown",
   "metadata": {},
   "source": [
    "##  Background\n",
    "#### What kind of physical data are we representing and what do these quantities mean?"
   ]
  },
  {
   "cell_type": "markdown",
   "metadata": {},
   "source": [
    "Astrophysical variable sources including transients like supernovae are sources that are (roughly) fixed in position but change appreciably at human time scales, such that their measurements at different points of time in a survey are expected to be different. The key science of such sources has to do with interpreting such data.\n",
    "\n",
    "In a photometric or imaging survey, the raw data associated with such measurements is in the form of a time series of images, along with metadata. This is often extracted into a catalog summarizing the inferred brightness of the source in the filter band and the uncertainties of the inferred. The uncertainties in this process are dominated by the sky noise which is Poisson distributed to a good approximation. Hence, the format of this recorded data is usually of the form"
   ]
  },
  {
   "cell_type": "markdown",
   "metadata": {},
   "source": [
    "`timestamp`, `flux`, `flux uncertainty`, `zero point`, `magnitude system`"
   ]
  },
  {
   "cell_type": "markdown",
   "metadata": {},
   "source": [
    "Note that the `flux` is really the band flux obtained in a filter band"
   ]
  },
  {
   "cell_type": "markdown",
   "metadata": {},
   "source": [
    "The `zero point`, and `magnitude system` are methods of specifying the units of the reported `flux`, and `flux uncertainty`. `flux` may be reported so that the following equation with `bandflux` and `std_bandflux` in the same physical units holds. The `std_bandflux` depends on the transmissions and the magnitude system used."
   ]
  },
  {
   "cell_type": "markdown",
   "metadata": {},
   "source": [
    "bandmag := -2.5 log10(bandflux / std_bandflux) = -2.5 log10(flux) + zero point"
   ]
  },
  {
   "cell_type": "markdown",
   "metadata": {},
   "source": [
    "so that a zero point of zero, implies that `flux` is `bandflux` in units of `std_bandflux`"
   ]
  },
  {
   "cell_type": "markdown",
   "metadata": {},
   "source": [
    "## Desired Functionality"
   ]
  },
  {
   "cell_type": "markdown",
   "metadata": {},
   "source": [
    "the `LightCurve` class is meant to be a standard internal representation of this kind of catalog data in our software. This means that \n",
    "- given a different format/model of data, we will first convert it into an instance of this class.\n",
    "- All our calculations will be defined on instances of this class\n",
    "- We should have write methods to convert the instances of this class to useful formats for serialization."
   ]
  },
  {
   "cell_type": "markdown",
   "metadata": {},
   "source": [
    "## Structure"
   ]
  },
  {
   "cell_type": "code",
   "execution_count": 1,
   "metadata": {
    "collapsed": false
   },
   "outputs": [
    {
     "name": "stdout",
     "output_type": "stream",
     "text": [
      "This requires a THROUGHPUTS directory to be setup as an env var\n",
      "\n",
      "This may be achieved, for example, by setting up the LSST stack\n",
      "\n",
      "or by cloning the throughputs directory from git-lfs, \n",
      "\n",
      "and setting up env vars. The function is to provide the LSST bandpass\n",
      "\n",
      "files\n",
      "\n"
     ]
    }
   ],
   "source": [
    "import sncosmo\n",
    "#import analyzeSN as ans\n",
    "import sndata as snd\n",
    "import numpy as np"
   ]
  },
  {
   "cell_type": "code",
   "execution_count": 2,
   "metadata": {
    "collapsed": false
   },
   "outputs": [],
   "source": [
    "%matplotlib inline\n",
    "import matplotlib.pyplot as plt\n",
    "import seaborn as sns\n",
    "sns.set()"
   ]
  },
  {
   "cell_type": "markdown",
   "metadata": {},
   "source": [
    "#### Instantiation\n",
    "\n",
    "The class is instantiated using a constructor that has a mandatory input of a dataframe. and optional inputs. The dataframe must contain the light curve information, and the minimum set of columns required are:\n",
    "`mjd`, `band`, `flux`, `flux_err`, `zp`, `zpsys` or recognized aliases. Here, we load some data and demonstrate this"
   ]
  },
  {
   "cell_type": "code",
   "execution_count": 3,
   "metadata": {
    "collapsed": false
   },
   "outputs": [
    {
     "data": {
      "text/html": [
       "<div>\n",
       "<table border=\"1\" class=\"dataframe\">\n",
       "  <thead>\n",
       "    <tr style=\"text-align: right;\">\n",
       "      <th></th>\n",
       "      <th>time</th>\n",
       "      <th>band</th>\n",
       "      <th>flux</th>\n",
       "      <th>fluxerr</th>\n",
       "      <th>zp</th>\n",
       "      <th>zpsys</th>\n",
       "    </tr>\n",
       "  </thead>\n",
       "  <tbody>\n",
       "    <tr>\n",
       "      <th>0</th>\n",
       "      <td>55070.000000</td>\n",
       "      <td>sdssg</td>\n",
       "      <td>0.363512</td>\n",
       "      <td>0.672844</td>\n",
       "      <td>25.0</td>\n",
       "      <td>ab</td>\n",
       "    </tr>\n",
       "    <tr>\n",
       "      <th>1</th>\n",
       "      <td>55072.051282</td>\n",
       "      <td>sdssr</td>\n",
       "      <td>-0.200801</td>\n",
       "      <td>0.672844</td>\n",
       "      <td>25.0</td>\n",
       "      <td>ab</td>\n",
       "    </tr>\n",
       "    <tr>\n",
       "      <th>2</th>\n",
       "      <td>55074.102564</td>\n",
       "      <td>sdssi</td>\n",
       "      <td>0.307494</td>\n",
       "      <td>0.672844</td>\n",
       "      <td>25.0</td>\n",
       "      <td>ab</td>\n",
       "    </tr>\n",
       "    <tr>\n",
       "      <th>3</th>\n",
       "      <td>55076.153846</td>\n",
       "      <td>sdssz</td>\n",
       "      <td>1.087761</td>\n",
       "      <td>0.672844</td>\n",
       "      <td>25.0</td>\n",
       "      <td>ab</td>\n",
       "    </tr>\n",
       "    <tr>\n",
       "      <th>4</th>\n",
       "      <td>55078.205128</td>\n",
       "      <td>sdssg</td>\n",
       "      <td>-0.436679</td>\n",
       "      <td>0.672844</td>\n",
       "      <td>25.0</td>\n",
       "      <td>ab</td>\n",
       "    </tr>\n",
       "  </tbody>\n",
       "</table>\n",
       "</div>"
      ],
      "text/plain": [
       "           time   band      flux   fluxerr    zp zpsys\n",
       "0  55070.000000  sdssg  0.363512  0.672844  25.0    ab\n",
       "1  55072.051282  sdssr -0.200801  0.672844  25.0    ab\n",
       "2  55074.102564  sdssi  0.307494  0.672844  25.0    ab\n",
       "3  55076.153846  sdssz  1.087761  0.672844  25.0    ab\n",
       "4  55078.205128  sdssg -0.436679  0.672844  25.0    ab"
      ]
     },
     "execution_count": 3,
     "metadata": {},
     "output_type": "execute_result"
    }
   ],
   "source": [
    "ex_data = sncosmo.load_example_data().to_pandas()\n",
    "ex_data.head()"
   ]
  },
  {
   "cell_type": "markdown",
   "metadata": {},
   "source": [
    "This was a SNCosmo example dataset, loaded into `pandas.DataFrame`. Note that the column representing temporal information is `time`. Now, we will use this to instantiate our class."
   ]
  },
  {
   "cell_type": "code",
   "execution_count": 4,
   "metadata": {
    "collapsed": false
   },
   "outputs": [],
   "source": [
    "lc = snd.LightCurve(ex_data)"
   ]
  },
  {
   "cell_type": "markdown",
   "metadata": {},
   "source": [
    "We get the representation in our convention by accessing the attribute `lightCurve`, which is a dataFrame with columns of the standard name. It could have more columns, but the minimal columns have to be there. If we supplied a dataFrame without having the minimal number of columns, it will raise a `valueError`, as described later. From the `lightCurve` attribute, we note that `time` has changed to our standard name `mjd`"
   ]
  },
  {
   "cell_type": "code",
   "execution_count": 5,
   "metadata": {
    "collapsed": false
   },
   "outputs": [
    {
     "data": {
      "text/html": [
       "<div>\n",
       "<table border=\"1\" class=\"dataframe\">\n",
       "  <thead>\n",
       "    <tr style=\"text-align: right;\">\n",
       "      <th></th>\n",
       "      <th>mjd</th>\n",
       "      <th>band</th>\n",
       "      <th>flux</th>\n",
       "      <th>fluxerr</th>\n",
       "      <th>zp</th>\n",
       "      <th>zpsys</th>\n",
       "    </tr>\n",
       "  </thead>\n",
       "  <tbody>\n",
       "    <tr>\n",
       "      <th>0</th>\n",
       "      <td>55070.000000</td>\n",
       "      <td>sdssg</td>\n",
       "      <td>0.363512</td>\n",
       "      <td>0.672844</td>\n",
       "      <td>25.0</td>\n",
       "      <td>ab</td>\n",
       "    </tr>\n",
       "    <tr>\n",
       "      <th>1</th>\n",
       "      <td>55072.051282</td>\n",
       "      <td>sdssr</td>\n",
       "      <td>-0.200801</td>\n",
       "      <td>0.672844</td>\n",
       "      <td>25.0</td>\n",
       "      <td>ab</td>\n",
       "    </tr>\n",
       "    <tr>\n",
       "      <th>2</th>\n",
       "      <td>55074.102564</td>\n",
       "      <td>sdssi</td>\n",
       "      <td>0.307494</td>\n",
       "      <td>0.672844</td>\n",
       "      <td>25.0</td>\n",
       "      <td>ab</td>\n",
       "    </tr>\n",
       "    <tr>\n",
       "      <th>3</th>\n",
       "      <td>55076.153846</td>\n",
       "      <td>sdssz</td>\n",
       "      <td>1.087761</td>\n",
       "      <td>0.672844</td>\n",
       "      <td>25.0</td>\n",
       "      <td>ab</td>\n",
       "    </tr>\n",
       "    <tr>\n",
       "      <th>4</th>\n",
       "      <td>55078.205128</td>\n",
       "      <td>sdssg</td>\n",
       "      <td>-0.436679</td>\n",
       "      <td>0.672844</td>\n",
       "      <td>25.0</td>\n",
       "      <td>ab</td>\n",
       "    </tr>\n",
       "  </tbody>\n",
       "</table>\n",
       "</div>"
      ],
      "text/plain": [
       "            mjd   band      flux   fluxerr    zp zpsys\n",
       "0  55070.000000  sdssg  0.363512  0.672844  25.0    ab\n",
       "1  55072.051282  sdssr -0.200801  0.672844  25.0    ab\n",
       "2  55074.102564  sdssi  0.307494  0.672844  25.0    ab\n",
       "3  55076.153846  sdssz  1.087761  0.672844  25.0    ab\n",
       "4  55078.205128  sdssg -0.436679  0.672844  25.0    ab"
      ]
     },
     "execution_count": 5,
     "metadata": {},
     "output_type": "execute_result"
    }
   ],
   "source": [
    "lc.lightCurve.head()"
   ]
  },
  {
   "cell_type": "markdown",
   "metadata": {},
   "source": [
    "What would have happened if an essential column was missing? to check let us do the following:\n",
    "   - We create a dataframe like the above, but remove the essential column band\n",
    "   - We attempt to create an instance of the LightCurve class"
   ]
  },
  {
   "cell_type": "code",
   "execution_count": 6,
   "metadata": {
    "collapsed": false
   },
   "outputs": [
    {
     "data": {
      "text/html": [
       "<div>\n",
       "<table border=\"1\" class=\"dataframe\">\n",
       "  <thead>\n",
       "    <tr style=\"text-align: right;\">\n",
       "      <th></th>\n",
       "      <th>mjd</th>\n",
       "      <th>flux</th>\n",
       "      <th>fluxerr</th>\n",
       "      <th>zp</th>\n",
       "      <th>zpsys</th>\n",
       "    </tr>\n",
       "  </thead>\n",
       "  <tbody>\n",
       "    <tr>\n",
       "      <th>0</th>\n",
       "      <td>55070.000000</td>\n",
       "      <td>0.363512</td>\n",
       "      <td>0.672844</td>\n",
       "      <td>25.0</td>\n",
       "      <td>ab</td>\n",
       "    </tr>\n",
       "    <tr>\n",
       "      <th>1</th>\n",
       "      <td>55072.051282</td>\n",
       "      <td>-0.200801</td>\n",
       "      <td>0.672844</td>\n",
       "      <td>25.0</td>\n",
       "      <td>ab</td>\n",
       "    </tr>\n",
       "    <tr>\n",
       "      <th>2</th>\n",
       "      <td>55074.102564</td>\n",
       "      <td>0.307494</td>\n",
       "      <td>0.672844</td>\n",
       "      <td>25.0</td>\n",
       "      <td>ab</td>\n",
       "    </tr>\n",
       "    <tr>\n",
       "      <th>3</th>\n",
       "      <td>55076.153846</td>\n",
       "      <td>1.087761</td>\n",
       "      <td>0.672844</td>\n",
       "      <td>25.0</td>\n",
       "      <td>ab</td>\n",
       "    </tr>\n",
       "    <tr>\n",
       "      <th>4</th>\n",
       "      <td>55078.205128</td>\n",
       "      <td>-0.436679</td>\n",
       "      <td>0.672844</td>\n",
       "      <td>25.0</td>\n",
       "      <td>ab</td>\n",
       "    </tr>\n",
       "  </tbody>\n",
       "</table>\n",
       "</div>"
      ],
      "text/plain": [
       "            mjd      flux   fluxerr    zp zpsys\n",
       "0  55070.000000  0.363512  0.672844  25.0    ab\n",
       "1  55072.051282 -0.200801  0.672844  25.0    ab\n",
       "2  55074.102564  0.307494  0.672844  25.0    ab\n",
       "3  55076.153846  1.087761  0.672844  25.0    ab\n",
       "4  55078.205128 -0.436679  0.672844  25.0    ab"
      ]
     },
     "execution_count": 6,
     "metadata": {},
     "output_type": "execute_result"
    }
   ],
   "source": [
    "tmp_data = ex_data.copy()\n",
    "del tmp_data['band']\n",
    "tmp_data.head()"
   ]
  },
  {
   "cell_type": "code",
   "execution_count": 7,
   "metadata": {
    "collapsed": false
   },
   "outputs": [
    {
     "ename": "ValueError",
     "evalue": "('light curve data has missing columns', set(['band']))",
     "output_type": "error",
     "traceback": [
      "\u001b[0;31m---------------------------------------------------------------------------\u001b[0m",
      "\u001b[0;31mValueError\u001b[0m                                Traceback (most recent call last)",
      "\u001b[0;32m<ipython-input-7-4ede6a7f8a2e>\u001b[0m in \u001b[0;36m<module>\u001b[0;34m()\u001b[0m\n\u001b[0;32m----> 1\u001b[0;31m \u001b[0mlc_bad\u001b[0m \u001b[0;34m=\u001b[0m \u001b[0msnd\u001b[0m\u001b[0;34m.\u001b[0m\u001b[0mLightCurve\u001b[0m\u001b[0;34m(\u001b[0m\u001b[0mtmp_data\u001b[0m\u001b[0;34m)\u001b[0m\u001b[0;34m\u001b[0m\u001b[0m\n\u001b[0m",
      "\u001b[0;32m/Users/lluisgalbany/.local/lib/python2.7/site-packages/sndata/lightcurve.pyc\u001b[0m in \u001b[0;36m__init__\u001b[0;34m(self, lcdf, bandNameDict, ignore_case, propDict)\u001b[0m\n\u001b[1;32m    127\u001b[0m         \u001b[0;32mif\u001b[0m \u001b[0mlen\u001b[0m\u001b[0;34m(\u001b[0m\u001b[0mmissingColumns\u001b[0m\u001b[0;34m)\u001b[0m \u001b[0;34m>\u001b[0m \u001b[0;36m0\u001b[0m\u001b[0;34m:\u001b[0m\u001b[0;34m\u001b[0m\u001b[0m\n\u001b[1;32m    128\u001b[0m             raise ValueError('light curve data has missing columns',\n\u001b[0;32m--> 129\u001b[0;31m                              missingColumns)\n\u001b[0m\u001b[1;32m    130\u001b[0m \u001b[0;34m\u001b[0m\u001b[0m\n\u001b[1;32m    131\u001b[0m         \u001b[0mself\u001b[0m\u001b[0;34m.\u001b[0m\u001b[0mbandNameDict\u001b[0m \u001b[0;34m=\u001b[0m \u001b[0mbandNameDict\u001b[0m\u001b[0;34m\u001b[0m\u001b[0m\n",
      "\u001b[0;31mValueError\u001b[0m: ('light curve data has missing columns', set(['band']))"
     ]
    }
   ],
   "source": [
    "lc_bad = snd.LightCurve(tmp_data)"
   ]
  },
  {
   "cell_type": "markdown",
   "metadata": {},
   "source": [
    "This raises a ValueError pointing out that the column `band` was missing. However, it correctly recognizes that while\n",
    "`mjd` was missing, it had the aliased column `time` instead and did not report it missing."
   ]
  },
  {
   "cell_type": "markdown",
   "metadata": {},
   "source": [
    "### Light Curves in SNCosmo Format"
   ]
  },
  {
   "cell_type": "markdown",
   "metadata": {},
   "source": [
    "SNCosmo has a data format using `astropy.table.Table`. Since, we use SNCosmo to plot, or fit light curves, it is essential that we can regenerate the SNCosmo format data easily. We do this by the following method"
   ]
  },
  {
   "cell_type": "code",
   "execution_count": 8,
   "metadata": {
    "collapsed": false
   },
   "outputs": [],
   "source": [
    "SNCosmoLC = lc.snCosmoLC()"
   ]
  },
  {
   "cell_type": "code",
   "execution_count": 9,
   "metadata": {
    "collapsed": false
   },
   "outputs": [
    {
     "data": {
      "text/html": [
       "&lt;Table length=40&gt;\n",
       "<table id=\"table4493552336\" class=\"table-striped table-bordered table-condensed\">\n",
       "<thead><tr><th>time</th><th>band</th><th>flux</th><th>fluxerr</th><th>zp</th><th>zpsys</th></tr></thead>\n",
       "<thead><tr><th>float64</th><th>str5</th><th>float64</th><th>float64</th><th>float64</th><th>str2</th></tr></thead>\n",
       "<tr><td>55070.0</td><td>sdssg</td><td>0.36351153597</td><td>0.672843847541</td><td>25.0</td><td>ab</td></tr>\n",
       "<tr><td>55072.0512821</td><td>sdssr</td><td>-0.200801295864</td><td>0.672843847541</td><td>25.0</td><td>ab</td></tr>\n",
       "<tr><td>55074.1025641</td><td>sdssi</td><td>0.307494232981</td><td>0.672843847541</td><td>25.0</td><td>ab</td></tr>\n",
       "<tr><td>55076.1538462</td><td>sdssz</td><td>1.08776103656</td><td>0.672843847541</td><td>25.0</td><td>ab</td></tr>\n",
       "<tr><td>55078.2051282</td><td>sdssg</td><td>-0.43667895645</td><td>0.672843847541</td><td>25.0</td><td>ab</td></tr>\n",
       "<tr><td>55080.2564103</td><td>sdssr</td><td>1.09780966779</td><td>0.672843847541</td><td>25.0</td><td>ab</td></tr>\n",
       "<tr><td>55082.3076923</td><td>sdssi</td><td>3.7562685627</td><td>0.672843847541</td><td>25.0</td><td>ab</td></tr>\n",
       "<tr><td>55084.3589744</td><td>sdssz</td><td>5.34858894966</td><td>0.672843847541</td><td>25.0</td><td>ab</td></tr>\n",
       "<tr><td>55086.4102564</td><td>sdssg</td><td>2.82614187269</td><td>0.672843847541</td><td>25.0</td><td>ab</td></tr>\n",
       "<tr><td>55088.4615385</td><td>sdssr</td><td>7.56547045054</td><td>0.672843847541</td><td>25.0</td><td>ab</td></tr>\n",
       "<tr><td>...</td><td>...</td><td>...</td><td>...</td><td>...</td><td>...</td></tr>\n",
       "<tr><td>55131.5384615</td><td>sdssi</td><td>3.99520404021</td><td>0.672843847541</td><td>25.0</td><td>ab</td></tr>\n",
       "<tr><td>55133.5897436</td><td>sdssz</td><td>5.73989458094</td><td>0.672843847541</td><td>25.0</td><td>ab</td></tr>\n",
       "<tr><td>55135.6410256</td><td>sdssg</td><td>0.330702283107</td><td>0.672843847541</td><td>25.0</td><td>ab</td></tr>\n",
       "<tr><td>55137.6923077</td><td>sdssr</td><td>0.565286726579</td><td>0.672843847541</td><td>25.0</td><td>ab</td></tr>\n",
       "<tr><td>55139.7435897</td><td>sdssi</td><td>3.04318346795</td><td>0.672843847541</td><td>25.0</td><td>ab</td></tr>\n",
       "<tr><td>55141.7948718</td><td>sdssz</td><td>5.62692686384</td><td>0.672843847541</td><td>25.0</td><td>ab</td></tr>\n",
       "<tr><td>55143.8461538</td><td>sdssg</td><td>-0.722654789013</td><td>0.672843847541</td><td>25.0</td><td>ab</td></tr>\n",
       "<tr><td>55145.8974359</td><td>sdssr</td><td>1.12091764262</td><td>0.672843847541</td><td>25.0</td><td>ab</td></tr>\n",
       "<tr><td>55147.9487179</td><td>sdssi</td><td>2.1246695264</td><td>0.672843847541</td><td>25.0</td><td>ab</td></tr>\n",
       "<tr><td>55150.0</td><td>sdssz</td><td>5.3482175645</td><td>0.672843847541</td><td>25.0</td><td>ab</td></tr>\n",
       "</table>"
      ],
      "text/plain": [
       "<Table length=40>\n",
       "     time      band       flux         fluxerr        zp   zpsys\n",
       "   float64     str5     float64        float64     float64  str2\n",
       "------------- ----- --------------- -------------- ------- -----\n",
       "      55070.0 sdssg   0.36351153597 0.672843847541    25.0    ab\n",
       "55072.0512821 sdssr -0.200801295864 0.672843847541    25.0    ab\n",
       "55074.1025641 sdssi  0.307494232981 0.672843847541    25.0    ab\n",
       "55076.1538462 sdssz   1.08776103656 0.672843847541    25.0    ab\n",
       "55078.2051282 sdssg  -0.43667895645 0.672843847541    25.0    ab\n",
       "55080.2564103 sdssr   1.09780966779 0.672843847541    25.0    ab\n",
       "55082.3076923 sdssi    3.7562685627 0.672843847541    25.0    ab\n",
       "55084.3589744 sdssz   5.34858894966 0.672843847541    25.0    ab\n",
       "55086.4102564 sdssg   2.82614187269 0.672843847541    25.0    ab\n",
       "55088.4615385 sdssr   7.56547045054 0.672843847541    25.0    ab\n",
       "          ...   ...             ...            ...     ...   ...\n",
       "55131.5384615 sdssi   3.99520404021 0.672843847541    25.0    ab\n",
       "55133.5897436 sdssz   5.73989458094 0.672843847541    25.0    ab\n",
       "55135.6410256 sdssg  0.330702283107 0.672843847541    25.0    ab\n",
       "55137.6923077 sdssr  0.565286726579 0.672843847541    25.0    ab\n",
       "55139.7435897 sdssi   3.04318346795 0.672843847541    25.0    ab\n",
       "55141.7948718 sdssz   5.62692686384 0.672843847541    25.0    ab\n",
       "55143.8461538 sdssg -0.722654789013 0.672843847541    25.0    ab\n",
       "55145.8974359 sdssr   1.12091764262 0.672843847541    25.0    ab\n",
       "55147.9487179 sdssi    2.1246695264 0.672843847541    25.0    ab\n",
       "      55150.0 sdssz    5.3482175645 0.672843847541    25.0    ab"
      ]
     },
     "execution_count": 9,
     "metadata": {},
     "output_type": "execute_result"
    }
   ],
   "source": [
    "SNCosmoLC"
   ]
  },
  {
   "cell_type": "markdown",
   "metadata": {},
   "source": [
    "We can now plot the data using the usual SNCosmo plotting method, showing the data in g, r, and z bands."
   ]
  },
  {
   "cell_type": "code",
   "execution_count": 10,
   "metadata": {
    "collapsed": false
   },
   "outputs": [
    {
     "data": {
      "image/png": "[encoded data removed]",
      "text/plain": [
       "<matplotlib.figure.Figure at 0x10c001ed0>"
      ]
     },
     "metadata": {},
     "output_type": "display_data"
    }
   ],
   "source": [
    "sncosmo.plot_lc(SNCosmoLC,color='k');"
   ]
  },
  {
   "cell_type": "markdown",
   "metadata": {},
   "source": [
    "## SNANA simulations"
   ]
  },
  {
   "cell_type": "code",
   "execution_count": 14,
   "metadata": {
    "collapsed": false
   },
   "outputs": [],
   "source": [
    "from sndata import SNANASims"
   ]
  },
  {
   "cell_type": "code",
   "execution_count": 15,
   "metadata": {
    "collapsed": true
   },
   "outputs": [],
   "source": [
    "from astropy.table import Table"
   ]
  },
  {
   "cell_type": "code",
   "execution_count": 28,
   "metadata": {
    "collapsed": true
   },
   "outputs": [],
   "source": [
    "megacamBandNames = 'ugriz'\n",
    "#megacamRegisteredNames = tuple('megacam' + band for band in megacamBandNames)\n",
    "megacamRegisteredNames = tuple('megacam' + band for band in megacamBandNames)"
   ]
  },
  {
   "cell_type": "code",
   "execution_count": 29,
   "metadata": {
    "collapsed": false
   },
   "outputs": [],
   "source": [
    "snana_eg = SNANASims.fromSNANAfileroot(snanafileroot='snana_fits',\n",
    "                                       location='../sndata/example_data/',\n",
    "                                       coerce_inds2int=False,\n",
    "                                       SNANABandNames=megacamBandNames,\n",
    "                                       registeredBandNames=megacamRegisteredNames)"
   ]
  },
  {
   "cell_type": "code",
   "execution_count": 30,
   "metadata": {
    "collapsed": false
   },
   "outputs": [
    {
     "data": {
      "text/html": [
       "&lt;Table length=5&gt;\n",
       "<table id=\"table4491450704\" class=\"table-striped table-bordered table-condensed\">\n",
       "<thead><tr><th>MJD</th><th>FLT</th><th>FIELD</th><th>TELESCOPE</th><th>PHOTFLAG</th><th>PHOTPROB</th><th>FLUXCAL</th><th>FLUXCALERR</th><th>MAG</th><th>MAGERR</th><th>PSF_SIG1</th><th>PSF_SIG2</th><th>PSF_RATIO</th><th>SKY_SIG</th><th>SKY_SIG_T</th><th>RDNOISE</th><th>ZEROPT</th><th>ZEROPT_ERR</th><th>GAIN</th></tr></thead>\n",
       "<thead><tr><th>float64</th><th>str2</th><th>str12</th><th>str20</th><th>int32</th><th>float32</th><th>float32</th><th>float32</th><th>float32</th><th>float32</th><th>float32</th><th>float32</th><th>float32</th><th>float32</th><th>float32</th><th>float32</th><th>float32</th><th>float32</th><th>float32</th></tr></thead>\n",
       "<tr><td>53023.23</td><td>r</td><td>NULL</td><td>ALL</td><td>0</td><td>0.0</td><td>0.82</td><td>1.756</td><td>27.717</td><td>0.0</td><td>0.0</td><td>0.0</td><td>0.0</td><td>0.0</td><td>0.0</td><td>0.0</td><td>0.0</td><td>0.0</td><td>0.0</td></tr>\n",
       "<tr><td>53026.27</td><td>i</td><td>NULL</td><td>ALL</td><td>0</td><td>0.0</td><td>2.54</td><td>2.877</td><td>26.487</td><td>0.0</td><td>0.0</td><td>0.0</td><td>0.0</td><td>0.0</td><td>0.0</td><td>0.0</td><td>0.0</td><td>0.0</td><td>0.0</td></tr>\n",
       "<tr><td>53026.34</td><td>r</td><td>NULL</td><td>ALL</td><td>0</td><td>0.0</td><td>-3.1</td><td>1.816</td><td>666.0</td><td>0.0</td><td>0.0</td><td>0.0</td><td>0.0</td><td>0.0</td><td>0.0</td><td>0.0</td><td>0.0</td><td>0.0</td><td>0.0</td></tr>\n",
       "<tr><td>-777.0</td><td>-</td><td>XXXX</td><td>XXXX</td><td>0</td><td>0.0</td><td>-777.0</td><td>-777.0</td><td>0.0</td><td>0.0</td><td>0.0</td><td>0.0</td><td>0.0</td><td>0.0</td><td>0.0</td><td>0.0</td><td>0.0</td><td>0.0</td><td>0.0</td></tr>\n",
       "<tr><td>52881.5</td><td>i</td><td>NULL</td><td>ALL</td><td>0</td><td>0.0</td><td>-3.9</td><td>2.704</td><td>666.0</td><td>0.0</td><td>0.0</td><td>0.0</td><td>0.0</td><td>0.0</td><td>0.0</td><td>0.0</td><td>0.0</td><td>0.0</td><td>0.0</td></tr>\n",
       "</table>"
      ],
      "text/plain": [
       "<Table length=5>\n",
       "  MJD    FLT     FIELD          TELESCOPE       ...  ZEROPT ZEROPT_ERR   GAIN \n",
       "float64  str2    str12            str20         ... float32  float32   float32\n",
       "-------- ---- ------------ -------------------- ... ------- ---------- -------\n",
       "53023.23   r  NULL         ALL                  ...     0.0        0.0     0.0\n",
       "53026.27   i  NULL         ALL                  ...     0.0        0.0     0.0\n",
       "53026.34   r  NULL         ALL                  ...     0.0        0.0     0.0\n",
       "  -777.0   -  XXXX         XXXX                 ...     0.0        0.0     0.0\n",
       " 52881.5   i  NULL         ALL                  ...     0.0        0.0     0.0"
      ]
     },
     "execution_count": 30,
     "metadata": {},
     "output_type": "execute_result"
    }
   ],
   "source": [
    "Table.read(snana_eg.photFile)[45:50]"
   ]
  },
  {
   "cell_type": "markdown",
   "metadata": {},
   "source": [
    "Let us look at what the array in the fits file looks like: \n",
    "- It has fields that are not of the standard name (FLUXCAL)\n",
    "- It has things like \"XXX\" in he fields"
   ]
  },
  {
   "cell_type": "code",
   "execution_count": 31,
   "metadata": {
    "collapsed": false
   },
   "outputs": [
    {
     "data": {
      "text/plain": [
       "'ugriz'"
      ]
     },
     "execution_count": 31,
     "metadata": {},
     "output_type": "execute_result"
    }
   ],
   "source": [
    "snana_eg.bandNames"
   ]
  },
  {
   "cell_type": "code",
   "execution_count": 32,
   "metadata": {
    "collapsed": false
   },
   "outputs": [
    {
     "data": {
      "text/plain": [
       "('megacamu', 'megacamg', 'megacamr', 'megacami', 'megacamz')"
      ]
     },
     "execution_count": 32,
     "metadata": {},
     "output_type": "execute_result"
    }
   ],
   "source": [
    "snana_eg.newbandNames"
   ]
  },
  {
   "cell_type": "code",
   "execution_count": 33,
   "metadata": {
    "collapsed": false
   },
   "outputs": [],
   "source": [
    "lcInstance = snana_eg.get_SNANA_photometry(snid='03D1aw')"
   ]
  },
  {
   "cell_type": "code",
   "execution_count": 34,
   "metadata": {
    "collapsed": false
   },
   "outputs": [
    {
     "data": {
      "text/html": [
       "<div>\n",
       "<table border=\"1\" class=\"dataframe\">\n",
       "  <thead>\n",
       "    <tr style=\"text-align: right;\">\n",
       "      <th></th>\n",
       "      <th>mjd</th>\n",
       "      <th>band</th>\n",
       "      <th>flux</th>\n",
       "      <th>fluxerr</th>\n",
       "      <th>zp</th>\n",
       "      <th>zpsys</th>\n",
       "    </tr>\n",
       "  </thead>\n",
       "  <tbody>\n",
       "    <tr>\n",
       "      <th>0</th>\n",
       "      <td>52881.500</td>\n",
       "      <td>megacami</td>\n",
       "      <td>13.440000</td>\n",
       "      <td>2.846000</td>\n",
       "      <td>27.5</td>\n",
       "      <td>ab</td>\n",
       "    </tr>\n",
       "    <tr>\n",
       "      <th>1</th>\n",
       "      <td>52881.539</td>\n",
       "      <td>megacamr</td>\n",
       "      <td>7.740000</td>\n",
       "      <td>1.701000</td>\n",
       "      <td>27.5</td>\n",
       "      <td>ab</td>\n",
       "    </tr>\n",
       "    <tr>\n",
       "      <th>2</th>\n",
       "      <td>52881.559</td>\n",
       "      <td>megacamz</td>\n",
       "      <td>19.719999</td>\n",
       "      <td>6.539000</td>\n",
       "      <td>27.5</td>\n",
       "      <td>ab</td>\n",
       "    </tr>\n",
       "    <tr>\n",
       "      <th>3</th>\n",
       "      <td>52886.602</td>\n",
       "      <td>megacami</td>\n",
       "      <td>44.520000</td>\n",
       "      <td>2.909000</td>\n",
       "      <td>27.5</td>\n",
       "      <td>ab</td>\n",
       "    </tr>\n",
       "    <tr>\n",
       "      <th>4</th>\n",
       "      <td>52900.531</td>\n",
       "      <td>megacami</td>\n",
       "      <td>86.570000</td>\n",
       "      <td>2.914000</td>\n",
       "      <td>27.5</td>\n",
       "      <td>ab</td>\n",
       "    </tr>\n",
       "    <tr>\n",
       "      <th>5</th>\n",
       "      <td>52900.559</td>\n",
       "      <td>megacamr</td>\n",
       "      <td>62.169998</td>\n",
       "      <td>2.324000</td>\n",
       "      <td>27.5</td>\n",
       "      <td>ab</td>\n",
       "    </tr>\n",
       "    <tr>\n",
       "      <th>6</th>\n",
       "      <td>52900.590</td>\n",
       "      <td>megacamz</td>\n",
       "      <td>84.410004</td>\n",
       "      <td>8.752000</td>\n",
       "      <td>27.5</td>\n",
       "      <td>ab</td>\n",
       "    </tr>\n",
       "    <tr>\n",
       "      <th>7</th>\n",
       "      <td>52904.531</td>\n",
       "      <td>megacami</td>\n",
       "      <td>80.720001</td>\n",
       "      <td>2.710000</td>\n",
       "      <td>27.5</td>\n",
       "      <td>ab</td>\n",
       "    </tr>\n",
       "    <tr>\n",
       "      <th>8</th>\n",
       "      <td>52904.570</td>\n",
       "      <td>megacamr</td>\n",
       "      <td>55.090000</td>\n",
       "      <td>2.009000</td>\n",
       "      <td>27.5</td>\n",
       "      <td>ab</td>\n",
       "    </tr>\n",
       "    <tr>\n",
       "      <th>9</th>\n",
       "      <td>52908.559</td>\n",
       "      <td>megacamr</td>\n",
       "      <td>54.500000</td>\n",
       "      <td>1.930000</td>\n",
       "      <td>27.5</td>\n",
       "      <td>ab</td>\n",
       "    </tr>\n",
       "    <tr>\n",
       "      <th>10</th>\n",
       "      <td>52908.602</td>\n",
       "      <td>megacami</td>\n",
       "      <td>76.160004</td>\n",
       "      <td>2.932000</td>\n",
       "      <td>27.5</td>\n",
       "      <td>ab</td>\n",
       "    </tr>\n",
       "    <tr>\n",
       "      <th>11</th>\n",
       "      <td>52909.609</td>\n",
       "      <td>megacamz</td>\n",
       "      <td>81.099998</td>\n",
       "      <td>7.752000</td>\n",
       "      <td>27.5</td>\n",
       "      <td>ab</td>\n",
       "    </tr>\n",
       "    <tr>\n",
       "      <th>12</th>\n",
       "      <td>52912.488</td>\n",
       "      <td>megacami</td>\n",
       "      <td>70.440002</td>\n",
       "      <td>2.866000</td>\n",
       "      <td>27.5</td>\n",
       "      <td>ab</td>\n",
       "    </tr>\n",
       "    <tr>\n",
       "      <th>13</th>\n",
       "      <td>52914.570</td>\n",
       "      <td>megacamr</td>\n",
       "      <td>42.810001</td>\n",
       "      <td>2.690000</td>\n",
       "      <td>27.5</td>\n",
       "      <td>ab</td>\n",
       "    </tr>\n",
       "    <tr>\n",
       "      <th>14</th>\n",
       "      <td>52915.621</td>\n",
       "      <td>megacami</td>\n",
       "      <td>62.090000</td>\n",
       "      <td>3.366000</td>\n",
       "      <td>27.5</td>\n",
       "      <td>ab</td>\n",
       "    </tr>\n",
       "    <tr>\n",
       "      <th>15</th>\n",
       "      <td>52916.461</td>\n",
       "      <td>megacamr</td>\n",
       "      <td>38.060001</td>\n",
       "      <td>1.845000</td>\n",
       "      <td>27.5</td>\n",
       "      <td>ab</td>\n",
       "    </tr>\n",
       "    <tr>\n",
       "      <th>16</th>\n",
       "      <td>52934.512</td>\n",
       "      <td>megacamr</td>\n",
       "      <td>8.750000</td>\n",
       "      <td>3.558000</td>\n",
       "      <td>27.5</td>\n",
       "      <td>ab</td>\n",
       "    </tr>\n",
       "    <tr>\n",
       "      <th>17</th>\n",
       "      <td>52937.512</td>\n",
       "      <td>megacami</td>\n",
       "      <td>23.530001</td>\n",
       "      <td>5.018000</td>\n",
       "      <td>27.5</td>\n",
       "      <td>ab</td>\n",
       "    </tr>\n",
       "    <tr>\n",
       "      <th>18</th>\n",
       "      <td>52937.578</td>\n",
       "      <td>megacamr</td>\n",
       "      <td>-0.060000</td>\n",
       "      <td>5.241000</td>\n",
       "      <td>27.5</td>\n",
       "      <td>ab</td>\n",
       "    </tr>\n",
       "    <tr>\n",
       "      <th>19</th>\n",
       "      <td>52938.520</td>\n",
       "      <td>megacamz</td>\n",
       "      <td>78.430000</td>\n",
       "      <td>24.221001</td>\n",
       "      <td>27.5</td>\n",
       "      <td>ab</td>\n",
       "    </tr>\n",
       "    <tr>\n",
       "      <th>20</th>\n",
       "      <td>52942.488</td>\n",
       "      <td>megacami</td>\n",
       "      <td>19.780001</td>\n",
       "      <td>8.521000</td>\n",
       "      <td>27.5</td>\n",
       "      <td>ab</td>\n",
       "    </tr>\n",
       "    <tr>\n",
       "      <th>21</th>\n",
       "      <td>52944.441</td>\n",
       "      <td>megacamr</td>\n",
       "      <td>7.440000</td>\n",
       "      <td>3.887000</td>\n",
       "      <td>27.5</td>\n",
       "      <td>ab</td>\n",
       "    </tr>\n",
       "    <tr>\n",
       "      <th>22</th>\n",
       "      <td>52944.469</td>\n",
       "      <td>megacamz</td>\n",
       "      <td>10.470000</td>\n",
       "      <td>13.880000</td>\n",
       "      <td>27.5</td>\n",
       "      <td>ab</td>\n",
       "    </tr>\n",
       "    <tr>\n",
       "      <th>23</th>\n",
       "      <td>52961.379</td>\n",
       "      <td>megacami</td>\n",
       "      <td>9.140000</td>\n",
       "      <td>3.233000</td>\n",
       "      <td>27.5</td>\n",
       "      <td>ab</td>\n",
       "    </tr>\n",
       "    <tr>\n",
       "      <th>24</th>\n",
       "      <td>52961.480</td>\n",
       "      <td>megacamr</td>\n",
       "      <td>4.840000</td>\n",
       "      <td>2.418000</td>\n",
       "      <td>27.5</td>\n",
       "      <td>ab</td>\n",
       "    </tr>\n",
       "    <tr>\n",
       "      <th>25</th>\n",
       "      <td>52962.309</td>\n",
       "      <td>megacamz</td>\n",
       "      <td>20.190001</td>\n",
       "      <td>5.934000</td>\n",
       "      <td>27.5</td>\n",
       "      <td>ab</td>\n",
       "    </tr>\n",
       "    <tr>\n",
       "      <th>26</th>\n",
       "      <td>52964.320</td>\n",
       "      <td>megacami</td>\n",
       "      <td>9.600000</td>\n",
       "      <td>2.981000</td>\n",
       "      <td>27.5</td>\n",
       "      <td>ab</td>\n",
       "    </tr>\n",
       "    <tr>\n",
       "      <th>27</th>\n",
       "      <td>52964.398</td>\n",
       "      <td>megacamr</td>\n",
       "      <td>1.800000</td>\n",
       "      <td>2.409000</td>\n",
       "      <td>27.5</td>\n",
       "      <td>ab</td>\n",
       "    </tr>\n",
       "    <tr>\n",
       "      <th>28</th>\n",
       "      <td>52964.441</td>\n",
       "      <td>megacamz</td>\n",
       "      <td>6.420000</td>\n",
       "      <td>15.410000</td>\n",
       "      <td>27.5</td>\n",
       "      <td>ab</td>\n",
       "    </tr>\n",
       "    <tr>\n",
       "      <th>29</th>\n",
       "      <td>52968.371</td>\n",
       "      <td>megacamr</td>\n",
       "      <td>3.590000</td>\n",
       "      <td>2.250000</td>\n",
       "      <td>27.5</td>\n",
       "      <td>ab</td>\n",
       "    </tr>\n",
       "    <tr>\n",
       "      <th>30</th>\n",
       "      <td>52972.270</td>\n",
       "      <td>megacami</td>\n",
       "      <td>-1.910000</td>\n",
       "      <td>3.710000</td>\n",
       "      <td>27.5</td>\n",
       "      <td>ab</td>\n",
       "    </tr>\n",
       "    <tr>\n",
       "      <th>31</th>\n",
       "      <td>52990.262</td>\n",
       "      <td>megacami</td>\n",
       "      <td>7.550000</td>\n",
       "      <td>2.904000</td>\n",
       "      <td>27.5</td>\n",
       "      <td>ab</td>\n",
       "    </tr>\n",
       "    <tr>\n",
       "      <th>32</th>\n",
       "      <td>52990.340</td>\n",
       "      <td>megacamr</td>\n",
       "      <td>0.500000</td>\n",
       "      <td>1.987000</td>\n",
       "      <td>27.5</td>\n",
       "      <td>ab</td>\n",
       "    </tr>\n",
       "    <tr>\n",
       "      <th>33</th>\n",
       "      <td>52992.250</td>\n",
       "      <td>megacami</td>\n",
       "      <td>4.020000</td>\n",
       "      <td>3.062000</td>\n",
       "      <td>27.5</td>\n",
       "      <td>ab</td>\n",
       "    </tr>\n",
       "    <tr>\n",
       "      <th>34</th>\n",
       "      <td>52992.289</td>\n",
       "      <td>megacamr</td>\n",
       "      <td>-2.430000</td>\n",
       "      <td>2.229000</td>\n",
       "      <td>27.5</td>\n",
       "      <td>ab</td>\n",
       "    </tr>\n",
       "    <tr>\n",
       "      <th>35</th>\n",
       "      <td>52995.352</td>\n",
       "      <td>megacami</td>\n",
       "      <td>3.080000</td>\n",
       "      <td>3.076000</td>\n",
       "      <td>27.5</td>\n",
       "      <td>ab</td>\n",
       "    </tr>\n",
       "    <tr>\n",
       "      <th>36</th>\n",
       "      <td>52995.391</td>\n",
       "      <td>megacamr</td>\n",
       "      <td>0.450000</td>\n",
       "      <td>1.911000</td>\n",
       "      <td>27.5</td>\n",
       "      <td>ab</td>\n",
       "    </tr>\n",
       "    <tr>\n",
       "      <th>37</th>\n",
       "      <td>52999.238</td>\n",
       "      <td>megacami</td>\n",
       "      <td>0.830000</td>\n",
       "      <td>2.948000</td>\n",
       "      <td>27.5</td>\n",
       "      <td>ab</td>\n",
       "    </tr>\n",
       "    <tr>\n",
       "      <th>38</th>\n",
       "      <td>52999.281</td>\n",
       "      <td>megacamr</td>\n",
       "      <td>0.720000</td>\n",
       "      <td>1.837000</td>\n",
       "      <td>27.5</td>\n",
       "      <td>ab</td>\n",
       "    </tr>\n",
       "    <tr>\n",
       "      <th>39</th>\n",
       "      <td>52999.359</td>\n",
       "      <td>megacamz</td>\n",
       "      <td>20.700001</td>\n",
       "      <td>11.553000</td>\n",
       "      <td>27.5</td>\n",
       "      <td>ab</td>\n",
       "    </tr>\n",
       "    <tr>\n",
       "      <th>40</th>\n",
       "      <td>53000.238</td>\n",
       "      <td>megacamz</td>\n",
       "      <td>8.660000</td>\n",
       "      <td>6.506000</td>\n",
       "      <td>27.5</td>\n",
       "      <td>ab</td>\n",
       "    </tr>\n",
       "    <tr>\n",
       "      <th>41</th>\n",
       "      <td>53018.262</td>\n",
       "      <td>megacami</td>\n",
       "      <td>3.550000</td>\n",
       "      <td>2.804000</td>\n",
       "      <td>27.5</td>\n",
       "      <td>ab</td>\n",
       "    </tr>\n",
       "    <tr>\n",
       "      <th>42</th>\n",
       "      <td>53018.309</td>\n",
       "      <td>megacamr</td>\n",
       "      <td>-3.700000</td>\n",
       "      <td>2.257000</td>\n",
       "      <td>27.5</td>\n",
       "      <td>ab</td>\n",
       "    </tr>\n",
       "    <tr>\n",
       "      <th>43</th>\n",
       "      <td>53022.289</td>\n",
       "      <td>megacami</td>\n",
       "      <td>2.410000</td>\n",
       "      <td>3.066000</td>\n",
       "      <td>27.5</td>\n",
       "      <td>ab</td>\n",
       "    </tr>\n",
       "    <tr>\n",
       "      <th>44</th>\n",
       "      <td>53022.320</td>\n",
       "      <td>megacamr</td>\n",
       "      <td>-0.010000</td>\n",
       "      <td>4.057000</td>\n",
       "      <td>27.5</td>\n",
       "      <td>ab</td>\n",
       "    </tr>\n",
       "    <tr>\n",
       "      <th>45</th>\n",
       "      <td>53023.230</td>\n",
       "      <td>megacamr</td>\n",
       "      <td>0.820000</td>\n",
       "      <td>1.756000</td>\n",
       "      <td>27.5</td>\n",
       "      <td>ab</td>\n",
       "    </tr>\n",
       "    <tr>\n",
       "      <th>46</th>\n",
       "      <td>53026.270</td>\n",
       "      <td>megacami</td>\n",
       "      <td>2.540000</td>\n",
       "      <td>2.877000</td>\n",
       "      <td>27.5</td>\n",
       "      <td>ab</td>\n",
       "    </tr>\n",
       "    <tr>\n",
       "      <th>47</th>\n",
       "      <td>53026.340</td>\n",
       "      <td>megacamr</td>\n",
       "      <td>-3.100000</td>\n",
       "      <td>1.816000</td>\n",
       "      <td>27.5</td>\n",
       "      <td>ab</td>\n",
       "    </tr>\n",
       "  </tbody>\n",
       "</table>\n",
       "</div>"
      ],
      "text/plain": [
       "          mjd      band       flux    fluxerr    zp zpsys\n",
       "0   52881.500  megacami  13.440000   2.846000  27.5    ab\n",
       "1   52881.539  megacamr   7.740000   1.701000  27.5    ab\n",
       "2   52881.559  megacamz  19.719999   6.539000  27.5    ab\n",
       "3   52886.602  megacami  44.520000   2.909000  27.5    ab\n",
       "4   52900.531  megacami  86.570000   2.914000  27.5    ab\n",
       "5   52900.559  megacamr  62.169998   2.324000  27.5    ab\n",
       "6   52900.590  megacamz  84.410004   8.752000  27.5    ab\n",
       "7   52904.531  megacami  80.720001   2.710000  27.5    ab\n",
       "8   52904.570  megacamr  55.090000   2.009000  27.5    ab\n",
       "9   52908.559  megacamr  54.500000   1.930000  27.5    ab\n",
       "10  52908.602  megacami  76.160004   2.932000  27.5    ab\n",
       "11  52909.609  megacamz  81.099998   7.752000  27.5    ab\n",
       "12  52912.488  megacami  70.440002   2.866000  27.5    ab\n",
       "13  52914.570  megacamr  42.810001   2.690000  27.5    ab\n",
       "14  52915.621  megacami  62.090000   3.366000  27.5    ab\n",
       "15  52916.461  megacamr  38.060001   1.845000  27.5    ab\n",
       "16  52934.512  megacamr   8.750000   3.558000  27.5    ab\n",
       "17  52937.512  megacami  23.530001   5.018000  27.5    ab\n",
       "18  52937.578  megacamr  -0.060000   5.241000  27.5    ab\n",
       "19  52938.520  megacamz  78.430000  24.221001  27.5    ab\n",
       "20  52942.488  megacami  19.780001   8.521000  27.5    ab\n",
       "21  52944.441  megacamr   7.440000   3.887000  27.5    ab\n",
       "22  52944.469  megacamz  10.470000  13.880000  27.5    ab\n",
       "23  52961.379  megacami   9.140000   3.233000  27.5    ab\n",
       "24  52961.480  megacamr   4.840000   2.418000  27.5    ab\n",
       "25  52962.309  megacamz  20.190001   5.934000  27.5    ab\n",
       "26  52964.320  megacami   9.600000   2.981000  27.5    ab\n",
       "27  52964.398  megacamr   1.800000   2.409000  27.5    ab\n",
       "28  52964.441  megacamz   6.420000  15.410000  27.5    ab\n",
       "29  52968.371  megacamr   3.590000   2.250000  27.5    ab\n",
       "30  52972.270  megacami  -1.910000   3.710000  27.5    ab\n",
       "31  52990.262  megacami   7.550000   2.904000  27.5    ab\n",
       "32  52990.340  megacamr   0.500000   1.987000  27.5    ab\n",
       "33  52992.250  megacami   4.020000   3.062000  27.5    ab\n",
       "34  52992.289  megacamr  -2.430000   2.229000  27.5    ab\n",
       "35  52995.352  megacami   3.080000   3.076000  27.5    ab\n",
       "36  52995.391  megacamr   0.450000   1.911000  27.5    ab\n",
       "37  52999.238  megacami   0.830000   2.948000  27.5    ab\n",
       "38  52999.281  megacamr   0.720000   1.837000  27.5    ab\n",
       "39  52999.359  megacamz  20.700001  11.553000  27.5    ab\n",
       "40  53000.238  megacamz   8.660000   6.506000  27.5    ab\n",
       "41  53018.262  megacami   3.550000   2.804000  27.5    ab\n",
       "42  53018.309  megacamr  -3.700000   2.257000  27.5    ab\n",
       "43  53022.289  megacami   2.410000   3.066000  27.5    ab\n",
       "44  53022.320  megacamr  -0.010000   4.057000  27.5    ab\n",
       "45  53023.230  megacamr   0.820000   1.756000  27.5    ab\n",
       "46  53026.270  megacami   2.540000   2.877000  27.5    ab\n",
       "47  53026.340  megacamr  -3.100000   1.816000  27.5    ab"
      ]
     },
     "execution_count": 34,
     "metadata": {},
     "output_type": "execute_result"
    }
   ],
   "source": [
    "lcInstance.lightCurve[['mjd', 'band', 'flux', 'fluxerr', 'zp', 'zpsys']]"
   ]
  },
  {
   "cell_type": "code",
   "execution_count": 35,
   "metadata": {
    "collapsed": false
   },
   "outputs": [
    {
     "data": {
      "text/plain": [
       "{'g': 'megacamg',\n",
       " 'i': 'megacami',\n",
       " 'r': 'megacamr',\n",
       " 'u': 'megacamu',\n",
       " 'z': 'megacamz'}"
      ]
     },
     "execution_count": 35,
     "metadata": {},
     "output_type": "execute_result"
    }
   ],
   "source": [
    "lcInstance.bandNameDict"
   ]
  },
  {
   "cell_type": "code",
   "execution_count": 36,
   "metadata": {
    "collapsed": false
   },
   "outputs": [
    {
     "data": {
      "text/plain": [
       "SNID\n",
       "03d1aw    0.5817\n",
       "03d1ax    0.4960\n",
       "Name: REDSHIFT_FINAL, dtype: float32"
      ]
     },
     "execution_count": 36,
     "metadata": {},
     "output_type": "execute_result"
    }
   ],
   "source": [
    "snana_eg.headData['REDSHIFT_FINAL']"
   ]
  },
  {
   "cell_type": "code",
   "execution_count": 37,
   "metadata": {
    "collapsed": false
   },
   "outputs": [],
   "source": [
    "snanalc = snd.LightCurve(lcInstance.lightCurve[['mjd', 'band', 'flux', 'fluxerr', 'zp', 'zpsys']])\n",
    "SNCosmo_snanalc = snanalc.snCosmoLC()"
   ]
  },
  {
   "cell_type": "code",
   "execution_count": 38,
   "metadata": {
    "collapsed": false,
    "scrolled": false
   },
   "outputs": [
    {
     "data": {
      "text/html": [
       "&lt;Table length=48&gt;\n",
       "<table id=\"table4509222032\" class=\"table-striped table-bordered table-condensed\">\n",
       "<thead><tr><th>time</th><th>band</th><th>flux</th><th>fluxerr</th><th>zp</th><th>zpsys</th></tr></thead>\n",
       "<thead><tr><th>float64</th><th>str8</th><th>float32</th><th>float32</th><th>float64</th><th>str2</th></tr></thead>\n",
       "<tr><td>52881.5</td><td>megacami</td><td>13.44</td><td>2.846</td><td>27.5</td><td>ab</td></tr>\n",
       "<tr><td>52881.539</td><td>megacamr</td><td>7.74</td><td>1.701</td><td>27.5</td><td>ab</td></tr>\n",
       "<tr><td>52881.559</td><td>megacamz</td><td>19.72</td><td>6.539</td><td>27.5</td><td>ab</td></tr>\n",
       "<tr><td>52886.602</td><td>megacami</td><td>44.52</td><td>2.909</td><td>27.5</td><td>ab</td></tr>\n",
       "<tr><td>52900.531</td><td>megacami</td><td>86.57</td><td>2.914</td><td>27.5</td><td>ab</td></tr>\n",
       "<tr><td>52900.559</td><td>megacamr</td><td>62.17</td><td>2.324</td><td>27.5</td><td>ab</td></tr>\n",
       "<tr><td>52900.59</td><td>megacamz</td><td>84.41</td><td>8.752</td><td>27.5</td><td>ab</td></tr>\n",
       "<tr><td>52904.531</td><td>megacami</td><td>80.72</td><td>2.71</td><td>27.5</td><td>ab</td></tr>\n",
       "<tr><td>52904.57</td><td>megacamr</td><td>55.09</td><td>2.009</td><td>27.5</td><td>ab</td></tr>\n",
       "<tr><td>52908.559</td><td>megacamr</td><td>54.5</td><td>1.93</td><td>27.5</td><td>ab</td></tr>\n",
       "<tr><td>...</td><td>...</td><td>...</td><td>...</td><td>...</td><td>...</td></tr>\n",
       "<tr><td>52999.281</td><td>megacamr</td><td>0.72</td><td>1.837</td><td>27.5</td><td>ab</td></tr>\n",
       "<tr><td>52999.359</td><td>megacamz</td><td>20.7</td><td>11.553</td><td>27.5</td><td>ab</td></tr>\n",
       "<tr><td>53000.238</td><td>megacamz</td><td>8.66</td><td>6.506</td><td>27.5</td><td>ab</td></tr>\n",
       "<tr><td>53018.262</td><td>megacami</td><td>3.55</td><td>2.804</td><td>27.5</td><td>ab</td></tr>\n",
       "<tr><td>53018.309</td><td>megacamr</td><td>-3.7</td><td>2.257</td><td>27.5</td><td>ab</td></tr>\n",
       "<tr><td>53022.289</td><td>megacami</td><td>2.41</td><td>3.066</td><td>27.5</td><td>ab</td></tr>\n",
       "<tr><td>53022.32</td><td>megacamr</td><td>-0.01</td><td>4.057</td><td>27.5</td><td>ab</td></tr>\n",
       "<tr><td>53023.23</td><td>megacamr</td><td>0.82</td><td>1.756</td><td>27.5</td><td>ab</td></tr>\n",
       "<tr><td>53026.27</td><td>megacami</td><td>2.54</td><td>2.877</td><td>27.5</td><td>ab</td></tr>\n",
       "<tr><td>53026.34</td><td>megacamr</td><td>-3.1</td><td>1.816</td><td>27.5</td><td>ab</td></tr>\n",
       "</table>"
      ],
      "text/plain": [
       "<Table length=48>\n",
       "   time     band     flux  fluxerr    zp   zpsys\n",
       " float64    str8   float32 float32 float64  str2\n",
       "--------- -------- ------- ------- ------- -----\n",
       "  52881.5 megacami   13.44   2.846    27.5    ab\n",
       "52881.539 megacamr    7.74   1.701    27.5    ab\n",
       "52881.559 megacamz   19.72   6.539    27.5    ab\n",
       "52886.602 megacami   44.52   2.909    27.5    ab\n",
       "52900.531 megacami   86.57   2.914    27.5    ab\n",
       "52900.559 megacamr   62.17   2.324    27.5    ab\n",
       " 52900.59 megacamz   84.41   8.752    27.5    ab\n",
       "52904.531 megacami   80.72    2.71    27.5    ab\n",
       " 52904.57 megacamr   55.09   2.009    27.5    ab\n",
       "52908.559 megacamr    54.5    1.93    27.5    ab\n",
       "      ...      ...     ...     ...     ...   ...\n",
       "52999.281 megacamr    0.72   1.837    27.5    ab\n",
       "52999.359 megacamz    20.7  11.553    27.5    ab\n",
       "53000.238 megacamz    8.66   6.506    27.5    ab\n",
       "53018.262 megacami    3.55   2.804    27.5    ab\n",
       "53018.309 megacamr    -3.7   2.257    27.5    ab\n",
       "53022.289 megacami    2.41   3.066    27.5    ab\n",
       " 53022.32 megacamr   -0.01   4.057    27.5    ab\n",
       " 53023.23 megacamr    0.82   1.756    27.5    ab\n",
       " 53026.27 megacami    2.54   2.877    27.5    ab\n",
       " 53026.34 megacamr    -3.1   1.816    27.5    ab"
      ]
     },
     "execution_count": 38,
     "metadata": {},
     "output_type": "execute_result"
    }
   ],
   "source": [
    "SNCosmo_snanalc"
   ]
  },
  {
   "cell_type": "code",
   "execution_count": 39,
   "metadata": {
    "collapsed": false
   },
   "outputs": [
    {
     "data": {
      "image/png": "[encoded data removed]",
      "text/plain": [
       "<matplotlib.figure.Figure at 0x10ccbdad0>"
      ]
     },
     "metadata": {},
     "output_type": "display_data"
    }
   ],
   "source": [
    "sncosmo.plot_lc(SNCosmo_snanalc);#, color='k');"
   ]
  },
  {
   "cell_type": "markdown",
   "metadata": {},
   "source": [
    "## Fitting\n",
    "\n",
    "import sncosmo"
   ]
  },
  {
   "cell_type": "markdown",
   "metadata": {},
   "source": [
    "To infer the light curve model parameters, we need a model. We will use the SALT model from SNCosmo"
   ]
  },
  {
   "cell_type": "code",
   "execution_count": 40,
   "metadata": {
    "collapsed": false
   },
   "outputs": [
    {
     "name": "stdout",
     "output_type": "stream",
     "text": [
      "class           : CCM89Dust\n",
      "wavelength range: [1000, 33333.3] Angstroms\n",
      "parameters:\n",
      "  ebv = 0.0\n",
      "  r_v = 3.1000000000000001\n"
     ]
    }
   ],
   "source": [
    "dust = sncosmo.CCM89Dust()\n",
    "print(dust)"
   ]
  },
  {
   "cell_type": "code",
   "execution_count": 41,
   "metadata": {
    "collapsed": false
   },
   "outputs": [],
   "source": [
    "model = sncosmo.Model(source='salt2', effects=[dust,dust],effect_names=['host', 'mw'], effect_frames=['rest', 'obs'])\n",
    "#print(model)\n",
    "#model.param_names\n",
    "#model.parameters"
   ]
  },
  {
   "cell_type": "markdown",
   "metadata": {},
   "source": [
    "We will not try to infer the redshift first"
   ]
  },
  {
   "cell_type": "code",
   "execution_count": 42,
   "metadata": {
    "collapsed": false
   },
   "outputs": [],
   "source": [
    "model.set(z=0.5817)"
   ]
  },
  {
   "cell_type": "markdown",
   "metadata": {},
   "source": [
    "We have two main methods of trying to infer the model parameters: the first one is a maximum likelihood estimate and second one is a Markov Chain Monte Carlo"
   ]
  },
  {
   "cell_type": "code",
   "execution_count": 47,
   "metadata": {
    "collapsed": false
   },
   "outputs": [],
   "source": [
    "resml,fitmodml = sncosmo.fit_lc(lcInstance.snCosmoLC(), model, vparam_names=['t0', 'x0', 'x1', 'c'], modelcov=False)\n",
    "resmcmc,fitmodmcmc = sncosmo.mcmc_lc(lcInstance.snCosmoLC(), model, vparam_names=['t0', 'x0', 'x1', 'c'], modelcov=False)"
   ]
  },
  {
   "cell_type": "markdown",
   "metadata": {
    "collapsed": false
   },
   "source": [
    "Get results from fits using sncosmo"
   ]
  },
  {
   "cell_type": "code",
   "execution_count": 77,
   "metadata": {
    "collapsed": false
   },
   "outputs": [
    {
     "name": "stdout",
     "output_type": "stream",
     "text": [
      "             vparam_names: ['t0', 'x0', 'x1', 'c']\n",
      "                   errors: OrderedDict([('t0', 0.60350201533281522), ('x0', 1.7300296755563357e-07), ('x1', 0.29304035925787347), ('c', 0.03254633533250622)])\n",
      "                  samples: array([[  5.28997832e+04,   8.15094759e-06,  -3.29904950e-01,\n",
      "          2.35778237e-01],\n",
      "       [  5.28998029e+04,   8.15960208e-06,  -3.28818677e-01,\n",
      "          2.35982200e-01],\n",
      "       [  5.28998460e+04,   8.15482677e-06,  -3.20861563e-01,\n",
      "          2.44239477e-01],\n",
      "       ..., \n",
      "       [  5.29025461e+04,   7.86258095e-06,   1.17336605e-01,\n",
      "          2.75504607e-01],\n",
      "       [  5.29025441e+04,   7.86507877e-06,   1.16847422e-01,\n",
      "          2.75305222e-01],\n",
      "       [  5.29025441e+04,   7.86507877e-06,   1.16847422e-01,\n",
      "          2.75305222e-01]])\n",
      "               parameters: array([  5.81700000e-01,   5.29021839e+04,   7.73577376e-06,\n",
      "         1.91824324e-01,   2.84618212e-01,   0.00000000e+00,\n",
      "         3.10000000e+00,   0.00000000e+00,   3.10000000e+00])\n",
      "              param_names: ['z', 't0', 'x0', 'x1', 'c', 'hostebv', 'hostr_v', 'mwebv', 'mwr_v']\n",
      " mean_acceptance_fraction: 0.58789999999999998\n",
      "               covariance: array([[  3.64214683e-01,  -7.61952749e-08,   1.10943814e-01,\n",
      "          5.66620913e-03],\n",
      "       [ -7.61952749e-08,   2.99300268e-14,  -3.73485461e-08,\n",
      "         -2.35373068e-09],\n",
      "       [  1.10943814e-01,  -3.73485461e-08,   8.58726522e-02,\n",
      "          2.64099234e-03],\n",
      "       [  5.66620913e-03,  -2.35373068e-09,   2.64099234e-03,\n",
      "          1.05926394e-03]])\n",
      "<Model at 0x10cb46610>\n",
      "source:\n",
      "  class      : SALT2Source\n",
      "  name       : 'salt2'\n",
      "  version    : 2.4\n",
      "  phases     : [-20, .., 50] days\n",
      "  wavelengths: [2000, .., 9200] Angstroms\n",
      "effect (name='host' frame='rest'):\n",
      "  class           : CCM89Dust\n",
      "  wavelength range: [1000, 33333.3] Angstroms\n",
      "effect (name='mw' frame='obs'):\n",
      "  class           : CCM89Dust\n",
      "  wavelength range: [1000, 33333.3] Angstroms\n",
      "parameters:\n",
      "  z       = 0.58169999999999999\n",
      "  t0      = 52902.335455174187\n",
      "  x0      = 7.7076051685948634e-06\n",
      "  x1      = 0.18004689180188355\n",
      "  c       = 0.28584707439922075\n",
      "  hostebv = 0.0\n",
      "  hostr_v = 3.1000000000000001\n",
      "  mwebv   = 0.0\n",
      "  mwr_v   = 3.1000000000000001\n",
      "[  5.81700000e-01   5.29023355e+04   7.70760517e-06   1.80046892e-01\n",
      "   2.85847074e-01   0.00000000e+00   3.10000000e+00   0.00000000e+00\n",
      "   3.10000000e+00]\n"
     ]
    }
   ],
   "source": [
    "print(resmcmc)\n",
    "print(fitmodml)\n",
    "print(resml.parameters)"
   ]
  },
  {
   "cell_type": "markdown",
   "metadata": {},
   "source": [
    "Plotting LC for maximum likelihood model"
   ]
  },
  {
   "cell_type": "code",
   "execution_count": 64,
   "metadata": {
    "collapsed": false
   },
   "outputs": [
    {
     "data": {
      "image/png": "[encoded data removed]",
      "text/plain": [
       "<matplotlib.figure.Figure at 0x10cf051d0>"
      ]
     },
     "metadata": {},
     "output_type": "display_data"
    }
   ],
   "source": [
    "sncosmo.plot_lc(lcInstance.snCosmoLC(), model=fitmodml, errors=resml.errors);"
   ]
  },
  {
   "cell_type": "markdown",
   "metadata": {},
   "source": [
    "Plotting LC for MCMC"
   ]
  },
  {
   "cell_type": "code",
   "execution_count": 86,
   "metadata": {
    "collapsed": false
   },
   "outputs": [
    {
     "data": {
      "image/png": "[encoded data removed]",
      "text/plain": [
       "<matplotlib.figure.Figure at 0x10d921310>"
      ]
     },
     "metadata": {},
     "output_type": "display_data"
    }
   ],
   "source": [
    "sncosmo.plot_lc(lcInstance.snCosmoLC(), model=fitmodmcmc, errors=resmcmc.errors);"
   ]
  },
  {
   "cell_type": "code",
   "execution_count": 141,
   "metadata": {
    "collapsed": false
   },
   "outputs": [
    {
     "data": {
      "image/png": "[encoded data removed]",
      "text/plain": [
       "<matplotlib.figure.Figure at 0x10eafce10>"
      ]
     },
     "metadata": {},
     "output_type": "display_data"
    }
   ],
   "source": [
    "fig, ax  = plt.subplots(1, 4,figsize=(18, 8))\n",
    "for i in range(0,4):\n",
    "    ax[i].hist(resmcmc.samples[:,i],bins=15, normed=1);\n",
    "    ax[i].set_xlabel(resmcmc.vparam_names[i])\n",
    "#resmcmc.samples()['t0'].hist(bins=10)#, lw=2., histtype='step', normed=1, ax=ax[2])\n",
    "#resmcmc.samples()['x0'].hist(bins=10, lw=2., histtype='step', normed=1, ax=ax[3])\n",
    "#resmcmc.samples()['x1'].hist(bins=np.arange(-4., 4., 0.2), lw=2., histtype='step', normed=1, ax=ax[1])\n",
    "#resmcmc.samples()['c'].hist(bins=np.arange(-0.6, 0.6, 0.03), lw=2., histtype='step', normed=1, ax=ax[0])"
   ]
  },
  {
   "cell_type": "markdown",
   "metadata": {
    "collapsed": false
   },
   "source": [
    "Plotting the LC of the previous example"
   ]
  },
  {
   "cell_type": "code",
   "execution_count": null,
   "metadata": {
    "collapsed": false
   },
   "outputs": [
    {
     "data": {
      "image/png": "[encoded data removed]",
      "text/plain": [
       "<matplotlib.figure.Figure at 0x10dd47590>"
      ]
     },
     "metadata": {},
     "output_type": "display_data"
    }
   ],
   "source": [
    "resfit_old,fitmod_old = sncosmo.fit_lc(lc.snCosmoLC(), model, vparam_names=['z','t0', 'x0', 'x1', 'c'],bounds={'z':(0.0, 0.7)}, modelcov=False)\n",
    "sncosmo.plot_lc(lc.snCosmoLC(), model=fitmod_old, errors=resfit_old.errors);"
   ]
  },
  {
   "cell_type": "code",
   "execution_count": null,
   "metadata": {
    "collapsed": false
   },
   "outputs": [],
   "source": [
    "resmcmc_old,fitmodmcmc_old = sncosmo.mcmc_lc(lc.snCosmoLC(), model, vparam_names=['z','t0', 'x0', 'x1', 'c'],bounds={'z':(0.0, 0.7)}, modelcov=False)\n",
    "sncosmo.plot_lc(lc.snCosmoLC(), model=fitmodmcmc_old, errors=resmcmc_old.errors);"
   ]
  },
  {
   "cell_type": "code",
   "execution_count": null,
   "metadata": {
    "collapsed": false
   },
   "outputs": [],
   "source": []
  },
  {
   "cell_type": "code",
   "execution_count": null,
   "metadata": {
    "collapsed": false
   },
   "outputs": [],
   "source": []
  },
  {
   "cell_type": "code",
   "execution_count": null,
   "metadata": {
    "collapsed": true
   },
   "outputs": [],
   "source": []
  },
  {
   "cell_type": "code",
   "execution_count": null,
   "metadata": {
    "collapsed": true
   },
   "outputs": [],
   "source": []
  },
  {
   "cell_type": "code",
   "execution_count": null,
   "metadata": {
    "collapsed": true
   },
   "outputs": [],
   "source": []
  }
 ],
 "metadata": {
  "anaconda-cloud": {},
  "kernelspec": {
   "display_name": "Python [default]",
   "language": "python",
   "name": "python2"
  },
  "language_info": {
   "codemirror_mode": {
    "name": "ipython",
    "version": 2
   },
   "file_extension": ".py",
   "mimetype": "text/x-python",
   "name": "python",
   "nbconvert_exporter": "python",
   "pygments_lexer": "ipython2",
   "version": "2.7.12"
  }
 },
 "nbformat": 4,
 "nbformat_minor": 1
}
