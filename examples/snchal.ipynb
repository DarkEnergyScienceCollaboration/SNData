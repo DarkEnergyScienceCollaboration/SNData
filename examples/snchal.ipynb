{
 "cells": [
  {
   "cell_type": "markdown",
   "metadata": {
    "deletable": true,
    "editable": true
   },
   "source": [
    "SN Photometric Challenge Parser"
   ]
  },
  {
   "cell_type": "markdown",
   "metadata": {
    "deletable": true,
    "editable": true
   },
   "source": [
    "### First, an example of SNANASims dealing with SNANA FITS file"
   ]
  },
  {
   "cell_type": "code",
   "execution_count": null,
   "metadata": {
    "collapsed": false,
    "deletable": true,
    "editable": true
   },
   "outputs": [],
   "source": [
    "import sndata as snd\n",
    "from sndata import SNANASims\n",
    "from astropy.table import Table\n",
    "from matplotlib import pyplot as plt\n",
    "megacamBandNames = 'ugriz'\n",
    "#megacamRegisteredNames = tuple('megacam' + band for band in megacamBandNames)\n",
    "megacamRegisteredNames = tuple('megacam' + band for band in megacamBandNames)"
   ]
  },
  {
   "cell_type": "code",
   "execution_count": null,
   "metadata": {
    "collapsed": false,
    "deletable": true,
    "editable": true
   },
   "outputs": [],
   "source": [
    "snanafile = SNANASims.fromSNANAfileroot(snanafileroot='snana_fits',\n",
    "                                       location='../sndata/example_data/',\n",
    "                                       coerce_inds2int=False,\n",
    "                                       SNANABandNames=megacamBandNames,\n",
    "                                       registeredBandNames=megacamRegisteredNames)"
   ]
  },
  {
   "cell_type": "code",
   "execution_count": null,
   "metadata": {
    "collapsed": false,
    "deletable": true,
    "editable": true
   },
   "outputs": [],
   "source": [
    "#print(snanafile.photFile)\n",
    "#print(snanafile.headFile)\n",
    "snanafile.headData\n",
    "#print(snanafile.phot)\n",
    "#print(snanafile.bandNames)\n",
    "#print(snanafile.newbandNames)\n",
    "#print(snanafile.bandNameDict)\n"
   ]
  },
  {
   "cell_type": "code",
   "execution_count": null,
   "metadata": {
    "collapsed": false,
    "deletable": true,
    "editable": true
   },
   "outputs": [],
   "source": [
    "lcInstance = snanafile.get_SNANA_photometry(snid='03D1aw')\n"
   ]
  },
  {
   "cell_type": "code",
   "execution_count": null,
   "metadata": {
    "collapsed": false,
    "deletable": true,
    "editable": true,
    "scrolled": false
   },
   "outputs": [],
   "source": [
    "lcInstance.lightCurve[['mjd', 'band', 'flux', 'fluxerr', 'zp', 'zpsys']]\n"
   ]
  },
  {
   "cell_type": "code",
   "execution_count": null,
   "metadata": {
    "collapsed": false,
    "deletable": true,
    "editable": true
   },
   "outputs": [],
   "source": [
    "lcInstance.bandNameDict"
   ]
  },
  {
   "cell_type": "code",
   "execution_count": null,
   "metadata": {
    "collapsed": false,
    "deletable": true,
    "editable": true
   },
   "outputs": [],
   "source": [
    "snanalc = snd.LightCurve(lcInstance.lightCurve[['mjd', 'band', 'flux', 'fluxerr', 'zp', 'zpsys']])\n"
   ]
  },
  {
   "cell_type": "code",
   "execution_count": null,
   "metadata": {
    "collapsed": false,
    "deletable": true,
    "editable": true
   },
   "outputs": [],
   "source": [
    "snanalc"
   ]
  },
  {
   "cell_type": "markdown",
   "metadata": {
    "deletable": true,
    "editable": true
   },
   "source": [
    "### Second, check if SNANASims is able to read old SNANA ASCII files from SN Challenge 2010"
   ]
  },
  {
   "cell_type": "code",
   "execution_count": 1,
   "metadata": {
    "collapsed": false,
    "deletable": true,
    "editable": true
   },
   "outputs": [],
   "source": [
    "import sndata as snd\n",
    "from sndata import SNChalSims\n",
    "from astropy.table import Table\n",
    "\n",
    "megacamBandNames = 'ugriz'\n",
    "#megacamRegisteredNames = tuple('megacam' + band for band in megacamBandNames)\n",
    "megacamRegisteredNames = tuple('megacam' + band for band in megacamBandNames)"
   ]
  },
  {
   "cell_type": "code",
   "execution_count": null,
   "metadata": {
    "collapsed": true
   },
   "outputs": [],
   "source": [
    "SNChalSims."
   ]
  },
  {
   "cell_type": "code",
   "execution_count": 2,
   "metadata": {
    "collapsed": false,
    "deletable": true,
    "editable": true,
    "scrolled": false
   },
   "outputs": [
    {
     "name": "stdout",
     "output_type": "stream",
     "text": [
      "0 DES_BLIND+HOSTZ/\u0000\u0000\u0000\u0000\u0000\u0000\u0000\u0000\u0000\u0000\u0000\u0000\u0000\u0000\u0000\u0000\u0000\u0000\u0000\u0000\u0000\u0000\u0000\u0000\u0000\u0000\u0000\u0000\u0000\u0000\u0000\u0000\u0000\u0000\u0000\u0000\u0000\u0000\u0000\u0000\u0000\u0000\u0000\u0000\u0000\u0000\u0000\u0000\u0000\u0000\u0000\u0000\u0000\u0000\u0000\u0000\u0000\u0000\u0000\u0000\u0000\u0000\u0000\u0000\u0000\u0000\u0000\u0000\u0000\u0000\u0000\u0000\u0000\u0000\u0000\u0000\u0000\u0000\u0000\u0000\u0000\u0000\u0000\u00000000775\u00000005415\u00000012504\u000000000000000\u000011360736261\u0000012704\u0000 5\u0000\u0000\u0000\u0000\u0000\u0000\u0000\u0000\u0000\u0000\u0000\u0000\u0000\u0000\u0000\u0000\u0000\u0000\u0000\u0000\u0000\u0000\u0000\u0000\u0000\u0000\u0000\u0000\u0000\u0000\u0000\u0000\u0000\u0000\u0000\u0000\u0000\u0000\u0000\u0000\u0000\u0000\u0000\u0000\u0000\u0000\u0000\u0000\u0000\u0000\u0000\u0000\u0000\u0000\u0000\u0000\u0000\u0000\u0000\u0000\u0000\u0000\u0000\u0000\u0000\u0000\u0000\u0000\u0000\u0000\u0000\u0000\u0000\u0000\u0000\u0000\u0000\u0000\u0000\u0000\u0000\u0000\u0000\u0000\u0000\u0000\u0000\u0000\u0000\u0000\u0000\u0000\u0000\u0000\u0000\u0000\u0000\u0000\u0000\u0000ustar  \u0000rkessler\u0000\u0000\u0000\u0000\u0000\u0000\u0000\u0000\u0000\u0000\u0000\u0000\u0000\u0000\u0000\u0000\u0000\u0000\u0000\u0000\u0000\u0000\u0000\u0000sdss\u0000\u0000\u0000\u0000\u0000\u0000\u0000\u0000\u0000\u0000\u0000\u0000\u0000\u0000\u0000\u0000\u0000\u0000\u0000\u0000\u0000\u0000\u0000\u0000\u0000\u0000\u0000\u0000\u0000\u0000\u0000\u0000\u0000\u0000\u0000\u0000\u0000\u0000\u0000\u0000\u0000\u0000\u0000\u0000\u0000\u0000\u0000\u0000\u0000\u0000\u0000\u0000\u0000\u0000\u0000\u0000\u0000\u0000\u0000\u0000\u0000\u0000\u0000\u0000\u0000\u0000\u0000\u0000\u0000\u0000\u0000\u0000\u0000\u0000\u0000\u0000\u0000\u0000\u0000\u0000\u0000\u0000\u0000\u0000\u0000\u0000\u0000\u0000\u0000\u0000\u0000\u0000\u0000\u0000\u0000\u0000\u0000\u0000\u0000\u0000\u0000\u0000\u0000\u0000\u0000\u0000\u0000\u0000\u0000\u0000\u0000\u0000\u0000\u0000\u0000\u0000\u0000\u0000\u0000\u0000\u0000\u0000\u0000\u0000\u0000\u0000\u0000\u0000\u0000\u0000\u0000\u0000\u0000\u0000\u0000\u0000\u0000\u0000\u0000\u0000\u0000\u0000\u0000\u0000\u0000\u0000\u0000\u0000\u0000\u0000\u0000\u0000\u0000\u0000\u0000\u0000\u0000\u0000\u0000\u0000\u0000\u0000\u0000\u0000\u0000\u0000\u0000\u0000\u0000\u0000\u0000\u0000\u0000\u0000\u0000\u0000\u0000\u0000\u0000\u0000\u0000\u0000\u0000\u0000\u0000\u0000\u0000\u0000\u0000\u0000\u0000\u0000\u0000\u0000\u0000\u0000\u0000\u0000\u0000\u0000\u0000\u0000\u0000\u0000\u0000\u0000\u0000\u0000\u0000\u0000\u0000DES_BLIND+HOSTZ/DES_SN004216.DAT\u0000\u0000\u0000\u0000\u0000\u0000\u0000\u0000\u0000\u0000\u0000\u0000\u0000\u0000\u0000\u0000\u0000\u0000\u0000\u0000\u0000\u0000\u0000\u0000\u0000\u0000\u0000\u0000\u0000\u0000\u0000\u0000\u0000\u0000\u0000\u0000\u0000\u0000\u0000\u0000\u0000\u0000\u0000\u0000\u0000\u0000\u0000\u0000\u0000\u0000\u0000\u0000\u0000\u0000\u0000\u0000\u0000\u0000\u0000\u0000\u0000\u0000\u0000\u0000\u0000\u0000\u0000\u00000000664\u00000005415\u00000012504\u000000000013340\u000011360734453\u0000014730\u0000 0\u0000\u0000\u0000\u0000\u0000\u0000\u0000\u0000\u0000\u0000\u0000\u0000\u0000\u0000\u0000\u0000\u0000\u0000\u0000\u0000\u0000\u0000\u0000\u0000\u0000\u0000\u0000\u0000\u0000\u0000\u0000\u0000\u0000\u0000\u0000\u0000\u0000\u0000\u0000\u0000\u0000\u0000\u0000\u0000\u0000\u0000\u0000\u0000\u0000\u0000\u0000\u0000\u0000\u0000\u0000\u0000\u0000\u0000\u0000\u0000\u0000\u0000\u0000\u0000\u0000\u0000\u0000\u0000\u0000\u0000\u0000\u0000\u0000\u0000\u0000\u0000\u0000\u0000\u0000\u0000\u0000\u0000\u0000\u0000\u0000\u0000\u0000\u0000\u0000\u0000\u0000\u0000\u0000\u0000\u0000\u0000\u0000\u0000\u0000\u0000ustar  \u0000rkessler\u0000\u0000\u0000\u0000\u0000\u0000\u0000\u0000\u0000\u0000\u0000\u0000\u0000\u0000\u0000\u0000\u0000\u0000\u0000\u0000\u0000\u0000\u0000\u0000sdss\u0000\u0000\u0000\u0000\u0000\u0000\u0000\u0000\u0000\u0000\u0000\u0000\u0000\u0000\u0000\u0000\u0000\u0000\u0000\u0000\u0000\u0000\u0000\u0000\u0000\u0000\u0000\u0000\u0000\u0000\u0000\u0000\u0000\u0000\u0000\u0000\u0000\u0000\u0000\u0000\u0000\u0000\u0000\u0000\u0000\u0000\u0000\u0000\u0000\u0000\u0000\u0000\u0000\u0000\u0000\u0000\u0000\u0000\u0000\u0000\u0000\u0000\u0000\u0000\u0000\u0000\u0000\u0000\u0000\u0000\u0000\u0000\u0000\u0000\u0000\u0000\u0000\u0000\u0000\u0000\u0000\u0000\u0000\u0000\u0000\u0000\u0000\u0000\u0000\u0000\u0000\u0000\u0000\u0000\u0000\u0000\u0000\u0000\u0000\u0000\u0000\u0000\u0000\u0000\u0000\u0000\u0000\u0000\u0000\u0000\u0000\u0000\u0000\u0000\u0000\u0000\u0000\u0000\u0000\u0000\u0000\u0000\u0000\u0000\u0000\u0000\u0000\u0000\u0000\u0000\u0000\u0000\u0000\u0000\u0000\u0000\u0000\u0000\u0000\u0000\u0000\u0000\u0000\u0000\u0000\u0000\u0000\u0000\u0000\u0000\u0000\u0000\u0000\u0000\u0000\u0000\u0000\u0000\u0000\u0000\u0000\u0000\u0000\u0000\u0000\u0000\u0000\u0000\u0000\u0000\u0000\u0000\u0000\u0000\u0000\u0000\u0000\u0000\u0000\u0000\u0000\u0000\u0000\u0000\u0000\u0000\u0000\u0000\u0000\u0000\u0000\u0000\u0000\u0000\u0000\u0000\u0000\u0000\u0000\u0000\u0000\u0000\u0000\u0000\u0000\u0000\u0000\u0000\u0000\u0000\u0000SURVEY: DES   \n",
      "\n",
      "1 SNID:   4216   \n",
      "\n",
      "2 IAUC:    UNKNOWN \n",
      "\n",
      "3 SNTYPE:  -9 \n",
      "\n",
      "4 FILTERS: griz \n",
      "\n",
      "5 RA:      34.500000  deg \n",
      "\n",
      "6 DECL:    -5.500000  deg \n",
      "\n",
      "7 FAKE:    3   (=> BLIND-TEST simulation) \n",
      "\n",
      "8 MWEBV:   0.0227    MW E(B-V) \n",
      "\n",
      "9 REDSHIFT_SPEC:    -9.0000 +-  9.0000  \n",
      "\n",
      "10  \n",
      "\n",
      "11 HOST_GALAXY_GALID:   14130 \n",
      "\n",
      "12 HOST_GALAXY_PHOTO-Z:   0.5173  +- 0.0421  \n",
      "\n",
      "13 \n",
      "\n",
      "14 \n",
      "\n",
      "15 \n",
      "\n",
      "16 \n",
      "\n",
      "17 # ============================================ \n",
      "\n",
      "18 # TERSE LIGHT CURVE OUTPUT: \n",
      "\n",
      "19 #\n",
      "\n",
      "20 NOBS: 107 \n",
      "\n",
      "21 NVAR: 5 \n",
      "\n",
      "22 VARLIST:  MJD  FLT FIELD   FLUXCAL   FLUXCALERR   \n",
      "\n",
      "defaultdict(<type 'list'>, {'decl': [-5.5], 'hostgal_snsep': [-9.0], 'snid': [4216], 'hostgal_logmass_err': [-9.0], 'fake': [3], 'redshift_helio': [-9], 'hostgal_photoz': [0.5173], 'iauc': ['UNKNOWN'], 'hostgal_specz': [-9.0], 'mwebv': [0.0227], 'ptrobs_min': [-9], 'redshift_final_err': [0.0421], 'sn_type': [-9], 'search_type': [-9], 'nxpix': [0], 'peakmjd': [-9.0], 'ra': [34.5], 'pixsize': [-9.0], 'redshift_helio_err': [-9], 'hostgal_mag_z': [-9.0], 'hostgal_mag_r': [-9.0], 'nobs': [107], 'hostgal_logmass': [-9.0], 'hostgal_mag_i': [-9.0], 'mwebv_err': [-9], 'hostgal_mag_g': [-9.0], 'hostid': [14130], 'ptrobs_max': [-9], 'hostgal_sb_fluxcal_r': [-9.0], 'redshift_final': [0.5173], 'hostgal_sb_fluxcal_z': [-9.0], 'nypix': [-9], 'hostgal_sb_fluxcal_g': [-9.0], 'hostgal_specz_err': [9.0], 'hostgal_sb_fluxcal_i': [-9.0], 'hostgal_photoz_err': [0.0421]})\n"
     ]
    }
   ],
   "source": [
    "charfile = SNChalSims.fromSNChal(snanafileroot='DES_BLIND+HOSTZ.tar.gz', zipped=True,\n",
    "                                       location='../sndata/example_data/',\n",
    "                                       SNANABandNames=megacamBandNames,\n",
    "                                       registeredBandNames=megacamRegisteredNames)"
   ]
  },
  {
   "cell_type": "code",
   "execution_count": 8,
   "metadata": {
    "collapsed": false,
    "deletable": true,
    "editable": true
   },
   "outputs": [
    {
     "name": "stdout",
     "output_type": "stream",
     "text": [
      "None\n",
      "None\n",
      "None\n",
      "ugriz\n",
      "('megacamu', 'megacamg', 'megacamr', 'megacami', 'megacamz')\n"
     ]
    }
   ],
   "source": [
    "charfile.headData\n",
    "print(charfile.photFile)\n",
    "print(charfile.headFile)\n",
    "print(charfile.phot)\n",
    "print(charfile.bandNames)\n",
    "print(charfile.newbandNames)\n",
    "#print(snanafile.bandNameDict)"
   ]
  },
  {
   "cell_type": "code",
   "execution_count": null,
   "metadata": {
    "collapsed": false,
    "deletable": true,
    "editable": true
   },
   "outputs": [],
   "source": [
    "charzip = SNANASims.SNChalParser(snanafileroot='DES_BLIND+HOSTZ.tar.gz',\n",
    "                                       location='../sndata/example_data/',\n",
    "                                       SNANABandNames=megacamBandNames,\n",
    "                                       registeredBandNames=megacamRegisteredNames,\n",
    "                                       zipped=True)"
   ]
  },
  {
   "cell_type": "code",
   "execution_count": null,
   "metadata": {
    "collapsed": false,
    "deletable": true,
    "editable": true
   },
   "outputs": [],
   "source": [
    "from __future__ import absolute_import, print_function, division\n",
    "import fitsio\n",
    "import pandas as pd\n",
    "import numpy as np\n",
    "import os\n",
    "import gzip\n",
    "from astropy.table import Table, Column"
   ]
  },
  {
   "cell_type": "code",
   "execution_count": null,
   "metadata": {
    "collapsed": false,
    "deletable": true,
    "editable": true
   },
   "outputs": [],
   "source": [
    "location = os.path.abspath('../sndata/example_data/')\n",
    "snanafileroot='DES_BLIND+HOSTZ.tar.gz'\n",
    "#snanafileroot='DES_SN000041.DAT'\n",
    "filename = os.path.join(location, snanafileroot)\n",
    "zipped=True\n",
    "#zipped=False"
   ]
  },
  {
   "cell_type": "code",
   "execution_count": null,
   "metadata": {
    "collapsed": true,
    "deletable": true,
    "editable": true
   },
   "outputs": [],
   "source": [
    "\n",
    "if zipped:\n",
    "    operator = gzip.open\n",
    "    lcoperator = gzip.GzipFile\n",
    "else:\n",
    "    operator = open\n",
    "    lcoperator = str\n"
   ]
  },
  {
   "cell_type": "code",
   "execution_count": null,
   "metadata": {
    "collapsed": false,
    "deletable": true,
    "editable": true
   },
   "outputs": [],
   "source": [
    "with operator(filename, 'rb') as f:\n",
    "    for lineno,line in enumerate(f):\n",
    "        print(lineno,line)"
   ]
  },
  {
   "cell_type": "code",
   "execution_count": null,
   "metadata": {
    "collapsed": false,
    "deletable": true,
    "editable": true,
    "scrolled": false
   },
   "outputs": [],
   "source": [
    "with operator(filename, 'rb') as f:\n",
    "    print(f)\n",
    "    for lineno,line in enumerate(f):\n",
    "        print(lineno,line)\n",
    "        s = line.split(':')\n",
    "        if len(s) <= 0:\n",
    "            continue\n",
    "        #if s[0] == 'SURVEY':\n",
    "        #    survey = s[1].strip()\n",
    "        elif s[0] == 'SNID':\n",
    "            snid = int(s[1].strip())\n",
    "        elif s[0] == 'IAUC':\n",
    "            iauc = s[1].strip()\n",
    "        elif s[0] == 'SNTYPE':\n",
    "            sn_type = int(s[1].strip())\n",
    "        elif s[0] == 'FILTERS':\n",
    "            filters = s[1].strip()\n",
    "        elif s[0] == 'RA':\n",
    "            ra = float(s[1].split('deg')[0].strip())\n",
    "        elif s[0] == 'DECL':\n",
    "            decl = float(s[1].split('deg')[0].strip())\n",
    "        elif s[0] == 'FAKE':\n",
    "            fake = int(s[1].split('(')[0].strip())\n",
    "        elif s[0] == 'MWEBV':\n",
    "            mwebv = float(s[1].split('MW')[0].strip())\n",
    "        elif s[0] == 'REDSHIFT_SPEC':\n",
    "            spec = float(s[1].split('+-')[0].strip()), float(s[1].split('+-')[1]    .strip())\n",
    "        elif s[0] == 'HOST_GALAXY_GALID':\n",
    "            hostid = int(s[1].strip())\n",
    "        elif s[0] == 'HOST_GALAXY_PHOTO-Z':\n",
    "            hostz = float(s[1].split('+-')[0].strip()), float(s[1].split('+-')[1    ].strip())\n",
    "        elif s[0] == 'NOBS':\n",
    "            nobs = int(s[1].strip())\n",
    "        elif s[0] == 'VARLIST':\n",
    "            break"
   ]
  },
  {
   "cell_type": "code",
   "execution_count": null,
   "metadata": {
    "collapsed": false,
    "deletable": true,
    "editable": true,
    "scrolled": true
   },
   "outputs": [],
   "source": [
    "lightcurve = pd.read_table(lcoperator(filename), sep='\\s+', header=0, \n",
    "                    skiprows= lineno, skipfooter=1,\n",
    "                    comment='DETECTION', engine='python',\n",
    "                    usecols=[1,2,4,5])"
   ]
  },
  {
   "cell_type": "code",
   "execution_count": null,
   "metadata": {
    "collapsed": false,
    "deletable": true,
    "editable": true
   },
   "outputs": [],
   "source": [
    "#lightcurve['SNR'] = lightcurve['FLUXCAL']/lightcurve['FLUXCALERR']\n",
    "#lightcurve['MAG'] = -2.5*np.log10(lightcurve['FLUXCAL'])+27.5\n",
    "#lightcurve['MAGERR'] = 2.5*np.log10(lightcurve['FLUXCALERR'])\n",
    "lightcurve['ZP'] = [27.5 for i in range(len(lightcurve['FLUXCAL']))]\n",
    "lightcurve['ZPSYS'] = ['ab' for i in range(len(lightcurve['FLUXCAL']))]"
   ]
  },
  {
   "cell_type": "code",
   "execution_count": null,
   "metadata": {
    "collapsed": false,
    "deletable": true,
    "editable": true
   },
   "outputs": [],
   "source": [
    "#lightcurve = lightcurve.drop('FIELD', 1)\n",
    "lightcurve\n"
   ]
  },
  {
   "cell_type": "code",
   "execution_count": null,
   "metadata": {
    "collapsed": false,
    "deletable": true,
    "editable": true
   },
   "outputs": [],
   "source": [
    "snid=np.array"
   ]
  },
  {
   "cell_type": "code",
   "execution_count": null,
   "metadata": {
    "collapsed": false,
    "deletable": true,
    "editable": true
   },
   "outputs": [],
   "source": [
    "params = {'snid': snid,'iauc': iauc,'fake': fake,'ra': ra,'decl': decl,'pixsize': -9.0,\n",
    "                  'nxpix': 0,'nypix': -9,'sn_type': sn_type,'nobs': nobs, 'ptrobs_min': -9,'ptrobs_max': -9,                   \n",
    "                  'mwebv': mwebv, 'mwebv_err': -9, 'redshift_helio': -9,'redshift_helio_err': -9,\n",
    "                  'redshift_final': hostz[0],'redshift_final_err': hostz[1],'hostid': hostid,\n",
    "                  'hostgal_photoz': hostz[0],'hostgal_photoz_err': hostz[1],'hostgal_specz': spec[0],'hostgal_specz_err': spec[1],\n",
    "                  'hostgal_snsep': -9.0,'hostgal_logmass': -9.0,'hostgal_logmass_err': -9.0,\n",
    "                  'hostgal_mag_g': -9.0,'hostgal_mag_r': -9.0,'hostgal_mag_i': -9.0,'hostgal_mag_z': -9.0,\n",
    "                  'hostgal_sb_fluxcal_g': -9.0,'hostgal_sb_fluxcal_r': -9.0,'hostgal_sb_fluxcal_i': -9.0,'hostgal_sb_fluxcal_z': -9.0,\n",
    "                  'peakmjd': -9.0,'search_type': -9}\n",
    "        "
   ]
  },
  {
   "cell_type": "code",
   "execution_count": null,
   "metadata": {
    "collapsed": false,
    "deletable": true,
    "editable": true
   },
   "outputs": [],
   "source": [
    "head=pd.DataFrame.from_dict({k:np.array([v]) for k, v in params.iteritems()})"
   ]
  },
  {
   "cell_type": "code",
   "execution_count": null,
   "metadata": {
    "collapsed": false,
    "deletable": true,
    "editable": true
   },
   "outputs": [],
   "source": [
    "head"
   ]
  },
  {
   "cell_type": "code",
   "execution_count": null,
   "metadata": {
    "collapsed": true,
    "deletable": true,
    "editable": true
   },
   "outputs": [],
   "source": [
    "from collections import defaultdict"
   ]
  },
  {
   "cell_type": "code",
   "execution_count": null,
   "metadata": {
    "collapsed": true,
    "deletable": true,
    "editable": true
   },
   "outputs": [],
   "source": [
    "a=defaultdict(list)"
   ]
  },
  {
   "cell_type": "code",
   "execution_count": null,
   "metadata": {
    "collapsed": true,
    "deletable": true,
    "editable": true
   },
   "outputs": [],
   "source": [
    "a['snid'].append(1)"
   ]
  },
  {
   "cell_type": "code",
   "execution_count": null,
   "metadata": {
    "collapsed": false,
    "deletable": true,
    "editable": true
   },
   "outputs": [],
   "source": [
    "a"
   ]
  },
  {
   "cell_type": "code",
   "execution_count": null,
   "metadata": {
    "collapsed": false,
    "deletable": true,
    "editable": true
   },
   "outputs": [],
   "source": [
    "t=lightcurve[lightcurve.FLT =='i']\n",
    "plt.errorbar(lightcurve[lightcurve.FLT =='g']['MJD'],lightcurve[lightcurve.FLT =='g']['MAG'],yerr=lightcurve[lightcurve.FLT =='g']['MAGERR'], capsize=0,fmt='--o')\n",
    "plt.errorbar(lightcurve[lightcurve.FLT =='r']['MJD'],lightcurve[lightcurve.FLT =='r']['MAG'],yerr=lightcurve[lightcurve.FLT =='r']['MAGERR'], capsize=0,fmt='--o')\n",
    "plt.errorbar(lightcurve[lightcurve.FLT =='i']['MJD'],lightcurve[lightcurve.FLT =='i']['MAG'],yerr=lightcurve[lightcurve.FLT =='i']['MAGERR'], capsize=0,fmt='--o')\n",
    "plt.errorbar(lightcurve[lightcurve.FLT =='z']['MJD'],lightcurve[lightcurve.FLT =='z']['MAG'],yerr=lightcurve[lightcurve.FLT =='z']['MAGERR'], capsize=0,fmt='--o')\n",
    "plt.gca().invert_yaxis()\n",
    "plt.show()"
   ]
  },
  {
   "cell_type": "code",
   "execution_count": null,
   "metadata": {
    "collapsed": true,
    "deletable": true,
    "editable": true
   },
   "outputs": [],
   "source": []
  }
 ],
 "metadata": {
  "anaconda-cloud": {},
  "kernelspec": {
   "display_name": "Python [default]",
   "language": "python",
   "name": "python2"
  },
  "language_info": {
   "codemirror_mode": {
    "name": "ipython",
    "version": 2
   },
   "file_extension": ".py",
   "mimetype": "text/x-python",
   "name": "python",
   "nbconvert_exporter": "python",
   "pygments_lexer": "ipython2",
   "version": "2.7.13"
  }
 },
 "nbformat": 4,
 "nbformat_minor": 1
}
